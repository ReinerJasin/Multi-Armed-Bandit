{
 "cells": [
  {
   "cell_type": "markdown",
   "id": "c07baad3",
   "metadata": {},
   "source": [
    "# **Implementation of the ϵ-Greedy Algorithm from scratch**"
   ]
  },
  {
   "cell_type": "markdown",
   "id": "25def056",
   "metadata": {},
   "source": [
    "## Import Libraries"
   ]
  },
  {
   "cell_type": "code",
   "execution_count": 9,
   "id": "dc4cd175",
   "metadata": {},
   "outputs": [],
   "source": [
    "import math\n",
    "import random\n",
    "import numpy as np\n",
    "\n",
    "from random import gauss,randint,uniform"
   ]
  },
  {
   "cell_type": "markdown",
   "id": "82c448de",
   "metadata": {},
   "source": [
    "## Hyperparameter"
   ]
  },
  {
   "cell_type": "code",
   "execution_count": 10,
   "id": "d3ac1ba8",
   "metadata": {},
   "outputs": [],
   "source": [
    "NUM_OF_ARMS = 3                  # Number of available actions\n",
    "EPSILON = 0.1                       # Epsilon is the probability of exploration\n",
    "INITIAL_STEP = NUM_OF_ARMS       # Initial step to give prior information to agent (min value = 1)\n",
    "NUM_OF_TRIALS = 300                 # How many times the agents can take action"
   ]
  },
  {
   "cell_type": "markdown",
   "id": "e9ba0a46",
   "metadata": {},
   "source": [
    "## BanditArm Class"
   ]
  },
  {
   "cell_type": "code",
   "execution_count": 11,
   "id": "c9fc185f",
   "metadata": {},
   "outputs": [],
   "source": [
    "# Bandit class represents AI Agent\n",
    "class BanditArm:\n",
    "  def __init__(self, mean, variance):\n",
    "    self.result = []\n",
    "    self.mean = mean\n",
    "    self.variance = variance\n",
    "\n",
    "  # The agent choose a bandit, so the bandit regenerate number as a reward to be returned\n",
    "  def random_number(self):\n",
    "    rand_result = random.gauss(self.mean, math.sqrt(self.variance))\n",
    "    self.result.append(rand_result)\n",
    "\n",
    "    return rand_result"
   ]
  },
  {
   "cell_type": "markdown",
   "id": "af00657f",
   "metadata": {},
   "source": [
    "## Problem setup"
   ]
  },
  {
   "cell_type": "code",
   "execution_count": 12,
   "id": "6e091d9e",
   "metadata": {},
   "outputs": [],
   "source": [
    "# Bandit empty list\n",
    "list_bandit_arm = []\n",
    "\n",
    "# Create a number of bandits\n",
    "n_arms = NUM_OF_ARMS\n",
    "\n",
    "# Randomize the mean variance for each of bandits\n",
    "for i in range(n_arms):\n",
    "  rand_mean = random.randint(0,20)\n",
    "  rand_var = random.uniform(0,10)\n",
    "\n",
    "  # Create bandit with corresponding mean and variance\n",
    "  list_bandit_arm.append(BanditArm(rand_mean, rand_var))"
   ]
  },
  {
   "cell_type": "code",
   "execution_count": 13,
   "id": "2cf69e72",
   "metadata": {},
   "outputs": [],
   "source": [
    "# HARDCODED VALUE (DEBUG)\n",
    "list_bandit_arm = [\n",
    "    # Bandit(-10, 3),\n",
    "    BanditArm(-5, 5),\n",
    "    BanditArm(-1,5),\n",
    "    BanditArm(10,2),\n",
    "    # Bandit(-3,10),\n",
    "]"
   ]
  },
  {
   "cell_type": "markdown",
   "id": "1ea7074c",
   "metadata": {},
   "source": [
    "## Functions"
   ]
  },
  {
   "cell_type": "code",
   "execution_count": 14,
   "id": "0fc95be1",
   "metadata": {},
   "outputs": [],
   "source": [
    "# Count mean of bandit\n",
    "# Input = item_list: list\n",
    "# Output = mean: int\n",
    "def count_mean(item_list):\n",
    "  total = 0\n",
    "\n",
    "  for item in item_list:\n",
    "    total += item\n",
    "\n",
    "  mean = total/len(item_list)\n",
    "  return mean\n",
    "  # print(mean)\n",
    "\n",
    "# Count variance of bandit\n",
    "# Input = item_list: list\n",
    "# Output = variance: int\n",
    "def count_variance(item_list):\n",
    "  total = 0\n",
    "  mean = count_mean(item_list)\n",
    "  for item in item_list:\n",
    "    total += math.pow(item-mean,2)\n",
    "\n",
    "  variance = total / len(item_list)\n",
    "  return variance\n",
    "  # print(variance)\n",
    "\n",
    "# FOR DEBUG ONLY\n",
    "def print_all_list():\n",
    "  for i, bandit in enumerate(list_bandit_arm):\n",
    "    print(f'bandit {i+1} : {bandit.result}')"
   ]
  },
  {
   "cell_type": "markdown",
   "id": "0ba871fb",
   "metadata": {},
   "source": [
    "## Bandit Trials Step"
   ]
  },
  {
   "cell_type": "code",
   "execution_count": 15,
   "id": "a2d06a7f",
   "metadata": {},
   "outputs": [],
   "source": [
    "mean_list = np.zeros(NUM_OF_ARMS)\n",
    "\n",
    "# print(random.uniform(0,1))\n",
    "\n",
    "# Initial step\n",
    "for i in range(INITIAL_STEP):\n",
    "  bandit_choice = np.random.randint(0,NUM_OF_ARMS)\n",
    "  # print(bandit_choice)\n",
    "  result = list_bandit_arm[bandit_choice].random_number()\n",
    "  # print(result)\n",
    "\n",
    "# print_all_list()\n",
    "\n",
    "# E-Greedy\n",
    "for i in range(NUM_OF_TRIALS):\n",
    "  prob = np.random.choice([0,1], p=[EPSILON,1-EPSILON])\n",
    "  if prob == 0:\n",
    "    # Explore\n",
    "    bandit_choice = np.random.randint(0,NUM_OF_ARMS)\n",
    "    # print(\"EXPLORE BANDIT \", (bandit_choice+1))\n",
    "    result = list_bandit_arm[bandit_choice].random_number()\n",
    "  else:\n",
    "    # Exploit\n",
    "    for i, bandit in enumerate(list_bandit_arm):\n",
    "      if bandit.result:\n",
    "        mean_list[i] = count_mean(bandit.result)\n",
    "\n",
    "    # print(f'MEAN LIST = {mean_list}')\n",
    "    bandit_choice = np.argmax(mean_list)\n",
    "    # print(f'best bandit index to exploit: {bandit_choice}')\n",
    "\n",
    "    # After getting the index of best bandit, we take the action\n",
    "    result = list_bandit_arm[bandit_choice].random_number()\n"
   ]
  },
  {
   "cell_type": "markdown",
   "id": "66efc9b6",
   "metadata": {},
   "source": [
    "## Counting bandit estimation"
   ]
  },
  {
   "cell_type": "code",
   "execution_count": 16,
   "id": "b6a9c0b6",
   "metadata": {},
   "outputs": [
    {
     "name": "stdout",
     "output_type": "stream",
     "text": [
      "bandit 1 : [-0.2989372844024736, -2.925528571919671, -3.709285592135493, -5.097967349570299, -6.346290031938926, -1.8062840378243705, -4.253608173957504, -6.502730627335534, -1.0501819536013626, -2.9166958629564]\n",
      "bandit 2 : [-2.178414296249783, -1.5047577892838508, -3.1880012489726903, -2.9778672438260747, -3.925012679257507, -1.69806102239551]\n",
      "bandit 3 : [11.368529896730177, 10.337494237934681, 10.162779902319835, 10.231927668353462, 11.529870231058922, 11.119779347500039, 7.211829972595284, 12.619576676474885, 10.972390324739003, 10.942081181538958, 10.700678513068658, 9.773149394578674, 8.87245550294658, 8.142243336698815, 11.799814323359785, 12.661958760807382, 10.648333566070162, 10.391059477125514, 8.219176525061904, 10.822697322208953, 10.301639311794409, 10.638734175420465, 10.087254225899246, 8.62332549301558, 12.132934363680253, 12.537718746423987, 11.144871188116207, 11.831274874080313, 11.206860069254864, 9.445266407474692, 8.876296221274584, 9.692799426341148, 10.315569593829592, 10.335867100225615, 7.596539016608194, 9.666657660501977, 11.046495813983046, 8.930529362344576, 10.7911223700146, 9.881168338021988, 12.659399533521581, 9.808857716080158, 8.549461582741538, 11.469918958112821, 9.633048885032549, 10.67655856258002, 10.313646685226352, 11.052574611184397, 9.038407063178449, 10.446537422152524, 13.083884369055234, 12.048817008232602, 9.27465341471268, 9.055164460373149, 8.63076740925416, 8.226221687884282, 11.053139396566861, 9.147415754897047, 9.353195321933777, 8.511139104197898, 8.772000861491353, 11.863571975415105, 9.451153883350047, 8.279338007678344, 12.481540349374233, 10.68838672881989, 9.488814455340545, 11.23246001509959, 7.1744125229775175, 9.3321054991966, 11.11057704442807, 10.080023907541474, 11.08625873694666, 9.750111053619971, 12.304568105881923, 10.077948293806989, 11.703056777550952, 9.841787545369119, 9.78509198411238, 11.324329637621437, 10.583341224615275, 10.221323630886303, 8.781495683689336, 9.924868121119566, 9.7637044710947, 11.23980222755482, 9.982235493065987, 10.206445897679519, 12.580925408641356, 8.477001158967447, 9.38099326460203, 10.448976455948106, 10.887199280745202, 9.574794756871665, 10.935628442846209, 9.835425960165725, 10.09015373975313, 6.600898227393987, 8.859210937974824, 9.186626547450299, 10.5433052541289, 10.53630870176909, 12.323712833242464, 8.380446472138981, 9.089559114796856, 8.088314382530363, 7.303167753036441, 9.64019980415687, 11.180665381513343, 9.273860805452, 10.196398200798308, 9.461002584911897, 8.955166162770038, 11.372928791637577, 12.418236411200237, 11.99222163596865, 10.523564090357073, 8.976049756301435, 10.847826870676455, 8.64288914044955, 9.641140192335795, 10.472624420550886, 12.444906987479547, 9.265920651661927, 9.121746686813976, 11.94383138219731, 11.745070013325606, 10.088093744988589, 8.405677623791746, 12.598743310834704, 11.904656099650895, 11.86493043046022, 8.938348320838369, 10.20354167855433, 9.853405679443258, 11.15442150895245, 11.563238606487293, 12.217430663407587, 12.00249863010576, 8.712804500022774, 9.227138972408198, 11.09738738034897, 10.956547528294605, 10.421252382669104, 10.198944619820585, 9.94276171473435, 9.430495822046293, 9.42942042977981, 11.806701186017147, 11.736255074399338, 11.18764711214791, 12.155228872347191, 10.234124924813079, 10.767862460175877, 9.209467822060281, 8.33715887827483, 10.232580527291095, 11.815676190787485, 8.923137022838263, 12.006135541054991, 8.916550357472907, 9.229674613815494, 8.633851686114365, 9.133248707373319, 9.588941503733905, 9.233121156416704, 8.863205593214762, 11.41893688395773, 8.860532134978772, 10.737344187110867, 11.544720773027324, 9.1361163537213, 9.59432223019353, 11.455883286128477, 9.425979142804891, 12.451527558637936, 10.632293018598842, 10.585508574554966, 10.407917081624703, 11.590219606748523, 8.499228143879884, 10.042357306347734, 8.165115367418517, 7.605419198565679, 10.96240978861215, 13.008492264134755, 8.5113294961752, 9.360878017777743, 10.98268483513983, 11.03170000331772, 9.292019075385035, 9.271562909028512, 10.425089814051498, 9.414702638753141, 10.72636454510319, 11.023513305812132, 9.162575045096563, 8.466409938007649, 11.585353668446544, 8.674635558896238, 6.834875030308732, 8.995023577673837, 11.63144250597668, 12.481445470517501, 12.59436819400416, 9.63053042807775, 9.441341537798888, 11.249478440536253, 10.427657352657583, 10.228879275027923, 12.065466958413825, 10.737458268517594, 8.01376157737675, 9.294585764015993, 7.7989434808523495, 10.552559432158498, 11.70885599339877, 11.14845473205406, 9.496959103156255, 8.837317470576732, 9.492766778770967, 10.72893596129154, 11.11179974114643, 10.65415709656451, 12.783303253982867, 9.60479961009227, 10.16969035041269, 10.455316550462316, 10.000444126240724, 12.998077822855041, 10.135260761223584, 9.802205067403756, 8.918625827230366, 11.333010359744652, 9.2791239309027, 7.649423375097239, 8.817167147374878, 10.024115400969919, 9.568204614527154, 9.27404886422375, 9.40195709125406, 8.788147274594238, 8.963178349096696, 12.581827994988847, 8.76066147023461, 7.759651387752707, 9.094340119843322, 8.581780587161587, 12.349530156424908, 10.548741430801067, 9.800702987706188, 10.968057680969594, 9.204503113559085, 11.483768537627382, 11.248123713541762, 10.875196111146495, 9.369794885262147, 9.235181470546241, 8.408802353701724, 9.844993469015662, 9.114644890782827, 10.846591829830963, 8.742506634209876, 8.941742774093376, 12.604953085691426, 7.637653159824925, 9.101232461650525, 10.185901724960996, 8.579936638493189, 9.799301046344551, 11.734894553786297, 10.73350701561208, 8.13047878255772, 8.282649793592796, 11.197795245153483, 9.905020476573664, 11.652032770762679, 10.57533604014026, 11.59891704001563, 7.45782968170599, 9.45931681343047, 9.664505689551918, 10.483033804220923, 10.94838759692531, 8.478398500811165, 7.683663196284195, 7.52899977863251]\n",
      "[-3.49075095 -2.57868571 10.11845545]\n",
      "Best bandit to exploit = Bandit 3\n"
     ]
    }
   ],
   "source": [
    "print_all_list()\n",
    "\n",
    "for i, bandit in enumerate(list_bandit_arm):\n",
    "  if bandit.result:\n",
    "    mean_list[i] = count_mean(bandit.result)\n",
    "\n",
    "print(mean_list)\n",
    "\n",
    "print(f'Best bandit to exploit = Bandit {np.argmax(mean_list) + 1}')"
   ]
  },
  {
   "cell_type": "markdown",
   "id": "81c6118b",
   "metadata": {},
   "source": [
    "## Check with result"
   ]
  },
  {
   "cell_type": "code",
   "execution_count": 17,
   "id": "c37f2d0d",
   "metadata": {},
   "outputs": [
    {
     "name": "stdout",
     "output_type": "stream",
     "text": [
      "BANDIT 1 is rolled 10 times\n",
      "original mean = -5\n",
      "counted mean = -3.490750948564204\n",
      "\n",
      "original variance= 5\n",
      "counted variance= 4.006947397410331\n",
      "====================================\n",
      "BANDIT 2 is rolled 6 times\n",
      "original mean = -1\n",
      "counted mean = -2.5786857133309025\n",
      "\n",
      "original variance= 5\n",
      "counted variance= 0.738707642518206\n",
      "====================================\n",
      "BANDIT 3 is rolled 287 times\n",
      "original mean = 10\n",
      "counted mean = 10.118455452055043\n",
      "\n",
      "original variance= 2\n",
      "counted variance= 1.819146114972958\n",
      "====================================\n"
     ]
    }
   ],
   "source": [
    "# DEBUG ONLY\n",
    "for i, bandit in enumerate(list_bandit_arm):\n",
    "  bandit_mean = count_mean(bandit.result)\n",
    "  bandit_var = count_variance(bandit.result)\n",
    "\n",
    "  print(f'BANDIT {i+1} is rolled {len(bandit.result)} times')\n",
    "  print(f'original mean = {bandit.mean}')\n",
    "  print(f'counted mean = {bandit_mean}')\n",
    "  print()\n",
    "  print(f'original variance= {bandit.variance}')\n",
    "  print(f'counted variance= {bandit_var}')\n",
    "  print('====================================')"
   ]
  },
  {
   "cell_type": "markdown",
   "id": "d1f6ecae",
   "metadata": {},
   "source": [
    "## Calculating regret metric"
   ]
  },
  {
   "cell_type": "code",
   "execution_count": 18,
   "id": "445326a8",
   "metadata": {},
   "outputs": [
    {
     "name": "stdout",
     "output_type": "stream",
     "text": [
      "Total Rewards                = 2853.617090974169\n",
      "Total Expected Value         = 3065.892001972678\n",
      "Regret                       = 212.27491099850886\n",
      "\n",
      "================================================\n",
      "\n",
      "Rewards / step               = 9.417878188033562\n",
      "Best Expected Value / step   = 10.118455452055043\n",
      "Regret / step                = 0.7005772640214813\n"
     ]
    }
   ],
   "source": [
    "# Total reward\n",
    "total_reward = 0\n",
    "for i, bandit in enumerate(list_bandit_arm):\n",
    "  sum(bandit.result)\n",
    "  total_reward += sum(bandit.result)\n",
    "\n",
    "print(f'Total Rewards                = {total_reward}')\n",
    "\n",
    "# Largest expected monetary value\n",
    "total_expected_value = max(mean_list) * (NUM_OF_TRIALS + INITIAL_STEP)\n",
    "print(f'Total Expected Value         = {total_expected_value}')\n",
    "\n",
    "regret = total_expected_value - total_reward\n",
    "print(f'Regret                       = {regret}')\n",
    "\n",
    "print()\n",
    "print('================================================')\n",
    "print()\n",
    "\n",
    "print(f'Rewards / step               = {total_reward / (NUM_OF_TRIALS + INITIAL_STEP)}')\n",
    "\n",
    "print(f'Best Expected Value / step   = { max(mean_list) }')\n",
    "\n",
    "print(f'Regret / step                = {regret / (NUM_OF_TRIALS + INITIAL_STEP)}')\n"
   ]
  },
  {
   "cell_type": "code",
   "execution_count": null,
   "id": "936b8740",
   "metadata": {},
   "outputs": [],
   "source": []
  }
 ],
 "metadata": {
  "kernelspec": {
   "display_name": "venv",
   "language": "python",
   "name": "python3"
  },
  "language_info": {
   "codemirror_mode": {
    "name": "ipython",
    "version": 3
   },
   "file_extension": ".py",
   "mimetype": "text/x-python",
   "name": "python",
   "nbconvert_exporter": "python",
   "pygments_lexer": "ipython3",
   "version": "3.13.2"
  }
 },
 "nbformat": 4,
 "nbformat_minor": 5
}
