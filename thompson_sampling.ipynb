{
 "cells": [
  {
   "cell_type": "markdown",
   "metadata": {},
   "source": [
    "# Thompson Sampling on Bernoulli"
   ]
  },
  {
   "cell_type": "code",
   "execution_count": 7,
   "metadata": {},
   "outputs": [],
   "source": [
    "import numpy as np"
   ]
  },
  {
   "cell_type": "code",
   "execution_count": 8,
   "metadata": {
    "vscode": {
     "languageId": "plaintext"
    }
   },
   "outputs": [],
   "source": [
    "NUM_OF_BANDITS = 10\n",
    "NUM_OF_TRIALS = 5000"
   ]
  },
  {
   "cell_type": "code",
   "execution_count": 23,
   "metadata": {
    "vscode": {
     "languageId": "plaintext"
    }
   },
   "outputs": [],
   "source": [
    "class TS_Bandit:\n",
    "    def __init__(self, probability):\n",
    "        # For log purposes\n",
    "        self.result = []\n",
    "        \n",
    "        # latent variables\n",
    "        self.probability = probability\n",
    "        \n",
    "        # Bandit will have the property of beta distribution as the conjugate prior of the bernoulli distribution\n",
    "        self.alpha = 1\n",
    "        self.beta = 1        \n",
    "    \n",
    "    def update_posterior(self, reward):\n",
    "        if reward:\n",
    "            self.alpha += 1\n",
    "        else:\n",
    "            self.beta += 1\n",
    "    \n",
    "    def pull_bandit_arm(self):\n",
    "        # Generate random bernoulli as reward\n",
    "        # parameter:\n",
    "        # p = success probability\n",
    "        # f(x) = p^x * (1-p)^1-x\n",
    "        reward = np.random.binomial(n=1, p=self.probability, size=None)\n",
    "        \n",
    "        self.update_posterior(reward)\n",
    "        \n",
    "        return reward\n",
    "        "
   ]
  },
  {
   "cell_type": "code",
   "execution_count": 29,
   "metadata": {},
   "outputs": [],
   "source": [
    "def sample_reward_probability(bandit_list):\n",
    "    return [np.random.beta(bandit.alpha, bandit.beta) for bandit in bandit_list]"
   ]
  },
  {
   "cell_type": "code",
   "execution_count": 30,
   "metadata": {},
   "outputs": [],
   "source": [
    "temp_bandit = TS_Bandit(0.5)"
   ]
  },
  {
   "cell_type": "code",
   "execution_count": 31,
   "metadata": {},
   "outputs": [
    {
     "name": "stdout",
     "output_type": "stream",
     "text": [
      "0\n",
      "4934 || 5068\n"
     ]
    }
   ],
   "source": [
    "for i in range (10000):\n",
    "    reward = temp_bandit.pull_bandit_arm()\n",
    "\n",
    "print(reward)\n",
    "print(f'{temp_bandit.alpha} || {temp_bandit.beta}')"
   ]
  },
  {
   "cell_type": "code",
   "execution_count": 32,
   "metadata": {},
   "outputs": [],
   "source": [
    "bandit_list = [\n",
    "    TS_Bandit(0.5),\n",
    "    TS_Bandit(0.6),\n",
    "    TS_Bandit(0.7),\n",
    "    TS_Bandit(0.8),\n",
    "    TS_Bandit(0.85)\n",
    "]"
   ]
  },
  {
   "cell_type": "code",
   "execution_count": 34,
   "metadata": {},
   "outputs": [
    {
     "data": {
      "text/plain": [
       "[0.5383431170179358,\n",
       " 0.49892870276328183,\n",
       " 0.36410706427474815,\n",
       " 0.24940233176366455,\n",
       " 0.01596542331156315]"
      ]
     },
     "execution_count": 34,
     "metadata": {},
     "output_type": "execute_result"
    }
   ],
   "source": [
    "sample_reward_probability(bandit_list)"
   ]
  },
  {
   "cell_type": "code",
   "execution_count": null,
   "metadata": {},
   "outputs": [],
   "source": []
  }
 ],
 "metadata": {
  "kernelspec": {
   "display_name": "Python 3 (ipykernel)",
   "language": "python",
   "name": "python3"
  },
  "language_info": {
   "codemirror_mode": {
    "name": "ipython",
    "version": 3
   },
   "file_extension": ".py",
   "mimetype": "text/x-python",
   "name": "python",
   "nbconvert_exporter": "python",
   "pygments_lexer": "ipython3",
   "version": "3.9.13"
  }
 },
 "nbformat": 4,
 "nbformat_minor": 2
}
