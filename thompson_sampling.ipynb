{
 "cells": [
  {
   "cell_type": "markdown",
   "metadata": {},
   "source": [
    "# Thompson Sampling on Bernoulli"
   ]
  },
  {
   "cell_type": "code",
   "execution_count": 3,
   "metadata": {},
   "outputs": [],
   "source": [
    "import numpy as np"
   ]
  },
  {
   "cell_type": "code",
   "execution_count": 4,
   "metadata": {
    "vscode": {
     "languageId": "plaintext"
    }
   },
   "outputs": [],
   "source": [
    "NUM_OF_BANDITS = 10\n",
    "NUM_OF_TRIALS = 5000"
   ]
  },
  {
   "cell_type": "code",
   "execution_count": 21,
   "metadata": {
    "vscode": {
     "languageId": "plaintext"
    }
   },
   "outputs": [],
   "source": [
    "class TS_Bandit:\n",
    "    def __init__(self, probability):\n",
    "        # For log purposes\n",
    "        self.result = []\n",
    "        \n",
    "        # latent variables\n",
    "        self.probability = probability\n",
    "        \n",
    "        # Bandit will have the property of beta distribution as the conjugate prior of the bernoulli distribution\n",
    "        self.alfa = 0\n",
    "        self.beta = 0        \n",
    "    \n",
    "    def update_posterior(self, reward):\n",
    "        if reward:\n",
    "            self.alfa += 1\n",
    "        else:\n",
    "            self.beta += 1\n",
    "    \n",
    "    def pull_bandit_arm(self):\n",
    "        # Generate random bernoulli as reward\n",
    "        # parameter:\n",
    "        # p = success probability\n",
    "        # f(x) = p^x * (1-p)^1-x\n",
    "        reward = np.random.binomial(n=1, p=self.probability, size=None)\n",
    "        \n",
    "        self.update_posterior(reward)\n",
    "        \n",
    "        return reward\n",
    "        "
   ]
  },
  {
   "cell_type": "code",
   "execution_count": 52,
   "metadata": {},
   "outputs": [],
   "source": [
    "temp_bandit = TS_Bandit(0.8)"
   ]
  },
  {
   "cell_type": "code",
   "execution_count": 62,
   "metadata": {},
   "outputs": [
    {
     "name": "stdout",
     "output_type": "stream",
     "text": [
      "0\n",
      "80165 || 19835\n"
     ]
    }
   ],
   "source": [
    "for i in range (10000):\n",
    "    reward = temp_bandit.pull_bandit_arm()\n",
    "\n",
    "print(reward)\n",
    "print(f'{temp_bandit.alfa} || {temp_bandit.beta}')"
   ]
  },
  {
   "cell_type": "code",
   "execution_count": null,
   "metadata": {},
   "outputs": [],
   "source": []
  },
  {
   "cell_type": "code",
   "execution_count": null,
   "metadata": {},
   "outputs": [],
   "source": []
  }
 ],
 "metadata": {
  "kernelspec": {
   "display_name": "Python 3 (ipykernel)",
   "language": "python",
   "name": "python3"
  },
  "language_info": {
   "codemirror_mode": {
    "name": "ipython",
    "version": 3
   },
   "file_extension": ".py",
   "mimetype": "text/x-python",
   "name": "python",
   "nbconvert_exporter": "python",
   "pygments_lexer": "ipython3",
   "version": "3.9.13"
  }
 },
 "nbformat": 4,
 "nbformat_minor": 2
}
