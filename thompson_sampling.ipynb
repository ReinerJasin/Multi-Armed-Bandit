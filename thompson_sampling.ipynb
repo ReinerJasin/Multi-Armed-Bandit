{
 "cells": [
  {
   "cell_type": "markdown",
   "metadata": {},
   "source": [
    "# Thompson Sampling on Bernoulli"
   ]
  },
  {
   "cell_type": "markdown",
   "metadata": {},
   "source": [
    "## Import required libraries"
   ]
  },
  {
   "cell_type": "code",
   "execution_count": 1,
   "metadata": {},
   "outputs": [],
   "source": [
    "import numpy as np\n",
    "import matplotlib.pyplot as plt\n",
    "\n",
    "from scipy.stats import beta"
   ]
  },
  {
   "cell_type": "markdown",
   "metadata": {},
   "source": [
    "## Set hyperparameters"
   ]
  },
  {
   "cell_type": "code",
   "execution_count": 2,
   "metadata": {
    "vscode": {
     "languageId": "plaintext"
    }
   },
   "outputs": [],
   "source": [
    "NUM_OF_BANDITS = 10\n",
    "NUM_OF_TRIALS = 5000\n",
    "\n",
    "# Variables to count regret metrics\n",
    "total_rewards = 0"
   ]
  },
  {
   "cell_type": "markdown",
   "metadata": {},
   "source": [
    "## Create our bandit model"
   ]
  },
  {
   "cell_type": "markdown",
   "metadata": {},
   "source": [
    "Our bandit model will have the following variables:\n",
    "* result = Used to track all the result after pulling the bandit's arm, will be used only for logging purposes.\n",
    "* probability = The probability of giving the success reward (value = 1)\n",
    "* alpha = total amount of FAILURE (0) from pulling the bandit arm\n",
    "* beta = total amount of SUCCESS (1) from pulling the bandit arm"
   ]
  },
  {
   "cell_type": "code",
   "execution_count": 3,
   "metadata": {
    "vscode": {
     "languageId": "plaintext"
    }
   },
   "outputs": [],
   "source": [
    "class TS_Bandit:\n",
    "    def __init__(self, probability):\n",
    "        # For log purposes\n",
    "        self.result = []\n",
    "        \n",
    "        # latent variables\n",
    "        self.probability = probability\n",
    "        \n",
    "        # Bandit will have the property of beta distribution as the conjugate prior of the bernoulli distribution\n",
    "        # Alpha and Beta is set to 0.04 by default to prevent error when sampling, it needs to be a very small number\n",
    "        self.alpha = 0.04\n",
    "        self.beta = 0.04\n",
    "    \n",
    "    def update_posterior(self, reward):\n",
    "        if reward:\n",
    "            self.alpha += 1          # Reward = 1 or TRUE, alpha add one success\n",
    "        else:\n",
    "            self.beta += 1           # Reward = 0 or FALSE, beta add one failure\n",
    "    \n",
    "    def pull_bandit_arm(self):\n",
    "        # Generate random bernoulli as reward\n",
    "        # parameter:\n",
    "        # p = success probability\n",
    "        # f(x) = p^x * (1-p)^1-x\n",
    "        reward = np.random.binomial(n=1, p=self.probability, size=None)\n",
    "        \n",
    "        # self.update_posterior(reward)\n",
    "\n",
    "        self.result.append(reward)\n",
    "        \n",
    "        return reward\n",
    "        "
   ]
  },
  {
   "cell_type": "markdown",
   "metadata": {},
   "source": [
    "`update_posterior(reward)` function is used to update the knowledge after pulling a bandit. The function will increment the value of alpha or beta depends on the reward when pulling.\n",
    "\n",
    "`pull_bandit_arm()` will generate random reward either 0 or 1 (bernoulli), after that it will automatically update the posterior and return a reward."
   ]
  },
  {
   "cell_type": "code",
   "execution_count": 4,
   "metadata": {},
   "outputs": [],
   "source": [
    "def sample_reward_probability(bandit_list):\n",
    "    return [np.random.beta(bandit.alpha, bandit.beta) for bandit in bandit_list]"
   ]
  },
  {
   "cell_type": "markdown",
   "metadata": {},
   "source": [
    "`sample_reward_probability(bandit_list)` will get all the bandit model, and for each bandit, it will draw sample from a beta distribution."
   ]
  },
  {
   "cell_type": "markdown",
   "metadata": {},
   "source": [
    "## Generate number of bandit with random discrete probability (bernoulli)"
   ]
  },
  {
   "cell_type": "code",
   "execution_count": 5,
   "metadata": {},
   "outputs": [
    {
     "name": "stdout",
     "output_type": "stream",
     "text": [
      "10 random bandits successfully generated with random probability!\n"
     ]
    }
   ],
   "source": [
    "bandit_list = []\n",
    "\n",
    "for i in range(NUM_OF_BANDITS):\n",
    "    bandit_list.append(TS_Bandit(np.random.rand()))\n",
    "\n",
    "print(f'{NUM_OF_BANDITS} random bandits successfully generated with random probability!')"
   ]
  },
  {
   "cell_type": "code",
   "execution_count": 6,
   "metadata": {},
   "outputs": [],
   "source": [
    "# # Hardcoded (DEBUG Only)\n",
    "# bandit_list = [\n",
    "#     TS_Bandit(0.5),\n",
    "#     TS_Bandit(0.6),\n",
    "#     TS_Bandit(0.7),\n",
    "#     TS_Bandit(0.8),\n",
    "#     TS_Bandit(0.85)\n",
    "# ]"
   ]
  },
  {
   "cell_type": "markdown",
   "metadata": {},
   "source": [
    "## Thompson Sampling Step-bystep"
   ]
  },
  {
   "cell_type": "markdown",
   "metadata": {},
   "source": [
    "We successfully set the whole thing up, now it's time to explore and exploit with the thompson sampling."
   ]
  },
  {
   "cell_type": "markdown",
   "metadata": {},
   "source": [
    "## 1. Take a random sample from all bandits"
   ]
  },
  {
   "cell_type": "markdown",
   "metadata": {},
   "source": [
    "The sampled reward will basically just be a random number, because the alpha and beta (prior knowledge) from all bandits is currently 1, indicating that our agent have no idea about which bandit will return the best possible reward"
   ]
  },
  {
   "cell_type": "code",
   "execution_count": 7,
   "metadata": {},
   "outputs": [
    {
     "name": "stdout",
     "output_type": "stream",
     "text": [
      "[1.0, 6.671241477464992e-12, 5.0081869496011545e-14, 0.0002311180330108508, 0.999999999999958, 1.0, 1.1089419685815452e-06, 0.9936019030948796, 1.0, 0.00019538484739903972]\n"
     ]
    }
   ],
   "source": [
    "sampled_reward = sample_reward_probability(bandit_list)\n",
    "print(sampled_reward)"
   ]
  },
  {
   "cell_type": "markdown",
   "metadata": {},
   "source": [
    "## 2. Pick a best arm based on the sampled beta distribution"
   ]
  },
  {
   "cell_type": "code",
   "execution_count": 8,
   "metadata": {},
   "outputs": [
    {
     "name": "stdout",
     "output_type": "stream",
     "text": [
      "Best bandit sample index: 0\n"
     ]
    }
   ],
   "source": [
    "bandit_choice = np.argmax(sampled_reward)\n",
    "print(f'Best bandit sample index: {bandit_choice}')"
   ]
  },
  {
   "cell_type": "markdown",
   "metadata": {},
   "source": [
    "We sampled random number using the beta distribution of each bandit. From the result, we must take the maximum value of the sample and use it as the choice of bandit we are going to pull (best arm)."
   ]
  },
  {
   "cell_type": "markdown",
   "metadata": {},
   "source": [
    "## 3. Pull the best bandit arm and observe the reward"
   ]
  },
  {
   "cell_type": "code",
   "execution_count": 9,
   "metadata": {},
   "outputs": [
    {
     "name": "stdout",
     "output_type": "stream",
     "text": [
      "Rolled the bandit index-0 and get the reward: 0\n"
     ]
    }
   ],
   "source": [
    "# Pull best bandit arm\n",
    "reward = bandit_list[bandit_choice].pull_bandit_arm()\n",
    "print(f'Rolled the bandit index-{bandit_choice} and get the reward: {reward}')"
   ]
  },
  {
   "cell_type": "markdown",
   "metadata": {},
   "source": [
    "## 4. Update the corresponding bandit posterior distribution"
   ]
  },
  {
   "cell_type": "code",
   "execution_count": 10,
   "metadata": {},
   "outputs": [
    {
     "name": "stdout",
     "output_type": "stream",
     "text": [
      "Updated the bandit posterior distribution\n"
     ]
    }
   ],
   "source": [
    "# Update the knowledge of the bandit\n",
    "bandit_list[bandit_choice].update_posterior(reward)\n",
    "print(f'Updated the bandit posterior distribution')"
   ]
  },
  {
   "cell_type": "markdown",
   "metadata": {},
   "source": [
    "Now That's one iteration of how thompson sampling works. Repeat this time until we reach the `NUM_OF_TRIALS`."
   ]
  },
  {
   "cell_type": "markdown",
   "metadata": {},
   "source": [
    "## 5. Iterate until the `NUM_OF_TRIALS`"
   ]
  },
  {
   "cell_type": "code",
   "execution_count": 11,
   "metadata": {},
   "outputs": [],
   "source": [
    "for i in range(NUM_OF_TRIALS):\n",
    "    \n",
    "    # 1. Sample Reward\n",
    "    sampled_reward = sample_reward_probability(bandit_list)\n",
    "\n",
    "    # 2. Pick the best arm\n",
    "    bandit_choice = np.argmax(sampled_reward)\n",
    "\n",
    "    # 3. Pull the corresponding bandit\n",
    "    reward = bandit_list[bandit_choice].pull_bandit_arm()\n",
    "\n",
    "    # 4. Update Posterior\n",
    "    bandit_list[bandit_choice].update_posterior(reward)"
   ]
  },
  {
   "cell_type": "markdown",
   "metadata": {},
   "source": [
    "## Let's inspect which bandit have the best overall reward after all iterations"
   ]
  },
  {
   "cell_type": "code",
   "execution_count": 12,
   "metadata": {},
   "outputs": [
    {
     "name": "stdout",
     "output_type": "stream",
     "text": [
      "Bandit index-0\n",
      "number of picked: 1.28\n",
      "alpha beta = 0.0 - 2.0\n",
      "observed probability: 1.92%\n",
      "==============================\n",
      "Bandit index-1\n",
      "number of picked: 7.28\n",
      "alpha beta = 4.0 - 4.0\n",
      "observed probability: 50.0%\n",
      "==============================\n",
      "Bandit index-2\n",
      "number of picked: 4961.28\n",
      "alpha beta = 4769.0 - 193.0\n",
      "observed probability: 96.11%\n",
      "==============================\n",
      "Bandit index-3\n",
      "number of picked: 1.28\n",
      "alpha beta = 0.0 - 2.0\n",
      "observed probability: 1.92%\n",
      "==============================\n",
      "Bandit index-4\n",
      "number of picked: 1.28\n",
      "alpha beta = 0.0 - 2.0\n",
      "observed probability: 1.92%\n",
      "==============================\n",
      "Bandit index-5\n",
      "number of picked: 9.28\n",
      "alpha beta = 6.0 - 4.0\n",
      "observed probability: 59.92%\n",
      "==============================\n",
      "Bandit index-6\n",
      "number of picked: 5.28\n",
      "alpha beta = 2.0 - 4.0\n",
      "observed probability: 33.55%\n",
      "==============================\n",
      "Bandit index-7\n",
      "number of picked: 1.28\n",
      "alpha beta = 0.0 - 2.0\n",
      "observed probability: 1.92%\n",
      "==============================\n",
      "Bandit index-8\n",
      "number of picked: 4.28\n",
      "alpha beta = 2.0 - 3.0\n",
      "observed probability: 40.16%\n",
      "==============================\n",
      "Bandit index-9\n",
      "number of picked: 1.28\n",
      "alpha beta = 0.0 - 2.0\n",
      "observed probability: 1.92%\n",
      "==============================\n"
     ]
    }
   ],
   "source": [
    "for i,bandit in enumerate(bandit_list):\n",
    "    print(f'Bandit index-{i}')\n",
    "    print(f'number of picked: {bandit.alpha + bandit.beta - 0.8}')     # -2 the initial alpha and beta\n",
    "    \n",
    "    # print(f'{bandit.result}')\n",
    "    \n",
    "    print(f'alpha beta = {bandit.alpha-0.04} - {bandit.beta-0.04}')\n",
    "\n",
    "    print(f'observed probability: {round(bandit.alpha / (bandit.alpha + bandit.beta) * 100,2)}%')\n",
    "    \n",
    "    print('==============================')"
   ]
  },
  {
   "cell_type": "markdown",
   "metadata": {},
   "source": [
    "**Thompson sampling seems to have a high capabilities in exploiting the best arm in such a short time**, we can tell that this algorithm is one of the best choice to actually be tested on real life cases. Despite this finding, Thompson Sampling also have weaknesses. **Thompson sampling bandit is not good at observing each of the bandit arm**, as the number of observations on the un-exploited bandit is very low. But low success rate does not mean that thompson sampling is bad at exploration. We will see why."
   ]
  },
  {
   "cell_type": "markdown",
   "metadata": {},
   "source": [
    "> Notice that the observed probability for the bandit that is almost never got pulled is very unprecise. In fact, Thompson sampling does not have to give you the exact or at least really narrow probability range. The algorithm just need to understand which bandit tends to give more reward than the other and that is enough to exploit the whole system."
   ]
  },
  {
   "cell_type": "markdown",
   "metadata": {},
   "source": [
    "## Show the beta distribution graph for each bandit"
   ]
  },
  {
   "cell_type": "code",
   "execution_count": 13,
   "metadata": {},
   "outputs": [
    {
     "data": {
      "image/png": "[encoded data removed]",
      "text/plain": [
       "<Figure size 1500x600 with 10 Axes>"
      ]
     },
     "metadata": {},
     "output_type": "display_data"
    }
   ],
   "source": [
    "fig, axes = plt.subplots(nrows=2, ncols=5, figsize=(15, 6))  # 2 rows, 5 columns for 10 bandits\n",
    "\n",
    "axes = axes.flatten()  # Flatten the 2D axes array for iteration\n",
    "\n",
    "for i, (bandit, ax) in enumerate(zip(bandit_list, axes)):\n",
    "    x = np.linspace(0, 1, 10000)  # Range of x values\n",
    "    y = beta.pdf(x, bandit.alpha, bandit.beta)  # Compute the Beta PDF\n",
    "\n",
    "    ax.plot(x, y, 'b-', label=f'Beta({bandit.alpha},{bandit.beta})')\n",
    "    ax.set_title(f'Bandit {i+1}')\n",
    "    ax.set_xlabel('Probability')\n",
    "    ax.set_ylabel('Density')\n",
    "    ax.legend()\n",
    "    ax.grid(True)\n",
    "    ax.set_ylim(0, 10)\n",
    "\n",
    "# Adjust layout for better spacing\n",
    "plt.tight_layout()\n",
    "plt.show()"
   ]
  },
  {
   "cell_type": "markdown",
   "metadata": {},
   "source": [
    "By looking at the beta distribution graph, we can tell that the that graph that has the highest skewness is the best bandit.\n",
    "\n",
    "We notice this by the number of times it gets pulled compared to the other, meaning that the bandit is very sure that this is the right bandit which will give the best expected reward. The skewness of the graph is also helpful as it opens up possibilities for the other bandit to overcome current best bandit because the range on the right and left side of the graph is still high enough."
   ]
  },
  {
   "cell_type": "markdown",
   "metadata": {},
   "source": [
    "## Let's just reveal the stats of each bandit actual probabilities and see if our agent had made the correct decision"
   ]
  },
  {
   "cell_type": "code",
   "execution_count": 17,
   "metadata": {},
   "outputs": [
    {
     "name": "stdout",
     "output_type": "stream",
     "text": [
      "Bandit index-0\n",
      "number of picked: 2\n",
      "alpha beta = 0 - 2\n",
      "observed probability: 1.92%\n",
      "actual probability: 15.7%\n",
      "==============================\n",
      "Bandit index-1\n",
      "number of picked: 8\n",
      "alpha beta = 4 - 4\n",
      "observed probability: 50.0%\n",
      "actual probability: 69.36%\n",
      "==============================\n",
      "Bandit index-2\n",
      "number of picked: 4962\n",
      "alpha beta = 4769 - 193\n",
      "observed probability: 96.11%\n",
      "actual probability: 96.25%\n",
      "==============================\n",
      "Bandit index-3\n",
      "number of picked: 2\n",
      "alpha beta = 0 - 2\n",
      "observed probability: 1.92%\n",
      "actual probability: 5.17%\n",
      "==============================\n",
      "Bandit index-4\n",
      "number of picked: 2\n",
      "alpha beta = 0 - 2\n",
      "observed probability: 1.92%\n",
      "actual probability: 71.79%\n",
      "==============================\n",
      "Bandit index-5\n",
      "number of picked: 10\n",
      "alpha beta = 6 - 4\n",
      "observed probability: 59.92%\n",
      "actual probability: 75.22%\n",
      "==============================\n",
      "Bandit index-6\n",
      "number of picked: 6\n",
      "alpha beta = 2 - 4\n",
      "observed probability: 33.55%\n",
      "actual probability: 59.27%\n",
      "==============================\n",
      "Bandit index-7\n",
      "number of picked: 2\n",
      "alpha beta = 0 - 2\n",
      "observed probability: 1.92%\n",
      "actual probability: 0.16%\n",
      "==============================\n",
      "Bandit index-8\n",
      "number of picked: 5\n",
      "alpha beta = 2 - 3\n",
      "observed probability: 40.16%\n",
      "actual probability: 31.03%\n",
      "==============================\n",
      "Bandit index-9\n",
      "number of picked: 2\n",
      "alpha beta = 0 - 2\n",
      "observed probability: 1.92%\n",
      "actual probability: 7.8%\n",
      "==============================\n"
     ]
    }
   ],
   "source": [
    "for i,bandit in enumerate(bandit_list):\n",
    "    print(f'Bandit index-{i}')\n",
    "    print(f'number of picked: {int(bandit.alpha + bandit.beta - 0.08)}')     # -2 the initial alpha and beta\n",
    "    \n",
    "    # print(f'{bandit.result}')\n",
    "    \n",
    "    print(f'alpha beta = {int(bandit.alpha-0.04)} - {int(bandit.beta-0.04)}')\n",
    "\n",
    "    print(f'observed probability: {round(bandit.alpha / (bandit.alpha + bandit.beta) * 100,2)}%')\n",
    "    print(f'actual probability: {round(bandit.probability*100,2)}%')\n",
    "    \n",
    "    print('==============================')"
   ]
  },
  {
   "cell_type": "code",
   "execution_count": null,
   "metadata": {},
   "outputs": [],
   "source": []
  }
 ],
 "metadata": {
  "kernelspec": {
   "display_name": "Python 3 (ipykernel)",
   "language": "python",
   "name": "python3"
  },
  "language_info": {
   "codemirror_mode": {
    "name": "ipython",
    "version": 3
   },
   "file_extension": ".py",
   "mimetype": "text/x-python",
   "name": "python",
   "nbconvert_exporter": "python",
   "pygments_lexer": "ipython3",
   "version": "3.12.8"
  }
 },
 "nbformat": 4,
 "nbformat_minor": 4
}
