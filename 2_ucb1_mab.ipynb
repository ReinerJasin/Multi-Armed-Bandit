{
  "cells": [
    {
      "cell_type": "markdown",
      "metadata": {
        "id": "bUsGf-jYaWYn"
      },
      "source": [
        "# **1. Introduction to Multi-Armed Bandit (MAB)**"
      ]
    },
    {
      "cell_type": "markdown",
      "metadata": {
        "id": "ysTvmfQ5YTSi"
      },
      "source": [
        "The Multi-Armed Bandit (MAB) problem is a reinforcement learning problem that demonstrates AI agent decision-making ability under uncertainty. It represents the tradeoff between exploration (gathering more information) and exploitation (making the best decision based on current knowledge) to maximize rewards in the long run.\n"
      ]
    },
    {
      "cell_type": "markdown",
      "metadata": {
        "id": "rehV6kV8gxpJ"
      },
      "source": [
        "> **Real-World Analogy:**\n",
        ">\n",
        ">Imagine you are at a casino with multiple slot machines (each representing an \"arm\" in Multi Armed Bandit). Each machine provides a reward for the player, but the way machine choose the amount of reward is fully hidden from the player.\n",
        ">\n",
        ">Your goal is to maximize your total earnings by deciding which machine to play. If you always play the machine that seems best based on limited experience, you might miss out on an even better machine. On the other hand, if you keep testing all machines indefinitely, you may lose potential rewards."
      ]
    },
    {
      "cell_type": "markdown",
      "metadata": {
        "id": "5_87y4uDhaF1"
      },
      "source": [
        "**Applications of MAB:**\n",
        "- Online Advertising -- Selecting the best ad to display to maximize click-through rate (CTR).\n",
        "- A/B Testing -- Finding the most effective design, strategy, or content.\n",
        "- Recommender Systems -- Choosing the best content or product for users.\n",
        "- Clinical Trials -- Allocating patients to the most promising treatments.\n",
        "- Dynamic Pricing -- Adjusting prices dynamically to maximize revenue.\n",
        "<br><br>"
      ]
    },
    {
      "cell_type": "markdown",
      "metadata": {
        "id": "Q64AmJKm8x3b"
      },
      "source": [
        "\n",
        "\n",
        "---\n",
        "\n"
      ]
    },
    {
      "cell_type": "markdown",
      "metadata": {
        "id": "7reoOwO9hlqy"
      },
      "source": [
        "# **2. Formal Definition of the Multi-Armed Bandit Problem**"
      ]
    },
    {
      "cell_type": "markdown",
      "metadata": {
        "id": "KFECJCZb4lKP"
      },
      "source": [
        "The MAB problem can be formulated mathematically as follows:\n",
        "- There are K possible actions (arms), denoted as\n",
        "$A$ = {𝑎1,𝑎2,...,𝑎𝐾}.\n",
        "- Each arm $a_{i}$ has an unknown reward distribution $R_{i}$.\n",
        "- At each time step $t$, an agent selects an arm $a_{t}$ and receives a reward $r_{t}$.\n",
        "- The objective is to maximize the cumulative reward over $T$ time steps."
      ]
    },
    {
      "cell_type": "markdown",
      "metadata": {
        "id": "IxGsznxN71gn"
      },
      "source": [
        "**Regret in MAB:**\n",
        "- Regret measures how much reward is lost by not always choosing the optimal arm.\n",
        "- Cumulative regret at time $T$ is given by:\n",
        "<br>\n",
        "\\begin{align}\n",
        "R(T) = \\sum_{t=1}^{T} (\\mu^* - \\mu_{a_t})\n",
        "\\end{align}\n",
        "<br>\n",
        "where:\n",
        "\n",
        "  - $μ^*$ is the expected reward of the best arm.\n",
        "  - $μ_{a_{t}}$ is the expected reward of the arm chosen at time $t$.\n",
        "\n",
        "<br>\n",
        "A good MAB strategy minimizes regret over time by efficiently balancing exploration and exploitation.\n",
        "<br><br>"
      ]
    },
    {
      "cell_type": "markdown",
      "metadata": {
        "id": "tArtIBDf_bgG"
      },
      "source": [
        "\n",
        "\n",
        "---\n",
        "\n"
      ]
    },
    {
      "cell_type": "markdown",
      "metadata": {
        "id": "j8jkuoqV_FVi"
      },
      "source": [
        "# **3. Exploration vs. Exploitation Tradeoff**"
      ]
    },
    {
      "cell_type": "markdown",
      "metadata": {
        "id": "WSCZBg1L_NL_"
      },
      "source": [
        "A key challenge in MAB is deciding between:\n",
        "- Exploration -- Trying new arms to gather more information about their rewards.\n",
        "- Exploitation -- Choosing the best-known arm to maximize immediate rewards.\n",
        "\n",
        "A naive strategy that always exploits (e.g., always picking the best arm observed so far) may get stuck in a suboptimal solution. Conversely, a purely exploratory strategy wastes opportunities for higher rewards.\n",
        "\n",
        "The goal of MAB algorithms is to find a balance between these two strategies."
      ]
    },
    {
      "cell_type": "markdown",
      "metadata": {
        "id": "YeuN91qm_UQ8"
      },
      "source": [
        "\n",
        "\n",
        "---\n",
        "\n"
      ]
    },
    {
      "cell_type": "markdown",
      "metadata": {
        "id": "LNmtGWvF_KYI"
      },
      "source": [
        "# **4. Multi-Armed Bandit Algorithms**"
      ]
    },
    {
      "cell_type": "markdown",
      "metadata": {
        "id": "4Yru01_D_ORo"
      },
      "source": [
        "There are various strategies for solving the MAB problem. Below are some of the most common ones."
      ]
    },
    {
      "cell_type": "markdown",
      "metadata": {
        "id": "YhRBnVVNZ69N"
      },
      "source": [
        "# **Implementation of Upper Confidence Bound 1 (UCB1) Algorithm from scratch**"
      ]
    },
    {
      "cell_type": "markdown",
      "metadata": {
        "id": "JdNFUPaNEeR3"
      },
      "source": [
        "## Import Libraries"
      ]
    },
    {
      "cell_type": "code",
      "execution_count": null,
      "metadata": {
        "id": "2Wv3QOOoiAZF"
      },
      "outputs": [],
      "source": [
        "import math\n",
        "import random\n",
        "import numpy as np\n",
        "import matplotlib.pyplot as plt"
      ]
    },
    {
      "cell_type": "markdown",
      "metadata": {
        "id": "RKBJtGkCEhA0"
      },
      "source": [
        "## Set hyperparameters"
      ]
    },
    {
      "cell_type": "code",
      "execution_count": null,
      "metadata": {
        "id": "eR6wHjZlivHv"
      },
      "outputs": [],
      "source": [
        "NUM_OF_ARMS = 3\n",
        "INITIAL_STEP = NUM_OF_ARMS\n",
        "NUM_OF_TRIALS = 300"
      ]
    },
    {
      "cell_type": "markdown",
      "metadata": {
        "id": "wcH7FQPeEjmq"
      },
      "source": [
        "## Define UCB_Bandit Model Class"
      ]
    },
    {
      "cell_type": "markdown",
      "metadata": {
        "id": "I8FHszhB_qSM"
      },
      "source": [
        "UCB Bandit Model Class should have all these properties:\n",
        "- **[Unobserved]** `mean` average number produced when this bandit is chosen\n",
        "- **[Unobserved]** `variance` variance added to the mean when this bandit is chosen to add uncertainty to the bandit model rewards\n",
        "- `number_being_selected` variable to record how many times the bandit is chosen\n",
        "- `sum_of_reward` variable to record the total rewards produced by this bandit\n",
        "- `ucb_value` variable to count the ucb index used for making decision in choosing bandit\n"
      ]
    },
    {
      "cell_type": "code",
      "execution_count": null,
      "metadata": {
        "id": "es1m7NJQZ_TL"
      },
      "outputs": [],
      "source": [
        "class UCB_Bandit_Arm:\n",
        "  def __init__(self, mean, variance):\n",
        "    # Hidden properties from the user\n",
        "    self.mean = mean\n",
        "    self.variance = variance\n",
        "\n",
        "    self.number_being_selected = 0        # number of times the bandit is selected in total\n",
        "    self.sum_of_reward = 0                # sum of rewards of the bandit\n",
        "    self.ucb_value = 0\n",
        "\n",
        "  def average_rewards(self):\n",
        "    average_reward = self.sum_of_reward / self.number_being_selected\n",
        "\n",
        "    return average_reward\n",
        "\n",
        "  # The agent choose a bandit, so the bandit regenerate number as a reward to be returned\n",
        "  def roll_a_number(self):\n",
        "    rand_result = random.gauss(self.mean, math.sqrt(self.variance))\n",
        "\n",
        "    # print(f'rolled a get number of {rand_result}')\n",
        "\n",
        "    # Add sum of reward with the rolled number\n",
        "    self.sum_of_reward += rand_result\n",
        "\n",
        "    # Increment the number of being selected\n",
        "    self.number_being_selected += 1\n",
        "\n",
        "    self.update_ucb_value()\n",
        "\n",
        "    return rand_result\n",
        "\n",
        "  def update_ucb_value(self):\n",
        "    self.ucb_value = self.average_rewards() + math.sqrt(2 * math.log(current_round) / self.number_being_selected)\n"
      ]
    },
    {
      "cell_type": "markdown",
      "metadata": {
        "id": "13Gb3A97i4VE"
      },
      "source": [
        "## Create UCB bandit according to the scenario"
      ]
    },
    {
      "cell_type": "code",
      "execution_count": null,
      "metadata": {
        "colab": {
          "base_uri": "https://localhost:8080/"
        },
        "id": "o71zN2zAiEGf",
        "outputId": "76149253-2595-4883-8f6a-f1b767f9fade"
      },
      "outputs": [
        {
          "name": "stdout",
          "output_type": "stream",
          "text": [
            "3 bandits successfully created\n"
          ]
        }
      ],
      "source": [
        "# Bandit empty list\n",
        "list_bandit_arm = []\n",
        "\n",
        "# Randomize the mean variance for each of bandits\n",
        "for i in range(NUM_OF_ARMS):\n",
        "\n",
        "  # rand_mean = random.randint(0,2)\n",
        "  rand_mean = random.uniform(0,2)\n",
        "  rand_var = random.uniform(0,1)\n",
        "\n",
        "  # Create UCB bandit\n",
        "  temp_bandit = UCB_Bandit_Arm(rand_mean, rand_var)\n",
        "\n",
        "  # For debug only\n",
        "  # print(f'bandit {i} mean      : {temp_bandit.mean}')\n",
        "  # print(f'bandit {i} variance  : {temp_bandit.variance}')\n",
        "\n",
        "  # Add each bandit to the list of bandit\n",
        "  list_bandit_arm.append(temp_bandit)\n",
        "\n",
        "print(f\"{NUM_OF_ARMS} bandits successfully created\")"
      ]
    },
    {
      "cell_type": "markdown",
      "metadata": {
        "id": "UoVMrXdADgu3"
      },
      "source": [
        "> HARDCODED SETTING (OPTIONAL)"
      ]
    },
    {
      "cell_type": "code",
      "execution_count": null,
      "metadata": {
        "id": "ICOCJ5GrjY2Z"
      },
      "outputs": [],
      "source": [
        "# # HARDCODED VERSION\n",
        "# list_bandit = [\n",
        "#     UCB_Bandit(mean=1.2, variance=0.5),\n",
        "#     UCB_Bandit(mean=0.8, variance=1.0),\n",
        "#     UCB_Bandit(mean=1.5, variance=0.3),\n",
        "#     UCB_Bandit(mean=1.0, variance=0.8),\n",
        "#     UCB_Bandit(mean=1.3, variance=0.6),\n",
        "# ]"
      ]
    },
    {
      "cell_type": "markdown",
      "metadata": {
        "id": "JgWeJ_H9pNT9"
      },
      "source": [
        "As the initial step, we play each bandit at least once."
      ]
    },
    {
      "cell_type": "code",
      "execution_count": null,
      "metadata": {
        "id": "sdMSSLe_iol-"
      },
      "outputs": [],
      "source": [
        "current_round = 1\n",
        "result_history = []"
      ]
    },
    {
      "cell_type": "code",
      "execution_count": null,
      "metadata": {
        "id": "ZvZuITNRo7QT"
      },
      "outputs": [],
      "source": [
        "# Loop for each bandit\n",
        "for i in range(NUM_OF_ARMS):\n",
        "  rand_result = list_bandit_arm[i].roll_a_number()\n",
        "  result_history.append(rand_result)\n",
        "  # print(rand_result)\n",
        "\n",
        "  current_round += 1"
      ]
    },
    {
      "cell_type": "markdown",
      "metadata": {
        "id": "8xxvB0Bh0Sdb"
      },
      "source": [
        "Run the UCB1 Algorithm for the rest of the number of trials"
      ]
    },
    {
      "cell_type": "code",
      "execution_count": null,
      "metadata": {
        "id": "saKamW6x0Hmf"
      },
      "outputs": [],
      "source": [
        "for i in range(NUM_OF_TRIALS - NUM_OF_ARMS):\n",
        "# for i in range(1):\n",
        "\n",
        "  # Find bandit with the largest UCB Value\n",
        "  best_bandit_arm_ucb = np.argmax([bandit.ucb_value for bandit in list_bandit_arm])\n",
        "  # print(f'best bandit UCB: {best_bandit_arm_ucb}')\n",
        "  # print(f'best bandit UCB: {list_bandit_arm[best_bandit_arm_ucb].ucb_value}')\n",
        "\n",
        "  rand_result = list_bandit_arm[best_bandit_arm_ucb].roll_a_number()\n",
        "  result_history.append(rand_result)\n",
        "  # print(rand_result)\n",
        "\n",
        "  current_round += 1"
      ]
    },
    {
      "cell_type": "markdown",
      "metadata": {
        "id": "wDwdpYddBIsl"
      },
      "source": [
        "The Upper Confidence Bound 1 Algorithm Works perfectly, now for the sake of comparison, let's make a simulation if the bandit uses 100% exploration technique."
      ]
    },
    {
      "cell_type": "code",
      "execution_count": null,
      "metadata": {
        "id": "Hes69xobBYiI"
      },
      "outputs": [],
      "source": [
        "explore_results = []\n",
        "\n",
        "for i in range(NUM_OF_TRIALS):\n",
        "\n",
        "  # Randomize which bandit will be chosen\n",
        "  rand_arm = random.randint(0, NUM_OF_ARMS-1)\n",
        "\n",
        "  # Roll the bandit\n",
        "  rand_result = list_bandit_arm[rand_arm].roll_a_number()\n",
        "  explore_results.append(rand_result)"
      ]
    },
    {
      "cell_type": "markdown",
      "metadata": {
        "id": "Cm1xaAdq6bbW"
      },
      "source": [
        "Let's see the amount of reward we got in cummulative compared to the maximum value we can earn to see the regret level.\n",
        "\n",
        "Also we will see which one is the best bandit by looking at the parameter or bandit reward average and UCB value."
      ]
    },
    {
      "cell_type": "code",
      "execution_count": null,
      "metadata": {
        "colab": {
          "base_uri": "https://localhost:8080/",
          "height": 410
        },
        "id": "jNC3Upt_6bIY",
        "outputId": "ed987048-bc2b-4f67-9f83-10a63db547d7"
      },
      "outputs": [
        {
          "data": {
            "image/png": "[encoded data removed]",
            "text/plain": [
              "<Figure size 600x400 with 1 Axes>"
            ]
          },
          "metadata": {},
          "output_type": "display_data"
        }
      ],
      "source": [
        "# UCB1 Result\n",
        "y1 = np.cumsum(result_history)\n",
        "\n",
        "# Best possible reward\n",
        "best_mean = np.argmax([bandit.mean for bandit in list_bandit_arm])\n",
        "y2 = [i*best_mean for i in range(0,current_round-1)]\n",
        "\n",
        "# Simulated 100% Explore\n",
        "y3 = np.cumsum(explore_results)\n",
        "\n",
        "# Generate x values\n",
        "x = range(len(y1))\n",
        "\n",
        "# Plot the lines\n",
        "plt.figure(figsize=(6, 4))\n",
        "plt.plot(x, y1, label='Earned Reward', color='green', alpha=0.7)\n",
        "plt.plot(x, y2, label='Maximum expected reward', color='grey', alpha=0.7)\n",
        "plt.plot(x, y3, label='Random Explore', color='purple', alpha=0.7)\n",
        "\n",
        "# Labels and title\n",
        "plt.xlabel('Number of trials')\n",
        "plt.ylabel('Rewards')\n",
        "plt.title('Upper Confidence Bound 1 - Algorithm Performance')\n",
        "plt.legend()\n",
        "plt.grid()\n",
        "\n",
        "# Show the plot\n",
        "plt.show()"
      ]
    },
    {
      "cell_type": "code",
      "execution_count": null,
      "metadata": {
        "colab": {
          "base_uri": "https://localhost:8080/"
        },
        "id": "W_FAAukYvB8N",
        "outputId": "1d0283fa-adc1-43b3-8caa-5fb088d5dc8d"
      },
      "outputs": [
        {
          "name": "stdout",
          "output_type": "stream",
          "text": [
            "Current round: 301\n",
            "Sum of Reward    :126.84815653476223\n",
            "Num selected     :105\n",
            "Average          :1.2080776812834497\n",
            "UCB Value        :1.5377849183676435\n",
            "=================================\n",
            "Sum of Reward    :80.42864861040026\n",
            "Num selected     :106\n",
            "Average          :0.7587608359471723\n",
            "UCB Value        :1.0869091648321123\n",
            "=================================\n",
            "Sum of Reward    :654.5852646002144\n",
            "Num selected     :389\n",
            "Average          :1.6827384694092915\n",
            "UCB Value        :1.8540349061133299\n",
            "=================================\n",
            "bandit index to choose for next step: 2\n",
            "bandit index to choose for next step: 2\n"
          ]
        }
      ],
      "source": [
        "print(f'Current round: {current_round}')\n",
        "\n",
        "for i in range(NUM_OF_ARMS):\n",
        "  print(f'Sum of Reward    :{list_bandit_arm[i].sum_of_reward}')\n",
        "  print(f'Num selected     :{list_bandit_arm[i].number_being_selected}')\n",
        "  print(f'Average          :{list_bandit_arm[i].average_rewards()}')\n",
        "  print(f'UCB Value        :{list_bandit_arm[i].ucb_value}')\n",
        "  print('=================================')\n",
        "\n",
        "# print(f'arm index to choose for next step: {np.argmax([arm.ucb_value for arm in list_bandit_arm])}')\n",
        "# print(f'arm index to choose for next step: {np.argmax([arm.average_rewards() for arm in list_bandit_arm])}')"
      ]
    },
    {
      "cell_type": "markdown",
      "metadata": {
        "id": "cgKKHcjo2yz5"
      },
      "source": [
        "Let's validate the result and see the parameter of each bandit's mean and variance."
      ]
    },
    {
      "cell_type": "code",
      "execution_count": null,
      "metadata": {
        "colab": {
          "base_uri": "https://localhost:8080/"
        },
        "id": "7UqMBvzevDhQ",
        "outputId": "4038f965-af93-43f7-b948-0af335462bda"
      },
      "outputs": [
        {
          "name": "stdout",
          "output_type": "stream",
          "text": [
            "Current round: 301\n",
            "bandit index-0\n",
            "Sum of Reward    :126.84815653476223\n",
            "Num selected     :105\n",
            "Average          :1.2080776812834497\n",
            "UCB Value        :1.5377849183676435\n",
            "====================================\n",
            "MEAN        :1.1740749975821145\n",
            "VARIANCE    :0.34288800898337146\n",
            "====================================\n",
            "\n",
            "bandit index-1\n",
            "Sum of Reward    :80.42864861040026\n",
            "Num selected     :106\n",
            "Average          :0.7587608359471723\n",
            "UCB Value        :1.0869091648321123\n",
            "====================================\n",
            "MEAN        :0.7651153718420753\n",
            "VARIANCE    :0.4217111193732561\n",
            "====================================\n",
            "\n",
            "bandit index-2\n",
            "Sum of Reward    :654.5852646002144\n",
            "Num selected     :389\n",
            "Average          :1.6827384694092915\n",
            "UCB Value        :1.8540349061133299\n",
            "====================================\n",
            "MEAN        :1.6669021376789461\n",
            "VARIANCE    :0.07965824286123213\n",
            "====================================\n",
            "\n",
            "largest mean bandit index: 2\n"
          ]
        }
      ],
      "source": [
        "print(f'Current round: {current_round}')\n",
        "\n",
        "for i in range(NUM_OF_ARMS):\n",
        "  print(f'arm index-{i}')\n",
        "  print(f'Sum of Reward    :{list_bandit_arm[i].sum_of_reward}')\n",
        "  print(f'Num selected     :{list_bandit_arm[i].number_being_selected}')\n",
        "  print(f'Average          :{list_bandit_arm[i].average_rewards()}')\n",
        "  print(f'UCB Value        :{list_bandit_arm[i].ucb_value}')\n",
        "  print('====================================')\n",
        "  print(f'MEAN        :{list_bandit_arm[i].mean}')\n",
        "  print(f'VARIANCE    :{list_bandit_arm[i].variance}')\n",
        "  print('====================================')\n",
        "  print()\n",
        "\n",
        "print(f'largest mean arm index: {np.argmax([arm.mean for arm in list_bandit_arm])}')"
      ]
    },
    {
      "cell_type": "code",
      "execution_count": null,
      "metadata": {
        "id": "GlbIjpEb3R3k"
      },
      "outputs": [],
      "source": []
    }
  ],
  "metadata": {
    "colab": {
      "authorship_tag": "ABX9TyOKapc82glcGwzgQPg7nxWr",
      "collapsed_sections": [
        "XfZdAok36d_l",
        "5am-odQqSFhY"
      ],
      "include_colab_link": true,
      "provenance": []
    },
    "kernelspec": {
      "display_name": "Python 3",
      "name": "python3"
    },
    "language_info": {
      "name": "python"
    }
  },
  "nbformat": 4,
  "nbformat_minor": 0
}
