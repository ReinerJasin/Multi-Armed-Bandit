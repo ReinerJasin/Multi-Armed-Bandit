{
 "cells": [
  {
   "cell_type": "markdown",
   "metadata": {},
   "source": [
    "# Thompson Sampling on Bernoulli"
   ]
  },
  {
   "cell_type": "markdown",
   "metadata": {},
   "source": [
    "## Import required libraries"
   ]
  },
  {
   "cell_type": "code",
   "execution_count": 1,
   "metadata": {},
   "outputs": [],
   "source": [
    "import numpy as np\n",
    "import matplotlib.pyplot as plt\n",
    "\n",
    "from scipy.stats import beta"
   ]
  },
  {
   "cell_type": "markdown",
   "metadata": {},
   "source": [
    "## Set hyperparameters"
   ]
  },
  {
   "cell_type": "code",
   "execution_count": null,
   "metadata": {},
   "outputs": [],
   "source": [
    "NUM_OF_ARMS = 10\n",
    "NUM_OF_TRIALS = 3000\n",
    "\n",
    "# For log purposes\n",
    "result_history = []"
   ]
  },
  {
   "cell_type": "markdown",
   "metadata": {},
   "source": [
    "## Create our bandit arm model"
   ]
  },
  {
   "cell_type": "markdown",
   "metadata": {},
   "source": [
    "Our bandit model will have the following variables:\n",
    "* result = Used to track all the result after pulling the bandit's arm, will be used only for logging purposes.\n",
    "* probability = The probability of giving the success reward (value = 1)\n",
    "* alpha = total amount of FAILURE (0) from pulling the bandit arm\n",
    "* beta = total amount of SUCCESS (1) from pulling the bandit arm"
   ]
  },
  {
   "cell_type": "code",
   "execution_count": null,
   "metadata": {},
   "outputs": [],
   "source": [
    "class TS_Bandit_Arm:\n",
    "    def __init__(self, probability):\n",
    "        self.result = []\n",
    "        \n",
    "        # latent variables\n",
    "        self.probability = probability\n",
    "        \n",
    "        # Bandit will have the property of beta distribution as the conjugate prior of the bernoulli distribution\n",
    "        # Alpha and Beta is set to 1 by default to prevent error when sampling due to 0 values. alpha and beta on 1 corresponds to uniform prior\n",
    "        # We can use very small number like 0.04 and it will still perform okat, but by definition, beta distribution on 0,04 favors certain value over the other.\n",
    "        self.alpha = 1\n",
    "        self.beta = 1\n",
    "    \n",
    "    def update_posterior(self, reward):\n",
    "        if reward:\n",
    "            self.alpha += 1          # Reward = 1 or TRUE, alpha add one success\n",
    "        else:\n",
    "            self.beta += 1           # Reward = 0 or FALSE, beta add one failure\n",
    "    \n",
    "    def pull_bandit_arm(self):\n",
    "        # Generate random bernoulli as reward\n",
    "        # parameter:\n",
    "        # p = success probability\n",
    "        # f(x) = p^x * (1-p)^1-x\n",
    "        reward = np.random.binomial(n=1, p=self.probability, size=None)\n",
    "\n",
    "        # Added to the reward list for logging\n",
    "        self.result.append(reward)\n",
    "\n",
    "        result_history.append(reward)\n",
    "        \n",
    "        return reward\n",
    "        "
   ]
  },
  {
   "cell_type": "markdown",
   "metadata": {},
   "source": [
    "`update_posterior(reward)` function is used to update the knowledge after pulling a bandit. The function will increment the value of alpha or beta depends on the reward when pulling.\n",
    "\n",
    "`pull_bandit_arm()` will generate random reward either 0 or 1 (bernoulli), after that it will automatically update the posterior and return a reward."
   ]
  },
  {
   "cell_type": "code",
   "execution_count": null,
   "metadata": {},
   "outputs": [],
   "source": [
    "def sample_reward_probability(bandit_list_arm):\n",
    "    return [np.random.beta(arm.alpha, arm.beta) for arm in bandit_list_arm]"
   ]
  },
  {
   "cell_type": "markdown",
   "metadata": {},
   "source": [
    "`sample_reward_probability(bandit_list_arm)` will get all the bandit arm model, and for each arm, it will draw sample from a beta distribution."
   ]
  },
  {
   "cell_type": "markdown",
   "metadata": {},
   "source": [
    "## Generate number of bandit with random discrete probability (bernoulli)"
   ]
  },
  {
   "cell_type": "code",
   "execution_count": null,
   "metadata": {},
   "outputs": [
    {
     "name": "stdout",
     "output_type": "stream",
     "text": [
      "10 random bandits successfully generated with random probability!\n"
     ]
    }
   ],
   "source": [
    "bandit_list_arm = []\n",
    "\n",
    "for i in range(NUM_OF_ARMS):\n",
    "    bandit_list_arm.append(TS_Bandit_Arm(np.random.rand()))\n",
    "\n",
    "print(f'{NUM_OF_ARMS} random bandit arms successfully generated with random probability!')"
   ]
  },
  {
   "cell_type": "code",
   "execution_count": null,
   "metadata": {},
   "outputs": [],
   "source": [
    "# # Hardcoded (DEBUG Only)\n",
    "# bandit_list = [\n",
    "#     TS_Bandit_Arm(0.5),\n",
    "#     TS_Bandit_Arm(0.6),\n",
    "#     TS_Bandit_Arm(0.7),\n",
    "#     TS_Bandit_Arm(0.8),\n",
    "#     TS_Bandit_Arm(0.85)\n",
    "# ]"
   ]
  },
  {
   "cell_type": "markdown",
   "metadata": {},
   "source": [
    "## Thompson Sampling Step-bystep"
   ]
  },
  {
   "cell_type": "markdown",
   "metadata": {},
   "source": [
    "We successfully set the whole thing up, now it's time to explore and exploit with the thompson sampling."
   ]
  },
  {
   "cell_type": "markdown",
   "metadata": {},
   "source": [
    "## 1. Take a random sample from all bandit arms"
   ]
  },
  {
   "cell_type": "markdown",
   "metadata": {},
   "source": [
    "The sampled reward will basically just be a random number, because the alpha and beta (prior knowledge) from all bandits is currently 1, indicating that our agent have no idea about which bandit will return the best possible reward"
   ]
  },
  {
   "cell_type": "code",
   "execution_count": null,
   "metadata": {},
   "outputs": [
    {
     "name": "stdout",
     "output_type": "stream",
     "text": [
      "[0.24975836103299348, 0.12382849580864853, 0.9983973164868404, 0.1468429336574142, 0.09165815276574077, 0.6457419969603688, 0.9059379264400639, 0.48378283593260046, 0.6136963764451918, 0.9870340919900669]\n"
     ]
    }
   ],
   "source": [
    "sampled_reward = sample_reward_probability(bandit_list_arm)\n",
    "print(sampled_reward)"
   ]
  },
  {
   "cell_type": "markdown",
   "metadata": {},
   "source": [
    "## 2. Pick a best arm based on the sampled beta distribution"
   ]
  },
  {
   "cell_type": "code",
   "execution_count": null,
   "metadata": {},
   "outputs": [
    {
     "name": "stdout",
     "output_type": "stream",
     "text": [
      "Best bandit sample index: 2\n"
     ]
    }
   ],
   "source": [
    "bandit_arm_choice = np.argmax(sampled_reward)\n",
    "print(f'Best arm sample index: {bandit_arm_choice}')"
   ]
  },
  {
   "cell_type": "markdown",
   "metadata": {},
   "source": [
    "We sampled random number using the beta distribution of each bandit. From the result, we must take the maximum value of the sample and use it as the choice of bandit we are going to pull (best arm)."
   ]
  },
  {
   "cell_type": "markdown",
   "metadata": {},
   "source": [
    "## 3. Pull the best bandit arm and observe the reward"
   ]
  },
  {
   "cell_type": "code",
   "execution_count": null,
   "metadata": {},
   "outputs": [
    {
     "name": "stdout",
     "output_type": "stream",
     "text": [
      "Rolled the bandit index-2 and get the reward: 0\n"
     ]
    }
   ],
   "source": [
    "# Pull best bandit arm\n",
    "reward = bandit_list_arm[bandit_arm_choice].pull_bandit_arm()\n",
    "print(f'Rolled the bandit index-{bandit_arm_choice} and get the reward: {reward}')"
   ]
  },
  {
   "cell_type": "markdown",
   "metadata": {},
   "source": [
    "## 4. Update the corresponding bandit posterior distribution"
   ]
  },
  {
   "cell_type": "code",
   "execution_count": null,
   "metadata": {},
   "outputs": [
    {
     "name": "stdout",
     "output_type": "stream",
     "text": [
      "Updated the bandit posterior distribution\n"
     ]
    }
   ],
   "source": [
    "# Update the knowledge of the bandit\n",
    "bandit_list_arm[bandit_arm_choice].update_posterior(reward)\n",
    "print(f'Updated the bandit posterior distribution')"
   ]
  },
  {
   "cell_type": "markdown",
   "metadata": {},
   "source": [
    "Now That's one iteration of how thompson sampling works. Repeat this time until we reach the `NUM_OF_TRIALS`."
   ]
  },
  {
   "cell_type": "markdown",
   "metadata": {},
   "source": [
    "## 5. Iterate until the `NUM_OF_TRIALS`"
   ]
  },
  {
   "cell_type": "code",
   "execution_count": null,
   "metadata": {},
   "outputs": [],
   "source": [
    "for i in range(NUM_OF_TRIALS):\n",
    "    \n",
    "    # 1. Sample Reward\n",
    "    sampled_reward = sample_reward_probability(bandit_list_arm)\n",
    "\n",
    "    # 2. Pick the best arm\n",
    "    bandit_arm_choice = np.argmax(sampled_reward)\n",
    "\n",
    "    # 3. Pull the corresponding bandit\n",
    "    reward = bandit_list_arm[bandit_arm_choice].pull_bandit_arm()\n",
    "\n",
    "    # 4. Update Posterior\n",
    "    bandit_list_arm[bandit_arm_choice].update_posterior(reward)"
   ]
  },
  {
   "cell_type": "markdown",
   "metadata": {},
   "source": [
    "## Let's inspect which bandit have the best overall reward after all iterations"
   ]
  },
  {
   "cell_type": "code",
   "execution_count": null,
   "metadata": {},
   "outputs": [
    {
     "name": "stdout",
     "output_type": "stream",
     "text": [
      "Bandit index-0\n",
      "number of picked: 2\n",
      "alpha beta = 0 - 2\n",
      "observed probability: 25.0%\n",
      "==============================\n",
      "Bandit index-1\n",
      "number of picked: 5\n",
      "alpha beta = 2 - 3\n",
      "observed probability: 42.86%\n",
      "==============================\n",
      "Bandit index-2\n",
      "number of picked: 6\n",
      "alpha beta = 3 - 3\n",
      "observed probability: 50.0%\n",
      "==============================\n",
      "Bandit index-3\n",
      "number of picked: 10\n",
      "alpha beta = 6 - 4\n",
      "observed probability: 58.33%\n",
      "==============================\n",
      "Bandit index-4\n",
      "number of picked: 7\n",
      "alpha beta = 4 - 3\n",
      "observed probability: 55.56%\n",
      "==============================\n",
      "Bandit index-5\n",
      "number of picked: 2666\n",
      "alpha beta = 2570 - 96\n",
      "observed probability: 96.36%\n",
      "==============================\n",
      "Bandit index-6\n",
      "number of picked: 12\n",
      "alpha beta = 8 - 4\n",
      "observed probability: 64.29%\n",
      "==============================\n",
      "Bandit index-7\n",
      "number of picked: 3\n",
      "alpha beta = 1 - 2\n",
      "observed probability: 40.0%\n",
      "==============================\n",
      "Bandit index-8\n",
      "number of picked: 286\n",
      "alpha beta = 263 - 23\n",
      "observed probability: 91.67%\n",
      "==============================\n",
      "Bandit index-9\n",
      "number of picked: 4\n",
      "alpha beta = 2 - 2\n",
      "observed probability: 50.0%\n",
      "==============================\n"
     ]
    }
   ],
   "source": [
    "for i,arm in enumerate(bandit_list_arm):\n",
    "    print(f'Bandit index-{i}')\n",
    "    print(f'number of picked: {arm.alpha + arm.beta - 2}')     # -2 the initial alpha and beta\n",
    "    \n",
    "    # print(f'{bandit.result}')\n",
    "    \n",
    "    print(f'alpha beta = {arm.alpha-1} - {arm.beta-1}')\n",
    "\n",
    "    print(f'observed probability: {round(arm.alpha / (arm.alpha + arm.beta) * 100,2)}%')\n",
    "    \n",
    "    print('==============================')"
   ]
  },
  {
   "cell_type": "markdown",
   "metadata": {},
   "source": [
    "**Thompson sampling seems to have a high capabilities in exploiting the best arm in such a short time**, we can tell that this algorithm is one of the best choice to actually be tested on real life cases. Despite this finding, Thompson Sampling also have weaknesses. **Thompson sampling bandit is not good at observing each of the bandit arm**, as the number of observations on the un-exploited bandit is very low. But low success rate does not mean that thompson sampling is bad at exploration. We will see why."
   ]
  },
  {
   "cell_type": "markdown",
   "metadata": {},
   "source": [
    "> Notice that the observed probability for the bandit that is almost never got pulled is very unprecise. In fact, Thompson sampling does not have to give you the exact or at least really narrow probability range. The algorithm just need to understand which bandit tends to give more reward than the other and that is enough to exploit the whole system."
   ]
  },
  {
   "cell_type": "markdown",
   "metadata": {},
   "source": [
    "## Show the beta distribution graph for each bandit"
   ]
  },
  {
   "cell_type": "code",
   "execution_count": null,
   "metadata": {},
   "outputs": [
    {
     "data": {
      "image/png": "[encoded data removed]",
      "text/plain": [
       "<Figure size 1500x600 with 10 Axes>"
      ]
     },
     "metadata": {},
     "output_type": "display_data"
    }
   ],
   "source": [
    "fig, axes = plt.subplots(nrows=2, ncols=5, figsize=(15, 6))  # 2 rows, 5 columns for 10 bandits\n",
    "\n",
    "axes = axes.flatten()  # Flatten the 2D axes array for iteration\n",
    "\n",
    "for i, (arm, ax) in enumerate(zip(bandit_list_arm, axes)):\n",
    "    x = np.linspace(0, 1, 10000)  # Range of x values\n",
    "    y = beta.pdf(x, arm.alpha, arm.beta)  # Compute the Beta PDF\n",
    "\n",
    "    ax.plot(x, y, 'b-', label=f'Beta({arm.alpha},{arm.beta})')\n",
    "    ax.set_title(f'Arm {i+1}')\n",
    "    ax.set_xlabel('Probability')\n",
    "    ax.set_ylabel('Density')\n",
    "    ax.legend()\n",
    "    ax.grid(True)\n",
    "    ax.set_ylim(0, 10)\n",
    "\n",
    "# Adjust layout for better spacing\n",
    "plt.tight_layout()\n",
    "plt.show()"
   ]
  },
  {
   "cell_type": "markdown",
   "metadata": {},
   "source": [
    "By looking at the beta distribution graph, we can tell that the that graph that has the highest skewness is the best bandit.\n",
    "\n",
    "We notice this by the number of times it gets pulled compared to the other, meaning that the bandit is very sure that this is the right bandit which will give the best expected reward. The skewness of the graph is also helpful as it opens up possibilities for the other bandit to overcome current best bandit because the range on the right and left side of the graph is still high enough."
   ]
  },
  {
   "cell_type": "markdown",
   "metadata": {},
   "source": [
    "## Let's just reveal the stats of each bandit actual probabilities and see if our agent had made the correct decision"
   ]
  },
  {
   "cell_type": "code",
   "execution_count": null,
   "metadata": {},
   "outputs": [
    {
     "name": "stdout",
     "output_type": "stream",
     "text": [
      "Bandit index-0\n",
      "number of picked: 2\n",
      "alpha beta = 0 - 2\n",
      "observed probability: 25.0%\n",
      "actual probability: 2.52%\n",
      "==============================\n",
      "Bandit index-1\n",
      "number of picked: 5\n",
      "alpha beta = 2 - 3\n",
      "observed probability: 42.86%\n",
      "actual probability: 14.25%\n",
      "==============================\n",
      "Bandit index-2\n",
      "number of picked: 6\n",
      "alpha beta = 3 - 3\n",
      "observed probability: 50.0%\n",
      "actual probability: 60.29%\n",
      "==============================\n",
      "Bandit index-3\n",
      "number of picked: 10\n",
      "alpha beta = 6 - 4\n",
      "observed probability: 58.33%\n",
      "actual probability: 73.39%\n",
      "==============================\n",
      "Bandit index-4\n",
      "number of picked: 7\n",
      "alpha beta = 4 - 3\n",
      "observed probability: 55.56%\n",
      "actual probability: 41.8%\n",
      "==============================\n",
      "Bandit index-5\n",
      "number of picked: 2666\n",
      "alpha beta = 2570 - 96\n",
      "observed probability: 96.36%\n",
      "actual probability: 96.11%\n",
      "==============================\n",
      "Bandit index-6\n",
      "number of picked: 12\n",
      "alpha beta = 8 - 4\n",
      "observed probability: 64.29%\n",
      "actual probability: 72.76%\n",
      "==============================\n",
      "Bandit index-7\n",
      "number of picked: 3\n",
      "alpha beta = 1 - 2\n",
      "observed probability: 40.0%\n",
      "actual probability: 23.34%\n",
      "==============================\n",
      "Bandit index-8\n",
      "number of picked: 286\n",
      "alpha beta = 263 - 23\n",
      "observed probability: 91.67%\n",
      "actual probability: 91.15%\n",
      "==============================\n",
      "Bandit index-9\n",
      "number of picked: 4\n",
      "alpha beta = 2 - 2\n",
      "observed probability: 50.0%\n",
      "actual probability: 56.49%\n",
      "==============================\n"
     ]
    }
   ],
   "source": [
    "for i,arm in enumerate(bandit_list_arm):\n",
    "    print(f'Arm index-{i}')\n",
    "    print(f'number of picked: {int(arm.alpha + arm.beta - 2)}')     # -2 the initial alpha and beta\n",
    "    \n",
    "    # print(f'{bandit.result}')\n",
    "    \n",
    "    print(f'alpha beta = {int(arm.alpha-1)} - {int(arm.beta-1)}')\n",
    "\n",
    "    print(f'observed probability: {round(arm.alpha / (arm.alpha + arm.beta) * 100,2)}%')\n",
    "    print(f'actual probability: {round(arm.probability*100,2)}%')\n",
    "    \n",
    "    print('==============================')"
   ]
  },
  {
   "cell_type": "markdown",
   "metadata": {},
   "source": [
    "## Count the regret metrics"
   ]
  },
  {
   "cell_type": "markdown",
   "metadata": {},
   "source": [
    "To calculate the regret metrics, we are going to get the value of:\n",
    "* highest true probability value\n",
    "* best arm estimated expected reward\n",
    "* cumulative reward over time"
   ]
  },
  {
   "cell_type": "code",
   "execution_count": null,
   "metadata": {},
   "outputs": [
    {
     "name": "stdout",
     "output_type": "stream",
     "text": [
      "0.9610597414342404\n",
      "0.9636431784107946\n"
     ]
    },
    {
     "data": {
      "image/png": "[encoded data removed]",
      "text/plain": [
       "<Figure size 600x400 with 1 Axes>"
      ]
     },
     "metadata": {},
     "output_type": "display_data"
    }
   ],
   "source": [
    "# Highest true probability\n",
    "best_expected_reward_index = np.argmax([arm.probability for arm in bandit_list_arm])\n",
    "best_expected_reward = bandit_list_arm[best_expected_reward_index].probability\n",
    "print(best_expected_reward)\n",
    "\n",
    "y1 = [(i*best_expected_reward) + best_expected_reward for i in range(0,NUM_OF_TRIALS+1)] # +1 iteration for our first iteration that we use as an example\n",
    "\n",
    "# Highest observed probability\n",
    "best_arm_index = np.argmax([arm.alpha / (arm.alpha + arm.beta) for arm in bandit_list_arm])\n",
    "best_arm_reward = bandit_list_arm[best_arm_index].alpha / (bandit_list_arm[best_arm_index].alpha + bandit_list_arm[best_arm_index].beta)\n",
    "print(best_arm_reward)\n",
    "\n",
    "y2 = [i*best_arm_reward for i in range(0,NUM_OF_TRIALS+1)] # +1 iteration for our first iteration that we use as an example\n",
    "\n",
    "# Thompson Sampling Result\n",
    "y3 = np.cumsum(result_history)\n",
    "\n",
    "\n",
    "# Simulated 100% Explore\n",
    "# y3 = np.cumsum(explore_results)\n",
    "\n",
    "# Generate x values\n",
    "x = range(len(y1))\n",
    "\n",
    "# Plot the lines\n",
    "plt.figure(figsize=(6, 4))\n",
    "plt.plot(x, y1, label='Highest true probability', color='grey', alpha=0.7)\n",
    "plt.plot(x, y2, label='Highest observed probability', color='purple', alpha=0.7)\n",
    "plt.plot(x, y3, label='Thompson Sampling', color='green', alpha=0.7)\n",
    "\n",
    "# Labels and title\n",
    "plt.xlabel('Number of trials')\n",
    "plt.ylabel('Rewards')\n",
    "plt.title('Thompson Sampling - Algorithm Performance')\n",
    "plt.legend()\n",
    "plt.grid()\n",
    "\n",
    "# Show the plot\n",
    "plt.tight_layout()\n",
    "plt.show()"
   ]
  },
  {
   "cell_type": "code",
   "execution_count": 18,
   "metadata": {},
   "outputs": [
    {
     "name": "stdout",
     "output_type": "stream",
     "text": [
      "Highest true probability expected reward          : 2884.14\n",
      "Highest observed probability expected reward.     : 2891.89\n",
      "Actual Reward                                     : 2859\n",
      "===============================================================\n",
      "Regret                                            : 25.14\n"
     ]
    }
   ],
   "source": [
    "# highest true probability value\n",
    "sum_1 = (3000*best_expected_reward) + best_expected_reward\n",
    "print(f'Highest true probability expected reward          : {round(sum_1,2)}')\n",
    "\n",
    "# best arm estimated expected reward\n",
    "sum_2 = 3000*best_arm_reward + best_arm_reward # +1 iteration for our first iteration that we use as an example\n",
    "print(f'Highest observed probability expected reward.     : {round(sum_2,2)}')\n",
    "\n",
    "# cumulative reward over time\n",
    "sum_3 = np.sum(result_history)\n",
    "print(f'Actual Reward                                     : {sum_3}')\n",
    "\n",
    "print('===============================================================')\n",
    "\n",
    "print(f'Regret                                            : {round(sum_1-sum_3,2)}')"
   ]
  },
  {
   "cell_type": "markdown",
   "metadata": {},
   "source": [
    "# Thompson Sampling on Gaussian"
   ]
  },
  {
   "cell_type": "code",
   "execution_count": null,
   "metadata": {},
   "outputs": [],
   "source": [
    "import numpy as np\n",
    "import matplotlib.pyplot as plt\n",
    "\n",
    "# from scipy.stats import beta"
   ]
  },
  {
   "cell_type": "code",
   "execution_count": null,
   "metadata": {},
   "outputs": [],
   "source": [
    "NUM_OF_ARMS = 10\n",
    "NUM_OF_TRIALS = 3000\n",
    "\n",
    "# For log purposes\n",
    "result_history = []"
   ]
  },
  {
   "cell_type": "code",
   "execution_count": null,
   "metadata": {},
   "outputs": [],
   "source": [
    "class TS_Bandit_Arm_Gaussian:\n",
    "    def __init__(self, mean, variance):\n",
    "        self.result = []\n",
    "        \n",
    "        # latent variables\n",
    "        self.mean = mean\n",
    "        self.variance = variance\n",
    "        \n",
    "        # Bandit will have the property of beta distribution as the conjugate prior of the bernoulli distribution\n",
    "        # Alpha and Beta is set to 1 by default to prevent error when sampling due to 0 values. alpha and beta on 1 corresponds to uniform prior\n",
    "        # We can use very small number like 0.04 and it will still perform okat, but by definition, beta distribution on 0,04 favors certain value over the other.\n",
    "        self.miu_0 = 0          # observed miu\n",
    "        v = 0                   # number of observations\n",
    "        self.beta = 1\n",
    "    \n",
    "    def update_posterior(self, reward):\n",
    "        if reward:\n",
    "            self.alpha += 1          # Reward = 1 or TRUE, alpha add one success\n",
    "        else:\n",
    "            self.beta += 1           # Reward = 0 or FALSE, beta add one failure\n",
    "    \n",
    "    def pull_bandit_arm(self):\n",
    "        # Generate random bernoulli as reward\n",
    "        # parameter:\n",
    "        # p = success probability\n",
    "        # f(x) = p^x * (1-p)^1-x\n",
    "        reward = np.random.binomial(n=1, p=self.probability, size=None)\n",
    "\n",
    "        # Added to the reward list for logging\n",
    "        self.result.append(reward)\n",
    "\n",
    "        result_history.append(reward)\n",
    "        \n",
    "        return reward\n",
    "        "
   ]
  }
 ],
 "metadata": {
  "kernelspec": {
   "display_name": "venv",
   "language": "python",
   "name": "python3"
  },
  "language_info": {
   "codemirror_mode": {
    "name": "ipython",
    "version": 3
   },
   "file_extension": ".py",
   "mimetype": "text/x-python",
   "name": "python",
   "nbconvert_exporter": "python",
   "pygments_lexer": "ipython3",
   "version": "3.13.2"
  }
 },
 "nbformat": 4,
 "nbformat_minor": 4
}
