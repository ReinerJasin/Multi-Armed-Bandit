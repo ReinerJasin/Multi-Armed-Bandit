{
  "cells": [
    {
      "cell_type": "markdown",
      "metadata": {
        "id": "YsEI50nC2Irm"
      },
      "source": [
        "Dataset used:\n",
        "F. Maxwell Harper and Joseph A. Konstan. 2015. The MovieLens Datasets: History and Context. ACM Transactions on Interactive Intelligent Systems (TiiS) 5, 4: 19:1–19:19. https://doi.org/10.1145/2827872\n",
        "\n",
        "\n",
        "Implementation based on paper:\n",
        "Chen, Y. (2025). Contextual bandits to increase user prediction accuracy in movie recommendation system. ITM Web of Conferences, 73, 01018. https://doi.org/10.1051/itmconf/20257301018"
      ]
    },
    {
      "cell_type": "code",
      "execution_count": 1,
      "metadata": {
        "colab": {
          "base_uri": "https://localhost:8080/"
        },
        "id": "GnVUSpoi1VG1",
        "outputId": "f51184f1-e06b-448a-8038-631a250fc582"
      },
      "outputs": [],
      "source": [
        "# from google.colab import drive\n",
        "# drive.mount('/content/drive')"
      ]
    },
    {
      "cell_type": "markdown",
      "metadata": {
        "id": "-1xRfvVSn3JM"
      },
      "source": [
        "## STEP 1: PREPROCESSING DATA & EXTRACTING USER-MOVIE-FEATURES"
      ]
    },
    {
      "cell_type": "code",
      "execution_count": 2,
      "metadata": {
        "colab": {
          "base_uri": "https://localhost:8080/",
          "height": 206
        },
        "id": "QqgF4MAI4Icn",
        "outputId": "228f2ec8-144f-4b26-f296-3416dec766af"
      },
      "outputs": [
        {
          "data": {
            "text/html": [
              "<div>\n",
              "<style scoped>\n",
              "    .dataframe tbody tr th:only-of-type {\n",
              "        vertical-align: middle;\n",
              "    }\n",
              "\n",
              "    .dataframe tbody tr th {\n",
              "        vertical-align: top;\n",
              "    }\n",
              "\n",
              "    .dataframe thead th {\n",
              "        text-align: right;\n",
              "    }\n",
              "</style>\n",
              "<table border=\"1\" class=\"dataframe\">\n",
              "  <thead>\n",
              "    <tr style=\"text-align: right;\">\n",
              "      <th></th>\n",
              "      <th>user_id</th>\n",
              "      <th>item_id</th>\n",
              "      <th>rating</th>\n",
              "    </tr>\n",
              "  </thead>\n",
              "  <tbody>\n",
              "    <tr>\n",
              "      <th>0</th>\n",
              "      <td>1</td>\n",
              "      <td>46</td>\n",
              "      <td>4</td>\n",
              "    </tr>\n",
              "    <tr>\n",
              "      <th>1</th>\n",
              "      <td>1</td>\n",
              "      <td>257</td>\n",
              "      <td>4</td>\n",
              "    </tr>\n",
              "    <tr>\n",
              "      <th>2</th>\n",
              "      <td>1</td>\n",
              "      <td>12</td>\n",
              "      <td>5</td>\n",
              "    </tr>\n",
              "    <tr>\n",
              "      <th>3</th>\n",
              "      <td>1</td>\n",
              "      <td>74</td>\n",
              "      <td>1</td>\n",
              "    </tr>\n",
              "    <tr>\n",
              "      <th>4</th>\n",
              "      <td>1</td>\n",
              "      <td>134</td>\n",
              "      <td>4</td>\n",
              "    </tr>\n",
              "  </tbody>\n",
              "</table>\n",
              "</div>"
            ],
            "text/plain": [
              "   user_id  item_id  rating\n",
              "0        1       46       4\n",
              "1        1      257       4\n",
              "2        1       12       5\n",
              "3        1       74       1\n",
              "4        1      134       4"
            ]
          },
          "execution_count": 2,
          "metadata": {},
          "output_type": "execute_result"
        }
      ],
      "source": [
        "import pandas as pd\n",
        "\n",
        "# df = pd.read_csv(\"/content/drive/MyDrive/AI Planning/u.data\", sep=\"\\t\", header=None)\n",
        "\n",
        "data_dir = 'dataset/u.data'\n",
        "\n",
        "df = pd.read_csv(data_dir, sep=\"\\t\", header=None)\n",
        "\n",
        "df.columns=['user_id', 'item_id', 'rating', 'timestamp']\n",
        "df.drop('timestamp', axis=1, inplace=True)\n",
        "df.sort_values(['user_id'], ignore_index=True, inplace=True)\n",
        "df.head()"
      ]
    },
    {
      "cell_type": "code",
      "execution_count": 3,
      "metadata": {
        "colab": {
          "base_uri": "https://localhost:8080/",
          "height": 206
        },
        "id": "3WZxuGS-sCe1",
        "outputId": "b9ec8243-8d51-4ae4-e6fb-0aa262af4f30"
      },
      "outputs": [
        {
          "data": {
            "text/html": [
              "<div>\n",
              "<style scoped>\n",
              "    .dataframe tbody tr th:only-of-type {\n",
              "        vertical-align: middle;\n",
              "    }\n",
              "\n",
              "    .dataframe tbody tr th {\n",
              "        vertical-align: top;\n",
              "    }\n",
              "\n",
              "    .dataframe thead th {\n",
              "        text-align: right;\n",
              "    }\n",
              "</style>\n",
              "<table border=\"1\" class=\"dataframe\">\n",
              "  <thead>\n",
              "    <tr style=\"text-align: right;\">\n",
              "      <th></th>\n",
              "      <th>user_id</th>\n",
              "      <th>age</th>\n",
              "      <th>gender</th>\n",
              "      <th>occupation</th>\n",
              "    </tr>\n",
              "  </thead>\n",
              "  <tbody>\n",
              "    <tr>\n",
              "      <th>0</th>\n",
              "      <td>1</td>\n",
              "      <td>24</td>\n",
              "      <td>M</td>\n",
              "      <td>technician</td>\n",
              "    </tr>\n",
              "    <tr>\n",
              "      <th>1</th>\n",
              "      <td>2</td>\n",
              "      <td>53</td>\n",
              "      <td>F</td>\n",
              "      <td>other</td>\n",
              "    </tr>\n",
              "    <tr>\n",
              "      <th>2</th>\n",
              "      <td>3</td>\n",
              "      <td>23</td>\n",
              "      <td>M</td>\n",
              "      <td>writer</td>\n",
              "    </tr>\n",
              "    <tr>\n",
              "      <th>3</th>\n",
              "      <td>4</td>\n",
              "      <td>24</td>\n",
              "      <td>M</td>\n",
              "      <td>technician</td>\n",
              "    </tr>\n",
              "    <tr>\n",
              "      <th>4</th>\n",
              "      <td>5</td>\n",
              "      <td>33</td>\n",
              "      <td>F</td>\n",
              "      <td>other</td>\n",
              "    </tr>\n",
              "  </tbody>\n",
              "</table>\n",
              "</div>"
            ],
            "text/plain": [
              "   user_id  age gender  occupation\n",
              "0        1   24      M  technician\n",
              "1        2   53      F       other\n",
              "2        3   23      M      writer\n",
              "3        4   24      M  technician\n",
              "4        5   33      F       other"
            ]
          },
          "execution_count": 3,
          "metadata": {},
          "output_type": "execute_result"
        }
      ],
      "source": [
        "# user = pd.read_csv(\"/content/drive/MyDrive/AI Planning/u.user\", sep=\"|\", header=None)\n",
        "user_data_dir = 'dataset/u.user'\n",
        "\n",
        "user = pd.read_csv(user_data_dir, sep=\"|\", header=None)\n",
        "\n",
        "user.columns=['user_id', 'age', 'gender', 'occupation','zip code']\n",
        "user.drop('zip code', axis=1, inplace=True)\n",
        "user.head()"
      ]
    },
    {
      "cell_type": "code",
      "execution_count": 4,
      "metadata": {
        "colab": {
          "base_uri": "https://localhost:8080/",
          "height": 256
        },
        "id": "KNJNNfF7u2g9",
        "outputId": "551ce6cc-ab62-488c-8a43-5d09d44af53e"
      },
      "outputs": [
        {
          "data": {
            "text/html": [
              "<div>\n",
              "<style scoped>\n",
              "    .dataframe tbody tr th:only-of-type {\n",
              "        vertical-align: middle;\n",
              "    }\n",
              "\n",
              "    .dataframe tbody tr th {\n",
              "        vertical-align: top;\n",
              "    }\n",
              "\n",
              "    .dataframe thead th {\n",
              "        text-align: right;\n",
              "    }\n",
              "</style>\n",
              "<table border=\"1\" class=\"dataframe\">\n",
              "  <thead>\n",
              "    <tr style=\"text-align: right;\">\n",
              "      <th></th>\n",
              "      <th>user_id</th>\n",
              "      <th>age</th>\n",
              "      <th>gender_F</th>\n",
              "      <th>gender_M</th>\n",
              "      <th>occupation_administrator</th>\n",
              "      <th>occupation_artist</th>\n",
              "      <th>occupation_doctor</th>\n",
              "      <th>occupation_educator</th>\n",
              "      <th>occupation_engineer</th>\n",
              "      <th>occupation_entertainment</th>\n",
              "      <th>...</th>\n",
              "      <th>occupation_marketing</th>\n",
              "      <th>occupation_none</th>\n",
              "      <th>occupation_other</th>\n",
              "      <th>occupation_programmer</th>\n",
              "      <th>occupation_retired</th>\n",
              "      <th>occupation_salesman</th>\n",
              "      <th>occupation_scientist</th>\n",
              "      <th>occupation_student</th>\n",
              "      <th>occupation_technician</th>\n",
              "      <th>occupation_writer</th>\n",
              "    </tr>\n",
              "  </thead>\n",
              "  <tbody>\n",
              "    <tr>\n",
              "      <th>0</th>\n",
              "      <td>1</td>\n",
              "      <td>24</td>\n",
              "      <td>0.0</td>\n",
              "      <td>1.0</td>\n",
              "      <td>0.0</td>\n",
              "      <td>0.0</td>\n",
              "      <td>0.0</td>\n",
              "      <td>0.0</td>\n",
              "      <td>0.0</td>\n",
              "      <td>0.0</td>\n",
              "      <td>...</td>\n",
              "      <td>0.0</td>\n",
              "      <td>0.0</td>\n",
              "      <td>0.0</td>\n",
              "      <td>0.0</td>\n",
              "      <td>0.0</td>\n",
              "      <td>0.0</td>\n",
              "      <td>0.0</td>\n",
              "      <td>0.0</td>\n",
              "      <td>1.0</td>\n",
              "      <td>0.0</td>\n",
              "    </tr>\n",
              "    <tr>\n",
              "      <th>1</th>\n",
              "      <td>2</td>\n",
              "      <td>53</td>\n",
              "      <td>1.0</td>\n",
              "      <td>0.0</td>\n",
              "      <td>0.0</td>\n",
              "      <td>0.0</td>\n",
              "      <td>0.0</td>\n",
              "      <td>0.0</td>\n",
              "      <td>0.0</td>\n",
              "      <td>0.0</td>\n",
              "      <td>...</td>\n",
              "      <td>0.0</td>\n",
              "      <td>0.0</td>\n",
              "      <td>1.0</td>\n",
              "      <td>0.0</td>\n",
              "      <td>0.0</td>\n",
              "      <td>0.0</td>\n",
              "      <td>0.0</td>\n",
              "      <td>0.0</td>\n",
              "      <td>0.0</td>\n",
              "      <td>0.0</td>\n",
              "    </tr>\n",
              "    <tr>\n",
              "      <th>2</th>\n",
              "      <td>3</td>\n",
              "      <td>23</td>\n",
              "      <td>0.0</td>\n",
              "      <td>1.0</td>\n",
              "      <td>0.0</td>\n",
              "      <td>0.0</td>\n",
              "      <td>0.0</td>\n",
              "      <td>0.0</td>\n",
              "      <td>0.0</td>\n",
              "      <td>0.0</td>\n",
              "      <td>...</td>\n",
              "      <td>0.0</td>\n",
              "      <td>0.0</td>\n",
              "      <td>0.0</td>\n",
              "      <td>0.0</td>\n",
              "      <td>0.0</td>\n",
              "      <td>0.0</td>\n",
              "      <td>0.0</td>\n",
              "      <td>0.0</td>\n",
              "      <td>0.0</td>\n",
              "      <td>1.0</td>\n",
              "    </tr>\n",
              "    <tr>\n",
              "      <th>3</th>\n",
              "      <td>4</td>\n",
              "      <td>24</td>\n",
              "      <td>0.0</td>\n",
              "      <td>1.0</td>\n",
              "      <td>0.0</td>\n",
              "      <td>0.0</td>\n",
              "      <td>0.0</td>\n",
              "      <td>0.0</td>\n",
              "      <td>0.0</td>\n",
              "      <td>0.0</td>\n",
              "      <td>...</td>\n",
              "      <td>0.0</td>\n",
              "      <td>0.0</td>\n",
              "      <td>0.0</td>\n",
              "      <td>0.0</td>\n",
              "      <td>0.0</td>\n",
              "      <td>0.0</td>\n",
              "      <td>0.0</td>\n",
              "      <td>0.0</td>\n",
              "      <td>1.0</td>\n",
              "      <td>0.0</td>\n",
              "    </tr>\n",
              "    <tr>\n",
              "      <th>4</th>\n",
              "      <td>5</td>\n",
              "      <td>33</td>\n",
              "      <td>1.0</td>\n",
              "      <td>0.0</td>\n",
              "      <td>0.0</td>\n",
              "      <td>0.0</td>\n",
              "      <td>0.0</td>\n",
              "      <td>0.0</td>\n",
              "      <td>0.0</td>\n",
              "      <td>0.0</td>\n",
              "      <td>...</td>\n",
              "      <td>0.0</td>\n",
              "      <td>0.0</td>\n",
              "      <td>1.0</td>\n",
              "      <td>0.0</td>\n",
              "      <td>0.0</td>\n",
              "      <td>0.0</td>\n",
              "      <td>0.0</td>\n",
              "      <td>0.0</td>\n",
              "      <td>0.0</td>\n",
              "      <td>0.0</td>\n",
              "    </tr>\n",
              "  </tbody>\n",
              "</table>\n",
              "<p>5 rows × 25 columns</p>\n",
              "</div>"
            ],
            "text/plain": [
              "   user_id  age  gender_F  gender_M  occupation_administrator  \\\n",
              "0        1   24       0.0       1.0                       0.0   \n",
              "1        2   53       1.0       0.0                       0.0   \n",
              "2        3   23       0.0       1.0                       0.0   \n",
              "3        4   24       0.0       1.0                       0.0   \n",
              "4        5   33       1.0       0.0                       0.0   \n",
              "\n",
              "   occupation_artist  occupation_doctor  occupation_educator  \\\n",
              "0                0.0                0.0                  0.0   \n",
              "1                0.0                0.0                  0.0   \n",
              "2                0.0                0.0                  0.0   \n",
              "3                0.0                0.0                  0.0   \n",
              "4                0.0                0.0                  0.0   \n",
              "\n",
              "   occupation_engineer  occupation_entertainment  ...  occupation_marketing  \\\n",
              "0                  0.0                       0.0  ...                   0.0   \n",
              "1                  0.0                       0.0  ...                   0.0   \n",
              "2                  0.0                       0.0  ...                   0.0   \n",
              "3                  0.0                       0.0  ...                   0.0   \n",
              "4                  0.0                       0.0  ...                   0.0   \n",
              "\n",
              "   occupation_none  occupation_other  occupation_programmer  \\\n",
              "0              0.0               0.0                    0.0   \n",
              "1              0.0               1.0                    0.0   \n",
              "2              0.0               0.0                    0.0   \n",
              "3              0.0               0.0                    0.0   \n",
              "4              0.0               1.0                    0.0   \n",
              "\n",
              "   occupation_retired  occupation_salesman  occupation_scientist  \\\n",
              "0                 0.0                  0.0                   0.0   \n",
              "1                 0.0                  0.0                   0.0   \n",
              "2                 0.0                  0.0                   0.0   \n",
              "3                 0.0                  0.0                   0.0   \n",
              "4                 0.0                  0.0                   0.0   \n",
              "\n",
              "   occupation_student  occupation_technician  occupation_writer  \n",
              "0                 0.0                    1.0                0.0  \n",
              "1                 0.0                    0.0                0.0  \n",
              "2                 0.0                    0.0                1.0  \n",
              "3                 0.0                    1.0                0.0  \n",
              "4                 0.0                    0.0                0.0  \n",
              "\n",
              "[5 rows x 25 columns]"
            ]
          },
          "execution_count": 4,
          "metadata": {},
          "output_type": "execute_result"
        }
      ],
      "source": [
        "from sklearn.preprocessing import OneHotEncoder\n",
        "\n",
        "encoder = OneHotEncoder(sparse_output=False)\n",
        "encoded_data = encoder.fit_transform(user[['gender', 'occupation']])\n",
        "encoded_data = pd.DataFrame(encoded_data, columns=encoder.get_feature_names_out(['gender', 'occupation']))\n",
        "encoded_data.head()\n",
        "\n",
        "user = pd.concat([user, encoded_data], ignore_index=False, sort=False, axis=1)\n",
        "user.drop(['gender', 'occupation'], axis=1, inplace=True)\n",
        "user.head()"
      ]
    },
    {
      "cell_type": "code",
      "execution_count": 5,
      "metadata": {
        "colab": {
          "base_uri": "https://localhost:8080/",
          "height": 256
        },
        "id": "h5SYr_uL8vFh",
        "outputId": "fbdba6d7-aaff-4fa9-9c37-798060824e92"
      },
      "outputs": [
        {
          "data": {
            "text/html": [
              "<div>\n",
              "<style scoped>\n",
              "    .dataframe tbody tr th:only-of-type {\n",
              "        vertical-align: middle;\n",
              "    }\n",
              "\n",
              "    .dataframe tbody tr th {\n",
              "        vertical-align: top;\n",
              "    }\n",
              "\n",
              "    .dataframe thead th {\n",
              "        text-align: right;\n",
              "    }\n",
              "</style>\n",
              "<table border=\"1\" class=\"dataframe\">\n",
              "  <thead>\n",
              "    <tr style=\"text-align: right;\">\n",
              "      <th></th>\n",
              "      <th>user_id</th>\n",
              "      <th>age</th>\n",
              "      <th>gender_F</th>\n",
              "      <th>gender_M</th>\n",
              "      <th>occupation_administrator</th>\n",
              "      <th>occupation_artist</th>\n",
              "      <th>occupation_doctor</th>\n",
              "      <th>occupation_educator</th>\n",
              "      <th>occupation_engineer</th>\n",
              "      <th>occupation_entertainment</th>\n",
              "      <th>...</th>\n",
              "      <th>occupation_marketing</th>\n",
              "      <th>occupation_none</th>\n",
              "      <th>occupation_other</th>\n",
              "      <th>occupation_programmer</th>\n",
              "      <th>occupation_retired</th>\n",
              "      <th>occupation_salesman</th>\n",
              "      <th>occupation_scientist</th>\n",
              "      <th>occupation_student</th>\n",
              "      <th>occupation_technician</th>\n",
              "      <th>occupation_writer</th>\n",
              "    </tr>\n",
              "  </thead>\n",
              "  <tbody>\n",
              "    <tr>\n",
              "      <th>0</th>\n",
              "      <td>1</td>\n",
              "      <td>0.257576</td>\n",
              "      <td>0.0</td>\n",
              "      <td>1.0</td>\n",
              "      <td>0.0</td>\n",
              "      <td>0.0</td>\n",
              "      <td>0.0</td>\n",
              "      <td>0.0</td>\n",
              "      <td>0.0</td>\n",
              "      <td>0.0</td>\n",
              "      <td>...</td>\n",
              "      <td>0.0</td>\n",
              "      <td>0.0</td>\n",
              "      <td>0.0</td>\n",
              "      <td>0.0</td>\n",
              "      <td>0.0</td>\n",
              "      <td>0.0</td>\n",
              "      <td>0.0</td>\n",
              "      <td>0.0</td>\n",
              "      <td>1.0</td>\n",
              "      <td>0.0</td>\n",
              "    </tr>\n",
              "    <tr>\n",
              "      <th>1</th>\n",
              "      <td>2</td>\n",
              "      <td>0.696970</td>\n",
              "      <td>1.0</td>\n",
              "      <td>0.0</td>\n",
              "      <td>0.0</td>\n",
              "      <td>0.0</td>\n",
              "      <td>0.0</td>\n",
              "      <td>0.0</td>\n",
              "      <td>0.0</td>\n",
              "      <td>0.0</td>\n",
              "      <td>...</td>\n",
              "      <td>0.0</td>\n",
              "      <td>0.0</td>\n",
              "      <td>1.0</td>\n",
              "      <td>0.0</td>\n",
              "      <td>0.0</td>\n",
              "      <td>0.0</td>\n",
              "      <td>0.0</td>\n",
              "      <td>0.0</td>\n",
              "      <td>0.0</td>\n",
              "      <td>0.0</td>\n",
              "    </tr>\n",
              "    <tr>\n",
              "      <th>2</th>\n",
              "      <td>3</td>\n",
              "      <td>0.242424</td>\n",
              "      <td>0.0</td>\n",
              "      <td>1.0</td>\n",
              "      <td>0.0</td>\n",
              "      <td>0.0</td>\n",
              "      <td>0.0</td>\n",
              "      <td>0.0</td>\n",
              "      <td>0.0</td>\n",
              "      <td>0.0</td>\n",
              "      <td>...</td>\n",
              "      <td>0.0</td>\n",
              "      <td>0.0</td>\n",
              "      <td>0.0</td>\n",
              "      <td>0.0</td>\n",
              "      <td>0.0</td>\n",
              "      <td>0.0</td>\n",
              "      <td>0.0</td>\n",
              "      <td>0.0</td>\n",
              "      <td>0.0</td>\n",
              "      <td>1.0</td>\n",
              "    </tr>\n",
              "    <tr>\n",
              "      <th>3</th>\n",
              "      <td>4</td>\n",
              "      <td>0.257576</td>\n",
              "      <td>0.0</td>\n",
              "      <td>1.0</td>\n",
              "      <td>0.0</td>\n",
              "      <td>0.0</td>\n",
              "      <td>0.0</td>\n",
              "      <td>0.0</td>\n",
              "      <td>0.0</td>\n",
              "      <td>0.0</td>\n",
              "      <td>...</td>\n",
              "      <td>0.0</td>\n",
              "      <td>0.0</td>\n",
              "      <td>0.0</td>\n",
              "      <td>0.0</td>\n",
              "      <td>0.0</td>\n",
              "      <td>0.0</td>\n",
              "      <td>0.0</td>\n",
              "      <td>0.0</td>\n",
              "      <td>1.0</td>\n",
              "      <td>0.0</td>\n",
              "    </tr>\n",
              "    <tr>\n",
              "      <th>4</th>\n",
              "      <td>5</td>\n",
              "      <td>0.393939</td>\n",
              "      <td>1.0</td>\n",
              "      <td>0.0</td>\n",
              "      <td>0.0</td>\n",
              "      <td>0.0</td>\n",
              "      <td>0.0</td>\n",
              "      <td>0.0</td>\n",
              "      <td>0.0</td>\n",
              "      <td>0.0</td>\n",
              "      <td>...</td>\n",
              "      <td>0.0</td>\n",
              "      <td>0.0</td>\n",
              "      <td>1.0</td>\n",
              "      <td>0.0</td>\n",
              "      <td>0.0</td>\n",
              "      <td>0.0</td>\n",
              "      <td>0.0</td>\n",
              "      <td>0.0</td>\n",
              "      <td>0.0</td>\n",
              "      <td>0.0</td>\n",
              "    </tr>\n",
              "  </tbody>\n",
              "</table>\n",
              "<p>5 rows × 25 columns</p>\n",
              "</div>"
            ],
            "text/plain": [
              "   user_id       age  gender_F  gender_M  occupation_administrator  \\\n",
              "0        1  0.257576       0.0       1.0                       0.0   \n",
              "1        2  0.696970       1.0       0.0                       0.0   \n",
              "2        3  0.242424       0.0       1.0                       0.0   \n",
              "3        4  0.257576       0.0       1.0                       0.0   \n",
              "4        5  0.393939       1.0       0.0                       0.0   \n",
              "\n",
              "   occupation_artist  occupation_doctor  occupation_educator  \\\n",
              "0                0.0                0.0                  0.0   \n",
              "1                0.0                0.0                  0.0   \n",
              "2                0.0                0.0                  0.0   \n",
              "3                0.0                0.0                  0.0   \n",
              "4                0.0                0.0                  0.0   \n",
              "\n",
              "   occupation_engineer  occupation_entertainment  ...  occupation_marketing  \\\n",
              "0                  0.0                       0.0  ...                   0.0   \n",
              "1                  0.0                       0.0  ...                   0.0   \n",
              "2                  0.0                       0.0  ...                   0.0   \n",
              "3                  0.0                       0.0  ...                   0.0   \n",
              "4                  0.0                       0.0  ...                   0.0   \n",
              "\n",
              "   occupation_none  occupation_other  occupation_programmer  \\\n",
              "0              0.0               0.0                    0.0   \n",
              "1              0.0               1.0                    0.0   \n",
              "2              0.0               0.0                    0.0   \n",
              "3              0.0               0.0                    0.0   \n",
              "4              0.0               1.0                    0.0   \n",
              "\n",
              "   occupation_retired  occupation_salesman  occupation_scientist  \\\n",
              "0                 0.0                  0.0                   0.0   \n",
              "1                 0.0                  0.0                   0.0   \n",
              "2                 0.0                  0.0                   0.0   \n",
              "3                 0.0                  0.0                   0.0   \n",
              "4                 0.0                  0.0                   0.0   \n",
              "\n",
              "   occupation_student  occupation_technician  occupation_writer  \n",
              "0                 0.0                    1.0                0.0  \n",
              "1                 0.0                    0.0                0.0  \n",
              "2                 0.0                    0.0                1.0  \n",
              "3                 0.0                    1.0                0.0  \n",
              "4                 0.0                    0.0                0.0  \n",
              "\n",
              "[5 rows x 25 columns]"
            ]
          },
          "execution_count": 5,
          "metadata": {},
          "output_type": "execute_result"
        }
      ],
      "source": [
        "from sklearn.preprocessing import MinMaxScaler\n",
        "minmax = MinMaxScaler()\n",
        "user['age'] = minmax.fit_transform(user[['age']])\n",
        "\n",
        "user.head()"
      ]
    },
    {
      "cell_type": "code",
      "execution_count": 6,
      "metadata": {
        "colab": {
          "base_uri": "https://localhost:8080/"
        },
        "id": "TaCSRRIraHPy",
        "outputId": "12b1418c-41a3-4851-a8e7-1ebd9ba220ea"
      },
      "outputs": [
        {
          "name": "stdout",
          "output_type": "stream",
          "text": [
            "20\n",
            "Index(['item_id', 'unknown', 'Action', 'Adventure', 'Animation', 'Children',\n",
            "       'Comedy', 'Crime', 'Documentary', 'Drama', 'Fantasy', 'Film-Noir',\n",
            "       'Horror', 'Musical', 'Mystery', 'Romance', 'Sci-Fi', 'Thriller', 'War',\n",
            "       'Western'],\n",
            "      dtype='object')\n"
          ]
        }
      ],
      "source": [
        "# movie = pd.read_csv(\"/content/drive/MyDrive/AI Planning/u.item\", sep='|', header=None, encoding='latin-1')\n",
        "movie = pd.read_csv('dataset/u.item', sep='|', header=None, encoding='latin-1')\n",
        "\n",
        "movie.columns=['item_id', 'movie_title', 'release date', 'video release date', 'IMDb URL', 'unknown', 'Action', 'Adventure', 'Animation',\n",
        "               'Children', 'Comedy', 'Crime', 'Documentary', 'Drama', 'Fantasy', 'Film-Noir', 'Horror', 'Musical', 'Mystery', 'Romance',\n",
        "               'Sci-Fi', 'Thriller', 'War', 'Western']\n",
        "\n",
        "movie.drop(['movie_title', 'release date', 'video release date', 'IMDb URL'], axis=1, inplace=True)\n",
        "\n",
        "print(len(movie.columns))\n",
        "print(movie.columns)"
      ]
    },
    {
      "cell_type": "markdown",
      "metadata": {
        "id": "5e7MbFUYHha5"
      },
      "source": [
        "## STEP 3: CLUSTER MOVIES\n",
        "\n",
        "Why? To reduce the number of arms therefore limiting the exploration space. Also helps with generalization."
      ]
    },
    {
      "cell_type": "code",
      "execution_count": 7,
      "metadata": {
        "id": "Kwi99GD-Hfzj"
      },
      "outputs": [],
      "source": [
        "from sklearn.cluster import KMeans\n",
        "\n",
        "kmeans = KMeans(n_clusters=20, random_state=5)\n",
        "movie_clusters = kmeans.fit_predict(movie.drop(['item_id'], axis=1))\n",
        "\n",
        "movie['cluster'] = movie_clusters"
      ]
    },
    {
      "cell_type": "markdown",
      "metadata": {
        "id": "NEl5h8H8wkBe"
      },
      "source": [
        "## STEP 2: BUILDING & TRAINING THE LINUCB MODEL"
      ]
    },
    {
      "cell_type": "code",
      "execution_count": 8,
      "metadata": {
        "id": "INoYxNvxKQDI"
      },
      "outputs": [],
      "source": [
        "# Implementation assisted by ChatGPT\n",
        "\n",
        "import numpy as np\n",
        "\n",
        "class LinUCB:\n",
        "  def __init__(self, n_arms, context_dim, alpha):\n",
        "    self.n_arms = n_arms\n",
        "    self.context_dim = context_dim\n",
        "    self.alpha = alpha\n",
        "    self.A = [np.identity(context_dim) for arm in range(n_arms)]\n",
        "    self.b = [np.zeros(context_dim) for arm in range(n_arms)]\n",
        "\n",
        "  def score(self, arm, x):\n",
        "        A_inv = np.linalg.inv(self.A[arm])\n",
        "        theta = A_inv @ self.b[arm]\n",
        "        score = np.transpose(theta) @ x + self.alpha * np.sqrt(np.transpose(x) @ A_inv @ x)\n",
        "        return score\n",
        "\n",
        "  def select_arm(self, x):\n",
        "    p_vals = []\n",
        "    for i in range(self.n_arms):\n",
        "        p = self.score(i, x)\n",
        "        p_vals.append(p)\n",
        "    return np.argmax(p_vals)\n",
        "\n",
        "  def update(self, arm_idx, x, r):\n",
        "    self.A[arm_idx] += np.outer(x, x)\n",
        "    self.b[arm_idx] += r * x"
      ]
    },
    {
      "cell_type": "code",
      "execution_count": 9,
      "metadata": {},
      "outputs": [],
      "source": [
        "# Implementation assisted by ChatGPT\n",
        "\n",
        "class ContextualEpsilonGreedy:\n",
        "    def __init__(self, n_arms, context_dim, epsilon):\n",
        "        self.n_arms = n_arms\n",
        "        self.context_dim = context_dim\n",
        "        self.epsilon = epsilon\n",
        "        self.A = [np.identity(context_dim) for _ in range(n_arms)]\n",
        "        self.b = [np.zeros(context_dim) for _ in range(n_arms)]\n",
        "\n",
        "    def score(self, arm, x):\n",
        "        A_inv = np.linalg.inv(self.A[arm])\n",
        "        theta = A_inv @ self.b[arm]\n",
        "        return np.transpose(theta) @ x\n",
        "\n",
        "    def select_arm(self, x):\n",
        "        if np.random.rand() < self.epsilon:\n",
        "            # Explore randomly\n",
        "            random_arm = np.random.randint(self.n_arms)\n",
        "            scores = self.score(random_arm, x)\n",
        "            return scores\n",
        "        else:\n",
        "            # Exploit best arm\n",
        "            scores = [self.score(i, x) for i in range(self.n_arms)]\n",
        "            return np.argmax(scores)\n",
        "\n",
        "    def update(self, arm_idx, x, r):\n",
        "        self.A[arm_idx] += np.outer(x, x)\n",
        "        self.b[arm_idx] += r * x\n"
      ]
    },
    {
      "cell_type": "code",
      "execution_count": 10,
      "metadata": {
        "id": "z7QLKXlIPUjs"
      },
      "outputs": [],
      "source": [
        "n_training = int(df.shape[0]*0.9)\n",
        "\n",
        "training_df = df.iloc[:n_training]\n",
        "testing_df = df.iloc[n_training:]\n",
        "\n",
        "from sklearn.utils import shuffle\n",
        "training_df = shuffle(training_df)\n",
        "training_df.reset_index(drop=True, inplace=True)\n",
        "\n",
        "testing_df = shuffle(testing_df)\n",
        "testing_df.reset_index(drop=True, inplace=True)"
      ]
    },
    {
      "cell_type": "markdown",
      "metadata": {},
      "source": [
        "Training LinUCB and e-Greedy model"
      ]
    },
    {
      "cell_type": "code",
      "execution_count": 11,
      "metadata": {
        "collapsed": true,
        "id": "J-GLR7nFylSk"
      },
      "outputs": [],
      "source": [
        "num_arms = len(movie['cluster'].unique())\n",
        "\n",
        "context_dim = user.shape[1]+movie.shape[1]-3\n",
        "\n",
        "linucb = LinUCB(num_arms, context_dim, 0.5)\n",
        "cb_e_greedy = ContextualEpsilonGreedy(num_arms, context_dim, 0.1)\n",
        "\n",
        "for idx, row in training_df.iterrows():\n",
        "  user_id = row['user_id']\n",
        "  item_id = row['item_id']\n",
        "\n",
        "  user_features = user.loc[user['user_id'] == user_id]\n",
        "  user_features = user_features.drop('user_id', axis=1)\n",
        "\n",
        "  movie_row = movie.loc[movie['item_id'] == item_id]\n",
        "  movie_features = movie_row.drop(['item_id', 'cluster'], axis=1)\n",
        "\n",
        "  context = np.concatenate((user_features.values.flatten(), movie_features.values.flatten()))\n",
        "\n",
        "  reward = row['rating']/5\n",
        "\n",
        "  cluster = movie_row[\"cluster\"].values[0]\n",
        "\n",
        "  linucb.update(cluster, context, reward)\n",
        "  cb_e_greedy.update(cluster, context, reward)"
      ]
    },
    {
      "cell_type": "markdown",
      "metadata": {
        "id": "po-ypNbBWjuo"
      },
      "source": [
        "## Testing\n",
        "\n",
        "Because we want to simulate a cold start problem, we assume that the testing data for new users only contain the user's age, occupation, and genre."
      ]
    },
    {
      "cell_type": "code",
      "execution_count": 12,
      "metadata": {
        "id": "GGbKcHhKnOs8"
      },
      "outputs": [],
      "source": [
        "def dcg(relevances):\n",
        "    return sum([(2**rel - 1) / np.log2(idx + 2) for idx, rel in enumerate(relevances)])\n",
        "\n",
        "def ndcg_at_k(true_relevance, predicted_scores, k=10):\n",
        "    idx_sorted = np.argsort(predicted_scores)[::-1][:k]\n",
        "    relevances = [true_relevance[i] for i in idx_sorted]\n",
        "    ideal_relevances = sorted(true_relevance, reverse=True)[:k]\n",
        "    return dcg(relevances) / dcg(ideal_relevances) if dcg(ideal_relevances) > 0 else 0"
      ]
    },
    {
      "cell_type": "code",
      "execution_count": 13,
      "metadata": {
        "colab": {
          "base_uri": "https://localhost:8080/"
        },
        "collapsed": true,
        "id": "RX5Ino8ubNJI",
        "outputId": "600ea122-61b5-42ea-a838-088d92079604"
      },
      "outputs": [],
      "source": [
        "# ndcg_scores = []\n",
        "\n",
        "# for idx, row in testing_df.iterrows():\n",
        "#     user_id = row['user_id']\n",
        "#     true_rating = row['rating']/5\n",
        "#     true_movie = row['item_id']\n",
        "\n",
        "#     user_features = user.loc[user['user_id'] == user_id]\n",
        "#     user_features = user_features.drop('user_id', axis=1)\n",
        "\n",
        "#     movie_row = movie.loc[movie['item_id'] == true_movie]\n",
        "#     movie_features = movie_row.drop(['item_id', 'cluster'], axis=1)\n",
        "\n",
        "#     context = np.concatenate((user_features.values.flatten(), movie_features.values.flatten()))\n",
        "\n",
        "#     true_cluster = movie_row[\"cluster\"].values[0]\n",
        "\n",
        "#     predicted_scores = []\n",
        "#     true_relevance = []\n",
        "\n",
        "#     for arm_idx in range(linucb.n_arms):\n",
        "#         score = linucb.score(arm_idx, context)\n",
        "#         predicted_scores.append(score)\n",
        "#         true_relevance.append(1 if arm_idx == true_cluster else 0)\n",
        "\n",
        "#     ndcg = ndcg_at_k(true_relevance, predicted_scores, k=10)\n",
        "#     ndcg_scores.append(ndcg)\n",
        "\n",
        "# print(f\"Average NDCG@10: {np.mean(ndcg_scores):.4f}\")"
      ]
    },
    {
      "cell_type": "code",
      "execution_count": 14,
      "metadata": {},
      "outputs": [],
      "source": [
        "# ndcg_scores = []\n",
        "\n",
        "# for idx, row in testing_df.iterrows():\n",
        "#     user_id = row['user_id']\n",
        "#     true_rating = row['rating']/5\n",
        "#     true_movie = row['item_id']\n",
        "\n",
        "#     user_features = user.loc[user['user_id'] == user_id]\n",
        "#     user_features = user_features.drop('user_id', axis=1)\n",
        "\n",
        "#     movie_row = movie.loc[movie['item_id'] == true_movie]\n",
        "#     movie_features = movie_row.drop(['item_id', 'cluster'], axis=1)\n",
        "\n",
        "#     context = np.concatenate((user_features.values.flatten(), movie_features.values.flatten()))\n",
        "\n",
        "#     true_cluster = movie_row[\"cluster\"].values[0]\n",
        "\n",
        "#     predicted_scores = []\n",
        "#     true_relevance = []\n",
        "\n",
        "#     for arm_idx in range(linucb.n_arms):\n",
        "#         score = cb_e_greedy.score(arm_idx, context)\n",
        "#         predicted_scores.append(score)\n",
        "#         true_relevance.append(1 if arm_idx == true_cluster else 0)\n",
        "\n",
        "#     ndcg = ndcg_at_k(true_relevance, predicted_scores, k=10)\n",
        "#     ndcg_scores.append(ndcg)\n",
        "\n",
        "# print(f\"Average NDCG@10: {np.mean(ndcg_scores):.4f}\")"
      ]
    },
    {
      "cell_type": "code",
      "execution_count": null,
      "metadata": {},
      "outputs": [],
      "source": [
        "# Calculate NDCG for any model\n",
        "def calculate_ndcg(row, model):\n",
        "    user_id = row.user_id\n",
        "    true_movie = row.item_id\n",
        "    true_rating = row.rating\n",
        "\n",
        "    user_features = user.loc[user['user_id'] == user_id]\n",
        "    user_features = user_features.drop('user_id', axis=1)\n",
        "\n",
        "    movie_row = movie.loc[movie['item_id'] == true_movie]\n",
        "    movie_features = movie_row.drop(['item_id', 'cluster'], axis=1)\n",
        "\n",
        "    context = np.concatenate((user_features.values.flatten(), movie_features.values.flatten()))\n",
        "\n",
        "    true_cluster = movie_row[\"cluster\"].values[0]\n",
        "\n",
        "    predicted_scores = []\n",
        "    true_relevance = []\n",
        "\n",
        "    for arm_idx in range(model.n_arms):\n",
        "        score = model.score(arm_idx, context)\n",
        "        predicted_scores.append(score)\n",
        "        true_relevance.append(1 if arm_idx == true_cluster else 0)\n",
        "\n",
        "    ndcg = ndcg_at_k(true_relevance, predicted_scores, k=10)\n",
        "    return ndcg"
      ]
    },
    {
      "cell_type": "markdown",
      "metadata": {},
      "source": [
        "Testing and printin NDCG for LinUCB and e-Greedy model"
      ]
    },
    {
      "cell_type": "code",
      "execution_count": 16,
      "metadata": {},
      "outputs": [
        {
          "name": "stderr",
          "output_type": "stream",
          "text": [
            "LinUCB NDCG: 100%|██████████| 10000/10000 [00:04<00:00, 2187.45it/s]\n",
            "e-Greedy NDCG: 100%|██████████| 10000/10000 [00:02<00:00, 3404.29it/s]\n"
          ]
        },
        {
          "name": "stdout",
          "output_type": "stream",
          "text": [
            "LinUCB Average NDCG@10: 0.0182\n",
            "e-Greedy Average NDCG@10: 0.7296\n"
          ]
        }
      ],
      "source": [
        "from tqdm import tqdm\n",
        "from joblib import Parallel, delayed\n",
        "import numpy as np\n",
        "\n",
        "# Parallel execution with progress bar\n",
        "results_linucb = Parallel(n_jobs=-1)(delayed(calculate_ndcg)(row, linucb) for row in tqdm(testing_df.itertuples(index=False), total=len(testing_df), desc=\"LinUCB NDCG\"))\n",
        "results_cb_egreedy = Parallel(n_jobs=-1)(delayed(calculate_ndcg)(row, cb_e_greedy) for row in tqdm(testing_df.itertuples(index=False), total=len(testing_df), desc=\"e-Greedy NDCG\"))\n",
        "\n",
        "print(f\"LinUCB Average NDCG@10: {np.mean(results_linucb):.4f}\")\n",
        "print(f\"e-Greedy Average NDCG@10: {np.mean(results_cb_egreedy):.4f}\")"
      ]
    },
    {
      "cell_type": "markdown",
      "metadata": {},
      "source": [
        "Training new LinUCB model with alpha 0.1"
      ]
    },
    {
      "cell_type": "code",
      "execution_count": 39,
      "metadata": {
        "colab": {
          "base_uri": "https://localhost:8080/"
        },
        "id": "W2fih3XtRAd0",
        "outputId": "0f4ddb77-7a6d-44b3-b854-3931ecdb249d"
      },
      "outputs": [],
      "source": [
        "\n",
        "num_arms = len(movie['cluster'].unique())\n",
        "\n",
        "context_dim = user.shape[1]+movie.shape[1]-3\n",
        "\n",
        "linucb_a1 = LinUCB(num_arms, context_dim, 0.1)\n",
        "linucb_a2 = LinUCB(num_arms, context_dim, 0.001)\n",
        "linucb_a3 = LinUCB(num_arms, context_dim, 0.0001)\n",
        "\n",
        "# Training\n",
        "for idx, row in training_df.iterrows():\n",
        "  user_id = row['user_id']\n",
        "  item_id = row['item_id']\n",
        "\n",
        "  user_features = user.loc[user['user_id'] == user_id]\n",
        "  user_features = user_features.drop('user_id', axis=1)\n",
        "\n",
        "  movie_row = movie.loc[movie['item_id'] == item_id]\n",
        "  movie_features = movie_row.drop(['item_id', 'cluster'], axis=1)\n",
        "\n",
        "  context = np.concatenate((user_features.values.flatten(), movie_features.values.flatten()))\n",
        "\n",
        "  reward = row['rating']/5\n",
        "\n",
        "  cluster = movie_row[\"cluster\"].values[0]\n",
        "\n",
        "  linucb_a1.update(cluster, context, reward)\n",
        "  linucb_a2.update(cluster, context, reward)\n",
        "  linucb_a3.update(cluster, context, reward)"
      ]
    },
    {
      "cell_type": "code",
      "execution_count": 40,
      "metadata": {},
      "outputs": [
        {
          "name": "stderr",
          "output_type": "stream",
          "text": [
            "LinUCB (alpha=0.1) NDCG: 100%|██████████| 10000/10000 [00:02<00:00, 3830.49it/s]\n"
          ]
        },
        {
          "name": "stdout",
          "output_type": "stream",
          "text": [
            "LinUCB (alpha=0.1) Average NDCG@10: 0.4755\n"
          ]
        }
      ],
      "source": [
        "# Testing the LinUCB (alpha=0.1)\n",
        "results_linucb_a1 = Parallel(n_jobs=-1)(delayed(calculate_ndcg)(row, linucb_a1) for row in tqdm(testing_df.itertuples(index=False), total=len(testing_df), desc=\"LinUCB (alpha=0.1) NDCG\"))\n",
        "print(f\"LinUCB (alpha=0.1) Average NDCG@10: {np.mean(results_linucb_a1):.4f}\")"
      ]
    },
    {
      "cell_type": "code",
      "execution_count": 41,
      "metadata": {},
      "outputs": [
        {
          "name": "stderr",
          "output_type": "stream",
          "text": [
            "LinUCB (alpha=0.001) NDCG: 100%|██████████| 10000/10000 [00:02<00:00, 3675.43it/s]\n"
          ]
        },
        {
          "name": "stdout",
          "output_type": "stream",
          "text": [
            "LinUCB (alpha=0.001) Average NDCG@10: 0.7265\n"
          ]
        }
      ],
      "source": [
        "\n",
        "results_linucb_a2 = Parallel(n_jobs=-1)(delayed(calculate_ndcg)(row, linucb_a2) for row in tqdm(testing_df.itertuples(index=False), total=len(testing_df), desc=\"LinUCB (alpha=0.001) NDCG\"))\n",
        "print(f\"LinUCB (alpha=0.001) Average NDCG@10: {np.mean(results_linucb_a2):.4f}\")"
      ]
    },
    {
      "cell_type": "code",
      "execution_count": 42,
      "metadata": {},
      "outputs": [
        {
          "name": "stderr",
          "output_type": "stream",
          "text": [
            "LinUCB (alpha=0.0001) NDCG: 100%|██████████| 10000/10000 [00:02<00:00, 3806.38it/s]\n"
          ]
        },
        {
          "name": "stdout",
          "output_type": "stream",
          "text": [
            "LinUCB (alpha=0.001) Average NDCG@10: 0.7290\n"
          ]
        }
      ],
      "source": [
        "results_linucb_a3 = Parallel(n_jobs=-1)(delayed(calculate_ndcg)(row, linucb_a3) for row in tqdm(testing_df.itertuples(index=False), total=len(testing_df), desc=\"LinUCB (alpha=0.0001) NDCG\"))\n",
        "print(f\"LinUCB (alpha=0.001) Average NDCG@10: {np.mean(results_linucb_a3):.4f}\")"
      ]
    },
    {
      "cell_type": "code",
      "execution_count": null,
      "metadata": {},
      "outputs": [],
      "source": [
        "# def train_linucb(row, model):\n",
        "#     user_id = row.user_id\n",
        "#     item_id = row.item_id\n",
        "#     rating = row.rating\n",
        "#     # user_id = row['user_id']\n",
        "#     # item_id = row['item_id']\n",
        "\n",
        "#     user_features = user.loc[user['user_id'] == user_id]\n",
        "#     user_features = user_features.drop('user_id', axis=1)\n",
        "\n",
        "#     movie_row = movie.loc[movie['item_id'] == item_id]\n",
        "#     movie_features = movie_row.drop(['item_id', 'cluster'], axis=1)\n",
        "\n",
        "#     context = np.concatenate((user_features.values.flatten(), movie_features.values.flatten()))\n",
        "\n",
        "#     reward = rating/5\n",
        "\n",
        "#     cluster = movie_row[\"cluster\"].values[0]\n",
        "\n",
        "#     model.update(cluster, context, reward)"
      ]
    },
    {
      "cell_type": "code",
      "execution_count": null,
      "metadata": {},
      "outputs": [
        {
          "name": "stderr",
          "output_type": "stream",
          "text": [
            "Parallel Training: 100%|██████████| 90000/90000 [00:07<00:00, 12112.33it/s]\n"
          ]
        }
      ],
      "source": [
        "# # Training new LinUCB (alpha=0.1)\n",
        "# linucb_a1 = LinUCB(num_arms, context_dim, 0.1)\n",
        "# results = Parallel(n_jobs=-1)(delayed(train_linucb)(row, linucb_a1) for row in tqdm(training_df.itertuples(index=False), total=len(training_df), desc=\"Parallel Training\"))"
      ]
    },
    {
      "cell_type": "code",
      "execution_count": null,
      "metadata": {},
      "outputs": [
        {
          "name": "stderr",
          "output_type": "stream",
          "text": [
            "LinUCB (alpha=0.1) NDCG: 100%|██████████| 10000/10000 [00:02<00:00, 3969.65it/s]\n"
          ]
        },
        {
          "name": "stdout",
          "output_type": "stream",
          "text": [
            "LinUCB (alpha=0.1) Average NDCG@10: 0.1612\n"
          ]
        }
      ],
      "source": [
        "# # Testing the LinUCB (alpha=0.1)\n",
        "# results_linucb_a1 = Parallel(n_jobs=-1)(delayed(calculate_ndcg)(row, linucb_a1) for row in tqdm(testing_df.itertuples(index=False), total=len(testing_df), desc=\"LinUCB (alpha=0.1) NDCG\"))\n",
        "# print(f\"LinUCB (alpha=0.1) Average NDCG@10: {np.mean(results_linucb_a1):.4f}\")"
      ]
    },
    {
      "cell_type": "code",
      "execution_count": null,
      "metadata": {},
      "outputs": [
        {
          "name": "stderr",
          "output_type": "stream",
          "text": [
            "Parallel Training: 100%|██████████| 90000/90000 [00:07<00:00, 11812.29it/s]\n"
          ]
        }
      ],
      "source": [
        "# # Training new LinUCB (alpha=0.1)\n",
        "# linucb_a2 = LinUCB(num_arms, context_dim, 0.001)\n",
        "# results = Parallel(n_jobs=-1)(delayed(train_linucb)(row, linucb_a2) for row in tqdm(training_df.itertuples(index=False), total=len(training_df), desc=\"Parallel Training\"))"
      ]
    },
    {
      "cell_type": "code",
      "execution_count": null,
      "metadata": {},
      "outputs": [
        {
          "ename": "KeyboardInterrupt",
          "evalue": "",
          "output_type": "error",
          "traceback": [
            "\u001b[31m---------------------------------------------------------------------------\u001b[39m",
            "\u001b[31mKeyboardInterrupt\u001b[39m                         Traceback (most recent call last)",
            "\u001b[36mCell\u001b[39m\u001b[36m \u001b[39m\u001b[32mIn[35]\u001b[39m\u001b[32m, line 20\u001b[39m\n\u001b[32m     16\u001b[39m reward = row[\u001b[33m'\u001b[39m\u001b[33mrating\u001b[39m\u001b[33m'\u001b[39m]/\u001b[32m5\u001b[39m\n\u001b[32m     18\u001b[39m cluster = movie_row[\u001b[33m\"\u001b[39m\u001b[33mcluster\u001b[39m\u001b[33m\"\u001b[39m].values[\u001b[32m0\u001b[39m]\n\u001b[32m---> \u001b[39m\u001b[32m20\u001b[39m linucb_a1.update(cluster, context, reward)\n",
            "\u001b[31mKeyboardInterrupt\u001b[39m: "
          ]
        }
      ],
      "source": [
        "# linucb_a2 = LinUCB(num_arms, context_dim, 0.001)\n",
        "\n",
        "# # Training\n",
        "# for idx, row in training_df.iterrows():\n",
        "#   user_id = row['user_id']\n",
        "#   item_id = row['item_id']\n",
        "\n",
        "#   user_features = user.loc[user['user_id'] == user_id]\n",
        "#   user_features = user_features.drop('user_id', axis=1)\n",
        "\n",
        "#   movie_row = movie.loc[movie['item_id'] == item_id]\n",
        "#   movie_features = movie_row.drop(['item_id', 'cluster'], axis=1)\n",
        "\n",
        "#   context = np.concatenate((user_features.values.flatten(), movie_features.values.flatten()))\n",
        "\n",
        "#   reward = row['rating']/5\n",
        "\n",
        "#   cluster = movie_row[\"cluster\"].values[0]\n",
        "\n",
        "#   linucb_a1.update(cluster, context, reward)"
      ]
    },
    {
      "cell_type": "code",
      "execution_count": null,
      "metadata": {},
      "outputs": [
        {
          "name": "stderr",
          "output_type": "stream",
          "text": [
            "LinUCB (alpha=0.001) NDCG: 100%|██████████| 10000/10000 [00:02<00:00, 3847.49it/s]\n"
          ]
        },
        {
          "name": "stdout",
          "output_type": "stream",
          "text": [
            "LinUCB (alpha=0.001) Average NDCG@10: 0.1612\n"
          ]
        }
      ],
      "source": [
        "# # Testing the LinUCB (alpha=0.001)\n",
        "# results_linucb_a2 = Parallel(n_jobs=-1)(delayed(calculate_ndcg)(row, linucb_a2) for row in tqdm(testing_df.itertuples(index=False), total=len(testing_df), desc=\"LinUCB (alpha=0.001) NDCG\"))\n",
        "# print(f\"LinUCB (alpha=0.001) Average NDCG@10: {np.mean(results_linucb_a2):.4f}\")"
      ]
    },
    {
      "cell_type": "code",
      "execution_count": null,
      "metadata": {},
      "outputs": [],
      "source": []
    }
  ],
  "metadata": {
    "colab": {
      "provenance": []
    },
    "kernelspec": {
      "display_name": "venv",
      "language": "python",
      "name": "python3"
    },
    "language_info": {
      "codemirror_mode": {
        "name": "ipython",
        "version": 3
      },
      "file_extension": ".py",
      "mimetype": "text/x-python",
      "name": "python",
      "nbconvert_exporter": "python",
      "pygments_lexer": "ipython3",
      "version": "3.13.2"
    }
  },
  "nbformat": 4,
  "nbformat_minor": 0
}
