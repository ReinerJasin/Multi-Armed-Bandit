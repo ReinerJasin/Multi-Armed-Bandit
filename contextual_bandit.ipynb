{
 "cells": [
  {
   "cell_type": "markdown",
   "metadata": {},
   "source": [
    "source code for reference:\n",
    "https://medium.com/data-science-in-your-pocket/contextual-bandits-in-reinforcement-learning-explained-with-example-and-codes-3c707142437b"
   ]
  },
  {
   "cell_type": "code",
   "execution_count": null,
   "metadata": {},
   "outputs": [],
   "source": []
  },
  {
   "cell_type": "markdown",
   "metadata": {},
   "source": [
    "https://medium.com/data-science/an-overview-of-contextual-bandits-53ac3aa45034"
   ]
  },
  {
   "cell_type": "code",
   "execution_count": null,
   "metadata": {},
   "outputs": [],
   "source": [
    "import numpy as np\n",
    "import pandas as pd\n",
    "import tensorflow as tf\n",
    "from tensorflow.keras.layers import *\n",
    "from tensorflow.keras.models import Model\n",
    "from tensorflow.keras.optimizers import Adam\n",
    "import copy \n",
    "from keras.callbacks import EarlyStopping\n",
    "\n",
    "tf.config.run_functions_eagerly(True)"
   ]
  },
  {
   "cell_type": "code",
   "execution_count": null,
   "metadata": {},
   "outputs": [
    {
     "ename": "TypeError",
     "evalue": "can't multiply sequence by non-int of type 'float'",
     "output_type": "error",
     "traceback": [
      "\u001b[31m---------------------------------------------------------------------------\u001b[39m",
      "\u001b[31mTypeError\u001b[39m                                 Traceback (most recent call last)",
      "\u001b[36mCell\u001b[39m\u001b[36m \u001b[39m\u001b[32mIn[5]\u001b[39m\u001b[32m, line 38\u001b[39m\n\u001b[32m     36\u001b[39m \u001b[38;5;28;01mfor\u001b[39;00m i \u001b[38;5;129;01min\u001b[39;00m \u001b[38;5;28mrange\u001b[39m(\u001b[38;5;28mlen\u001b[39m(X_train)):\n\u001b[32m     37\u001b[39m     user_context = X_train[i]\n\u001b[32m---> \u001b[39m\u001b[32m38\u001b[39m     chosen_arm = \u001b[43mbandit\u001b[49m\u001b[43m.\u001b[49m\u001b[43mselect_arm\u001b[49m\u001b[43m(\u001b[49m\u001b[43muser_context\u001b[49m\u001b[43m)\u001b[49m\n\u001b[32m     39\u001b[39m     reward = y_train.iloc[i] \u001b[38;5;28;01mif\u001b[39;00m chosen_arm == actions_train.iloc[i] \u001b[38;5;28;01melse\u001b[39;00m \u001b[32m0\u001b[39m\n\u001b[32m     40\u001b[39m     bandit.update(chosen_arm, user_context, reward)\n",
      "\u001b[36mCell\u001b[39m\u001b[36m \u001b[39m\u001b[32mIn[5]\u001b[39m\u001b[32m, line 17\u001b[39m, in \u001b[36mLinUCB.select_arm\u001b[39m\u001b[34m(self, context)\u001b[39m\n\u001b[32m     14\u001b[39m theta = np.dot(A_inv, \u001b[38;5;28mself\u001b[39m.b[arm])\n\u001b[32m     16\u001b[39m \u001b[38;5;66;03m# Ensure proper scalar extraction\u001b[39;00m\n\u001b[32m---> \u001b[39m\u001b[32m17\u001b[39m context_dot_theta = \u001b[43mnp\u001b[49m\u001b[43m.\u001b[49m\u001b[43mdot\u001b[49m\u001b[43m(\u001b[49m\u001b[43mtheta\u001b[49m\u001b[43m.\u001b[49m\u001b[43mT\u001b[49m\u001b[43m,\u001b[49m\u001b[43m \u001b[49m\u001b[43mcontext\u001b[49m\u001b[43m)\u001b[49m  \u001b[38;5;66;03m# This should be a scalar\u001b[39;00m\n\u001b[32m     18\u001b[39m context_dot_A_inv_context = np.dot(context.T, np.dot(A_inv, context))  \u001b[38;5;66;03m# This should also be a scalar\u001b[39;00m\n\u001b[32m     20\u001b[39m p[arm] = context_dot_theta.item() + \u001b[38;5;28mself\u001b[39m.alpha * np.sqrt(context_dot_A_inv_context.item())\n",
      "\u001b[31mTypeError\u001b[39m: can't multiply sequence by non-int of type 'float'"
     ]
    }
   ],
   "source": [
    "#states = random states generated for training, \n",
    "#total_states = possible states count\n",
    "def ohe_generator(states,total_states):\n",
    "    ohe = np.zeros((len(states),total_states))\n",
    "    for index, array in enumerate(ohe):\n",
    "        ohe[index][states[index]] = 1\n",
    "    return ohe"
   ]
  },
  {
   "cell_type": "code",
   "execution_count": null,
   "metadata": {},
   "outputs": [],
   "source": [
    "class contextual_bandits:\n",
    "    def __init__(self,states,actions):\n",
    "        self.states = states\n",
    "        self.actions = actions\n",
    "    \n",
    "    def reward(self,state,action):\n",
    "        if (state*action)%2==1:\n",
    "            return 0.5 + 0.05*((state+action)%10)+np.random.rand()*0.1\n",
    "        else:\n",
    "            return 0.9 - 0.1*((state+action)%10)+np.random.rand()*0.1\n",
    "    \n",
    "    def network(self):\n",
    "        input_ = Input(shape=(self.states))\n",
    "        dense1 = Dense(128,activation='relu')(input_)\n",
    "        dropout1 = Dropout(0.1)(dense1)\n",
    "        dense2 = Dense(64,activation='relu')(dropout1)\n",
    "        dropout2 = Dropout(0.1)(dense2)\n",
    "        dense3 = Dense(self.actions,activation='sigmoid')(dropout2)\n",
    "        model = Model(input_,dense3)\n",
    "        \n",
    "        rms = Adam(learning_rate=0.0001, beta_1=0.9, beta_2=0.999, epsilon=None, decay=0.0, amsgrad=False)\n",
    "        model.compile(loss=\"mean_absolute_error\", optimizer=rms,metrics=\"mean_absolute_error\")\n",
    "        return model"
   ]
  },
  {
   "cell_type": "code",
   "execution_count": null,
   "metadata": {},
   "outputs": [],
   "source": [
    "batch_size = 128\n",
    "states = 100\n",
    "actions = 4\n",
    "\n",
    "def training():\n",
    "    cb = contextual_bandits(states,actions)\n",
    "    model = cb.network()\n",
    "    sample_states = np.random.choice(range(states),size=batch_size*100)\n",
    "    state_ohe = ohe_generator(sample_states, states)\n",
    "    actual_reward = [[cb.reward(x,y) for y in range(cb.actions)] for x in sample_states]\n",
    "    actual_reward_matrix = np.zeros((len(state_ohe),cb.actions))\n",
    "    for index,x in enumerate(actual_reward):\n",
    "                    actual_reward_matrix[index]=np.array(x)\n",
    "    model.fit(state_ohe,actual_reward_matrix,batch_size=batch_size,epochs=20) \n",
    "    return model"
   ]
  },
  {
   "cell_type": "code",
   "execution_count": null,
   "metadata": {},
   "outputs": [],
   "source": [
    "state_ohe = ohe_generator(np.array([x for x in range(100)]), states)\n",
    "estimated_reward = model.predict(state_ohe)\n",
    "\n",
    "print({x:np.argmax(y) for x,y in enumerate(estimated_reward)})"
   ]
  },
  {
   "cell_type": "code",
   "execution_count": null,
   "metadata": {},
   "outputs": [],
   "source": [
    "cb = contextual_bandits(100,4)\n",
    "print('\\nreward for state {}\\n'.format(0))\n",
    "for x in range(4):\n",
    "    print(cb.reward(0,x))\n",
    "    \n",
    "print('\\nreward for state {}\\n'.format(93))\n",
    "for x in range(4):\n",
    "    print(cb.reward(93,x))"
   ]
  },
  {
   "cell_type": "markdown",
   "metadata": {},
   "source": [
    "# Our own code"
   ]
  },
  {
   "cell_type": "markdown",
   "metadata": {},
   "source": [
    "## Import Libraries"
   ]
  },
  {
   "cell_type": "code",
   "execution_count": 1,
   "metadata": {},
   "outputs": [],
   "source": [
    "import numpy as np\n",
    "import pandas as pd\n",
    "\n",
    "from sklearn.preprocessing import OneHotEncoder"
   ]
  },
  {
   "cell_type": "markdown",
   "metadata": {},
   "source": [
    "## Hyperparameters"
   ]
  },
  {
   "cell_type": "code",
   "execution_count": 126,
   "metadata": {},
   "outputs": [],
   "source": [
    "# The number of action/bandit can be taken\n",
    "# In recommender system's context, it's the number of product/product category that is being put on advertisement\n",
    "NUM_OF_ACTION = 10\n",
    "\n",
    "# The number of context affecting users to pick an action\n",
    "# In recommender system's context, it can be age, budget, country, favorite_brand.\n",
    "NUM_OF_CONTEXT = 5\n",
    "NUM_OF_CONTEXT = 2\n",
    "\n",
    "# Alpha\n",
    "ALPHA = 2   # Exploration constant"
   ]
  },
  {
   "cell_type": "markdown",
   "metadata": {},
   "source": [
    "## Create our LinUCB Model class"
   ]
  },
  {
   "cell_type": "markdown",
   "metadata": {},
   "source": [
    "$$R_t = x_t^⊤ \\theta_a + \\epsilon$$"
   ]
  },
  {
   "cell_type": "code",
   "execution_count": 144,
   "metadata": {},
   "outputs": [],
   "source": [
    "class LinUCB_Bandit:\n",
    "    \n",
    "\n",
    "    def __init__ (self):\n",
    "        # True Weight\n",
    "        self.true_weight = np.random.randn(NUM_OF_CONTEXT)   # Theta_a\n",
    "\n",
    "        self.feature_covariance_matrix = np.identity(NUM_OF_CONTEXT) # Identity matrix with a dimension of the number of action\n",
    "        self.weighted_reward_matrix = np.zeros((NUM_OF_CONTEXT,1))\n",
    "\n",
    "        self.estimated_weight = np.zeros(NUM_OF_CONTEXT)\n",
    "\n",
    "    def return_reward(self):\n",
    "        # Number of features\n",
    "        d = NUM_OF_CONTEXT\n",
    "\n",
    "        # Simulated context vector (randomly generated for each round)\n",
    "        context = np.random.rand(d)\n",
    "\n",
    "        # True weight vector for a particular arm (unknown in real applications)\n",
    "        # theta_a = np.array([0.5, -0.2, 0.8, 0.3, -0.5])\n",
    "\n",
    "        # Noise (Gaussian)\n",
    "        noise = np.random.normal(0, 0.1)  \n",
    "\n",
    "        # Compute reward\n",
    "        reward = np.dot(context, self.true_weight) + noise\n",
    "\n",
    "        return context, reward\n",
    "\n",
    "    def update_ucb_matrix(self, context, reward):\n",
    "        \n",
    "        # Resize context array\n",
    "        context_resized = np.array([context])\n",
    "\n",
    "        # Count feature covarianve matrix (A_b)\n",
    "        self.feature_covariance_matrix += np.matmul(context_resized.transpose(), context_resized)\n",
    "\n",
    "        # Count weight sum reward (b_b)\n",
    "        self.weighted_reward_matrix += reward * context_resized.transpose()\n",
    "\n",
    "        # UCB_value = self.feature_covariance_matrix\n",
    "\n",
    "        return self.feature_covariance_matrix, self.weighted_reward_matrix\n",
    "    \n",
    "    def calculate_ucb_value(self, context):\n",
    "\n",
    "        # Resize context array\n",
    "        context_resized = np.array([context])\n",
    "\n",
    "        # Inverted feature covariance\n",
    "        inverted_feature_cov = np.linalg.inv(self.feature_covariance_matrix)\n",
    "\n",
    "        # Count estimated weight\n",
    "        self.estimated_weight = np.matmul(inverted_feature_cov, self.weighted_reward_matrix)\n",
    "\n",
    "        expected_reward = np.dot(context_resized, self.estimated_weight)\n",
    "\n",
    "        confidence_bound = np.sqrt(np.matmul(np.matmul(context_resized, inverted_feature_cov), context_resized.transpose()))\n",
    "        \n",
    "\n",
    "        upper_confidence_bound = expected_reward + (ALPHA * confidence_bound)\n",
    "\n",
    "        return context, context_resized, inverted_feature_cov, self.estimated_weight, expected_reward, confidence_bound, upper_confidence_bound \n",
    "        # return upper_confidence_bound\n",
    "        # np.linalg.inv(linUCB.feature_covariance_matrix)\n"
   ]
  },
  {
   "cell_type": "markdown",
   "metadata": {},
   "source": [
    "## Create Linear UCB Bandit Agent "
   ]
  },
  {
   "cell_type": "code",
   "execution_count": 156,
   "metadata": {},
   "outputs": [],
   "source": [
    "linUCB = LinUCB_Bandit()"
   ]
  },
  {
   "cell_type": "code",
   "execution_count": 157,
   "metadata": {},
   "outputs": [
    {
     "name": "stdout",
     "output_type": "stream",
     "text": [
      "[ 0.09871353 -1.11638224]\n",
      "[[1. 0.]\n",
      " [0. 1.]]\n",
      "[[0.]\n",
      " [0.]]\n"
     ]
    }
   ],
   "source": [
    "# DEBUG\n",
    "print(linUCB.true_weight)\n",
    "print(linUCB.feature_covariance_matrix)\n",
    "print(linUCB.weighted_reward_matrix)"
   ]
  },
  {
   "cell_type": "markdown",
   "metadata": {},
   "source": [
    "## Pick the next agent to pull by calculating UCB Value"
   ]
  },
  {
   "cell_type": "markdown",
   "metadata": {},
   "source": [
    "To calculate UCB Value, we have to specify a current context the user have"
   ]
  },
  {
   "cell_type": "code",
   "execution_count": 159,
   "metadata": {},
   "outputs": [
    {
     "name": "stdout",
     "output_type": "stream",
     "text": [
      "[1.0, 1.2]\n",
      "[[1.  1.2]]\n",
      "[[ 0.9070632  -0.22304833]\n",
      " [-0.22304833  0.46468401]]\n",
      "[[0.18587361]\n",
      " [0.44609665]]\n",
      "[[0.72118959]]\n",
      "[[1.02024124]]\n",
      "[[2.76167208]]\n"
     ]
    }
   ],
   "source": [
    "context = [1.0, 1.2]\n",
    "\n",
    "context, context_resized, inverted_feature_cov, estimated_weight, expected_reward, confidence_bound, upper_confidence_bound  = linUCB.calculate_ucb_value(context=[1.0, 1.2])\n",
    "\n",
    "print(context)\n",
    "print(context_resized)\n",
    "print(inverted_feature_cov)\n",
    "print(estimated_weight)\n",
    "print(expected_reward)\n",
    "print(confidence_bound)\n",
    "print(upper_confidence_bound)"
   ]
  },
  {
   "cell_type": "code",
   "execution_count": 158,
   "metadata": {},
   "outputs": [
    {
     "data": {
      "text/plain": [
       "(array([[1.25, 0.6 ],\n",
       "        [0.6 , 2.44]]),\n",
       " array([[0.5],\n",
       "        [1.2]]))"
      ]
     },
     "execution_count": 158,
     "metadata": {},
     "output_type": "execute_result"
    }
   ],
   "source": [
    "# DEBUG\n",
    "linUCB.update_ucb_matrix(context=[0.5,1.2], reward=[1])"
   ]
  },
  {
   "cell_type": "code",
   "execution_count": 155,
   "metadata": {},
   "outputs": [
    {
     "name": "stdout",
     "output_type": "stream",
     "text": [
      "Context: [0.93135123 0.51710428]\n",
      "Reward: -0.17244695800782972\n"
     ]
    }
   ],
   "source": [
    "# Pull an arm\n",
    "context,reward = linUCB.return_reward()\n",
    "print(f'Context: {context}')\n",
    "print(f'Reward: {reward}')"
   ]
  },
  {
   "cell_type": "code",
   "execution_count": 150,
   "metadata": {},
   "outputs": [
    {
     "data": {
      "text/plain": [
       "(array([[2.25, 1.8 ],\n",
       "        [1.8 , 3.88]]),\n",
       " array([[0.72905086],\n",
       "        [1.47486103]]))"
      ]
     },
     "execution_count": 150,
     "metadata": {},
     "output_type": "execute_result"
    }
   ],
   "source": [
    "# Update feature covariance and weight reward matrix\n",
    "linUCB.update_ucb_matrix(context=context, reward=reward)"
   ]
  },
  {
   "cell_type": "code",
   "execution_count": 125,
   "metadata": {},
   "outputs": [
    {
     "name": "stdout",
     "output_type": "stream",
     "text": [
      "[1.0, 1.2]\n",
      "[[1.  1.2]]\n",
      "[[ 0.9070632  -0.22304833]\n",
      " [-0.22304833  0.46468401]]\n",
      "[[0.18587361]\n",
      " [0.44609665]]\n",
      "[[0.72118959]]\n",
      "[[1.02024124]]\n",
      "[[1.74143083]]\n"
     ]
    }
   ],
   "source": [
    "# DEBUG\n",
    "context, context_resized, inverted_feature_cov, estimated_weight, expected_reward, confidence_bound, upper_confidence_bound  = linUCB.calculate_ucb_value(context=[1.0, 1.2])\n",
    "print(context)\n",
    "print(context_resized)\n",
    "print(inverted_feature_cov)\n",
    "print(estimated_weight)\n",
    "print(expected_reward)\n",
    "print(confidence_bound)\n",
    "print(upper_confidence_bound)\n"
   ]
  },
  {
   "cell_type": "code",
   "execution_count": null,
   "metadata": {},
   "outputs": [
    {
     "name": "stdout",
     "output_type": "stream",
     "text": [
      "[[0.96440216 0.87245005]]\n",
      "[[0.96440216]\n",
      " [0.87245005]]\n"
     ]
    },
    {
     "data": {
      "text/plain": [
       "array([[0.93007153, 0.84139272],\n",
       "       [0.84139272, 0.7611691 ]])"
      ]
     },
     "execution_count": 32,
     "metadata": {},
     "output_type": "execute_result"
    }
   ],
   "source": [
    "# DEBUG\n",
    "print(np.array([context]))\n",
    "print(np.array([context]).transpose())\n",
    "\n",
    "np.matmul(np.array([context]).transpose(), np.array([context]))\n",
    "# print(np.array(np.newaxis, context).transpose())"
   ]
  },
  {
   "cell_type": "code",
   "execution_count": null,
   "metadata": {},
   "outputs": [],
   "source": [
    "linUCB.feature_covariance_matrix = "
   ]
  },
  {
   "cell_type": "markdown",
   "metadata": {},
   "source": [
    "## Update Matrices"
   ]
  },
  {
   "cell_type": "code",
   "execution_count": 73,
   "metadata": {},
   "outputs": [],
   "source": [
    "# For MAB it's\n",
    "action_list = [] # Filled with the estimated reward"
   ]
  },
  {
   "cell_type": "code",
   "execution_count": 74,
   "metadata": {},
   "outputs": [],
   "source": [
    "# For Contextual Bandit we're gonna have\n",
    "# NxM matrix\n",
    "# N = Number of context or the feature\n",
    "# M = Number of actions can be taken (bandit)\n",
    "action = np.array([[], []], np.int32)"
   ]
  },
  {
   "cell_type": "code",
   "execution_count": 89,
   "metadata": {},
   "outputs": [],
   "source": [
    "sample_data = {'name': ['product A', 'product B', 'product C', 'product D'],\n",
    "                'gender': pd.Series(['Male', 'Female', 'Male'], index=[0, 2, 3]),\n",
    "                'location': pd.Series(['South', 'North', 'West', 'East'], index=[0, 1, 2, 3]),\n",
    "               }\n",
    "\n",
    "data = pd.DataFrame(data=sample_data, index=[0, 1, 2, 3])\n",
    "\n",
    "# From\n",
    "#         name\t gender\t location\n",
    "# 0\t product A     Male\t    South\n",
    "# 1  product B\t    NaN\t    North\n",
    "# 2\t product C\t Female\t     West\n",
    "# 3\t product D\t   Male\t     East\n",
    "\n",
    "# To\n",
    "#    Gender_Male  Gender_Female  Location_South  Location_North  Location_West  Location_East\n",
    "# 0            1              0               1               0              0              0\n",
    "# 1            0              0               0               1              0              0\n",
    "# 2            0              1               0               0              1              0\n",
    "# 3            1              0               0               0              0              1"
   ]
  },
  {
   "cell_type": "code",
   "execution_count": 90,
   "metadata": {},
   "outputs": [
    {
     "data": {
      "text/html": [
       "<div>\n",
       "<style scoped>\n",
       "    .dataframe tbody tr th:only-of-type {\n",
       "        vertical-align: middle;\n",
       "    }\n",
       "\n",
       "    .dataframe tbody tr th {\n",
       "        vertical-align: top;\n",
       "    }\n",
       "\n",
       "    .dataframe thead th {\n",
       "        text-align: right;\n",
       "    }\n",
       "</style>\n",
       "<table border=\"1\" class=\"dataframe\">\n",
       "  <thead>\n",
       "    <tr style=\"text-align: right;\">\n",
       "      <th></th>\n",
       "      <th>name</th>\n",
       "      <th>gender</th>\n",
       "      <th>location</th>\n",
       "    </tr>\n",
       "  </thead>\n",
       "  <tbody>\n",
       "    <tr>\n",
       "      <th>0</th>\n",
       "      <td>product A</td>\n",
       "      <td>Male</td>\n",
       "      <td>South</td>\n",
       "    </tr>\n",
       "    <tr>\n",
       "      <th>1</th>\n",
       "      <td>product B</td>\n",
       "      <td>NaN</td>\n",
       "      <td>North</td>\n",
       "    </tr>\n",
       "    <tr>\n",
       "      <th>2</th>\n",
       "      <td>product C</td>\n",
       "      <td>Female</td>\n",
       "      <td>West</td>\n",
       "    </tr>\n",
       "    <tr>\n",
       "      <th>3</th>\n",
       "      <td>product D</td>\n",
       "      <td>Male</td>\n",
       "      <td>East</td>\n",
       "    </tr>\n",
       "  </tbody>\n",
       "</table>\n",
       "</div>"
      ],
      "text/plain": [
       "        name  gender location\n",
       "0  product A    Male    South\n",
       "1  product B     NaN    North\n",
       "2  product C  Female     West\n",
       "3  product D    Male     East"
      ]
     },
     "execution_count": 90,
     "metadata": {},
     "output_type": "execute_result"
    }
   ],
   "source": [
    "data"
   ]
  },
  {
   "cell_type": "code",
   "execution_count": 91,
   "metadata": {},
   "outputs": [],
   "source": [
    "# One hot encode the data\n",
    "\n",
    "encoder = OneHotEncoder(sparse_output=False, handle_unknown='ignore')\n",
    "\n",
    "encoded_data = encoder.fit_transform(data[['gender', 'location']])\n",
    "encoded_columns = encoder.get_feature_names_out(['gender', 'location'])\n",
    "\n",
    "one_hot_data = pd.DataFrame(encoded_data, columns=encoded_columns)"
   ]
  },
  {
   "cell_type": "code",
   "execution_count": 83,
   "metadata": {},
   "outputs": [
    {
     "data": {
      "text/html": [
       "<div>\n",
       "<style scoped>\n",
       "    .dataframe tbody tr th:only-of-type {\n",
       "        vertical-align: middle;\n",
       "    }\n",
       "\n",
       "    .dataframe tbody tr th {\n",
       "        vertical-align: top;\n",
       "    }\n",
       "\n",
       "    .dataframe thead th {\n",
       "        text-align: right;\n",
       "    }\n",
       "</style>\n",
       "<table border=\"1\" class=\"dataframe\">\n",
       "  <thead>\n",
       "    <tr style=\"text-align: right;\">\n",
       "      <th></th>\n",
       "      <th>gender_Female</th>\n",
       "      <th>gender_Male</th>\n",
       "      <th>gender_nan</th>\n",
       "      <th>location_East</th>\n",
       "      <th>location_North</th>\n",
       "      <th>location_South</th>\n",
       "      <th>location_West</th>\n",
       "    </tr>\n",
       "  </thead>\n",
       "  <tbody>\n",
       "    <tr>\n",
       "      <th>0</th>\n",
       "      <td>0.0</td>\n",
       "      <td>1.0</td>\n",
       "      <td>0.0</td>\n",
       "      <td>0.0</td>\n",
       "      <td>0.0</td>\n",
       "      <td>1.0</td>\n",
       "      <td>0.0</td>\n",
       "    </tr>\n",
       "    <tr>\n",
       "      <th>1</th>\n",
       "      <td>0.0</td>\n",
       "      <td>0.0</td>\n",
       "      <td>1.0</td>\n",
       "      <td>0.0</td>\n",
       "      <td>1.0</td>\n",
       "      <td>0.0</td>\n",
       "      <td>0.0</td>\n",
       "    </tr>\n",
       "    <tr>\n",
       "      <th>2</th>\n",
       "      <td>1.0</td>\n",
       "      <td>0.0</td>\n",
       "      <td>0.0</td>\n",
       "      <td>0.0</td>\n",
       "      <td>0.0</td>\n",
       "      <td>0.0</td>\n",
       "      <td>1.0</td>\n",
       "    </tr>\n",
       "    <tr>\n",
       "      <th>3</th>\n",
       "      <td>0.0</td>\n",
       "      <td>1.0</td>\n",
       "      <td>0.0</td>\n",
       "      <td>1.0</td>\n",
       "      <td>0.0</td>\n",
       "      <td>0.0</td>\n",
       "      <td>0.0</td>\n",
       "    </tr>\n",
       "  </tbody>\n",
       "</table>\n",
       "</div>"
      ],
      "text/plain": [
       "   gender_Female  gender_Male  gender_nan  location_East  location_North  \\\n",
       "0            0.0          1.0         0.0            0.0             0.0   \n",
       "1            0.0          0.0         1.0            0.0             1.0   \n",
       "2            1.0          0.0         0.0            0.0             0.0   \n",
       "3            0.0          1.0         0.0            1.0             0.0   \n",
       "\n",
       "   location_South  location_West  \n",
       "0             1.0            0.0  \n",
       "1             0.0            0.0  \n",
       "2             0.0            1.0  \n",
       "3             0.0            0.0  "
      ]
     },
     "execution_count": 83,
     "metadata": {},
     "output_type": "execute_result"
    }
   ],
   "source": [
    "data"
   ]
  },
  {
   "cell_type": "code",
   "execution_count": null,
   "metadata": {},
   "outputs": [
    {
     "data": {
      "text/plain": [
       "array([[1., 0., 0., 0., 0., 1., 0., 0., 0., 1., 0.],\n",
       "       [0., 1., 0., 0., 0., 0., 1., 0., 1., 0., 0.],\n",
       "       [0., 0., 1., 0., 1., 0., 0., 0., 0., 0., 1.],\n",
       "       [0., 0., 0., 1., 0., 1., 0., 1., 0., 0., 0.]])"
      ]
     },
     "execution_count": 39,
     "metadata": {},
     "output_type": "execute_result"
    }
   ],
   "source": [
    "class contextual_bandits:\n",
    "    def __init__(self, states, actions):"
   ]
  },
  {
   "cell_type": "code",
   "execution_count": null,
   "metadata": {},
   "outputs": [
    {
     "ename": "TypeError",
     "evalue": "object of type 'int' has no len()",
     "output_type": "error",
     "traceback": [
      "\u001b[31m---------------------------------------------------------------------------\u001b[39m",
      "\u001b[31mTypeError\u001b[39m                                 Traceback (most recent call last)",
      "\u001b[36mCell\u001b[39m\u001b[36m \u001b[39m\u001b[32mIn[30]\u001b[39m\u001b[32m, line 7\u001b[39m\n\u001b[32m      4\u001b[39m         ohe[index][states[index]] = \u001b[32m1\u001b[39m\n\u001b[32m      5\u001b[39m     \u001b[38;5;28;01mreturn\u001b[39;00m ohe\n\u001b[32m----> \u001b[39m\u001b[32m7\u001b[39m \u001b[43mohe_generator\u001b[49m\u001b[43m(\u001b[49m\u001b[32;43m5\u001b[39;49m\u001b[43m,\u001b[49m\u001b[43m \u001b[49m\u001b[32;43m10\u001b[39;49m\u001b[43m)\u001b[49m\n",
      "\u001b[36mCell\u001b[39m\u001b[36m \u001b[39m\u001b[32mIn[30]\u001b[39m\u001b[32m, line 2\u001b[39m, in \u001b[36mohe_generator\u001b[39m\u001b[34m(states, total_states)\u001b[39m\n\u001b[32m      1\u001b[39m \u001b[38;5;28;01mdef\u001b[39;00m\u001b[38;5;250m \u001b[39m\u001b[34mohe_generator\u001b[39m(states,total_states):\n\u001b[32m----> \u001b[39m\u001b[32m2\u001b[39m     ohe = np.zeros((\u001b[38;5;28;43mlen\u001b[39;49m\u001b[43m(\u001b[49m\u001b[43mstates\u001b[49m\u001b[43m)\u001b[49m,total_states))\n\u001b[32m      3\u001b[39m     \u001b[38;5;28;01mfor\u001b[39;00m index, array \u001b[38;5;129;01min\u001b[39;00m \u001b[38;5;28menumerate\u001b[39m(ohe):\n\u001b[32m      4\u001b[39m         ohe[index][states[index]] = \u001b[32m1\u001b[39m\n",
      "\u001b[31mTypeError\u001b[39m: object of type 'int' has no len()"
     ]
    }
   ],
   "source": [
    "data = [['tom', 10], ['nick', 15], ['juli', 14]]\n",
    "\n",
    "df = pd.DataFrame(data, columns=[])"
   ]
  },
  {
   "cell_type": "code",
   "execution_count": 29,
   "metadata": {},
   "outputs": [
    {
     "name": "stdout",
     "output_type": "stream",
     "text": [
      "(4, 3)\n",
      "Index(['name', 'gender', 'location'], dtype='object')\n",
      "['Male' nan 'Female']\n",
      "02\n",
      "12\n",
      "22\n",
      "32\n"
     ]
    }
   ],
   "source": [
    "print(data.shape)\n",
    "print(data.columns)\n",
    "print(data[\"gender\"].unique())\n",
    "\n",
    "# Loop through the number of entry in the data\n",
    "for i in range(data.shape[0]):\n",
    "    print(f\"{i}2\")\n",
    "\n",
    "def one_hot_encode():\n",
    "    return"
   ]
  },
  {
   "cell_type": "code",
   "execution_count": null,
   "metadata": {},
   "outputs": [],
   "source": []
  },
  {
   "cell_type": "code",
   "execution_count": null,
   "metadata": {},
   "outputs": [],
   "source": []
  }
 ],
 "metadata": {
  "kernelspec": {
   "display_name": "venv",
   "language": "python",
   "name": "python3"
  },
  "language_info": {
   "codemirror_mode": {
    "name": "ipython",
    "version": 3
   },
   "file_extension": ".py",
   "mimetype": "text/x-python",
   "name": "python",
   "nbconvert_exporter": "python",
   "pygments_lexer": "ipython3",
   "version": "3.13.2"
  }
 },
 "nbformat": 4,
 "nbformat_minor": 2
}
