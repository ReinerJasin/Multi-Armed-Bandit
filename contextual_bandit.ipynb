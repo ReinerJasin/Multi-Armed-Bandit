{
 "cells": [
  {
   "cell_type": "markdown",
   "metadata": {},
   "source": [
    "# Contextual Bandit with Continuous Context and Reward"
   ]
  },
  {
   "cell_type": "markdown",
   "metadata": {},
   "source": [
    "## Import Libraries"
   ]
  },
  {
   "cell_type": "code",
   "execution_count": 1,
   "metadata": {},
   "outputs": [],
   "source": [
    "import numpy as np\n",
    "import pandas as pd\n",
    "import matplotlib.pyplot as plt\n",
    "\n",
    "from sklearn.preprocessing import OneHotEncoder"
   ]
  },
  {
   "cell_type": "markdown",
   "metadata": {},
   "source": [
    "## Hyperparameters"
   ]
  },
  {
   "cell_type": "markdown",
   "metadata": {},
   "source": [
    "In creating a contextual bandit agent, we have some parameters that we need to degine, which are:\n",
    "* `NUM_OF_ACTION` = number of bandit can be chosen\n",
    "* `NUM_OF_CONTEXT` = number of feature affecting the reward\n",
    "* `ALPHA` = coefficient that affects the bandit's tendency to explore (works by multiplying the confidence bound and increase its proportion compared to the expected reward)\n",
    "* `NUM_OF_TRIALS` = how many times we take action for simulation to calculate the estimate of each bandit's return"
   ]
  },
  {
   "cell_type": "code",
   "execution_count": 2,
   "metadata": {},
   "outputs": [],
   "source": [
    "NUM_OF_ACTION = 10\n",
    "NUM_OF_CONTEXT = 5\n",
    "\n",
    "ALPHA = 2\n",
    "\n",
    "NUM_OF_TRIALS = 500"
   ]
  },
  {
   "cell_type": "code",
   "execution_count": 3,
   "metadata": {},
   "outputs": [],
   "source": [
    "# Logging for regret calculation\n",
    "\n",
    "# Best expected reward for each round\n",
    "best_expected_reward = []\n",
    "\n",
    "# Actual reward\n",
    "result_history = []\n",
    "\n",
    "# Random Exploration\n",
    "random_reward = []"
   ]
  },
  {
   "cell_type": "markdown",
   "metadata": {},
   "source": [
    "## Create our LinUCB Model class"
   ]
  },
  {
   "cell_type": "markdown",
   "metadata": {},
   "source": [
    "$$R_t = x_t^⊤ \\theta_a + \\epsilon$$"
   ]
  },
  {
   "cell_type": "code",
   "execution_count": 4,
   "metadata": {},
   "outputs": [],
   "source": [
    "class LinUCB_Bandit:\n",
    "    \n",
    "    def __init__ (self):\n",
    "        # True Weight (hidden from the user)\n",
    "        self.true_weight = np.random.randn(NUM_OF_CONTEXT)   # Theta_a\n",
    "\n",
    "\n",
    "        self.feature_covariance_matrix = np.identity(NUM_OF_CONTEXT) # Identity matrix with a dimension of the number of action\n",
    "        self.weighted_reward_matrix = np.zeros((NUM_OF_CONTEXT,1))\n",
    "\n",
    "        # Estimation of the true weight, should get closer to the true weight by the end of the trials\n",
    "        self.estimated_weight = np.zeros(NUM_OF_CONTEXT)\n",
    "\n",
    "        self.number_pulled = 0\n",
    "\n",
    "    def return_reward(self, context = np.random.rand(NUM_OF_CONTEXT)):\n",
    "\n",
    "        # True weight vector for a particular arm (unknown in real applications)\n",
    "        # theta_a = np.array([0.5, -0.2, 0.8, 0.3, -0.5])\n",
    "\n",
    "        # Noise (Gaussian)\n",
    "        noise = np.random.normal(0, 0.1)  \n",
    "\n",
    "        # Compute reward\n",
    "        reward = np.dot(context, self.true_weight) + noise\n",
    "\n",
    "        self.number_pulled += 1\n",
    "\n",
    "        # REGRET\n",
    "        result_history.append(reward)\n",
    "\n",
    "        return context, reward\n",
    "\n",
    "    def update_ucb_matrix(self, context, reward):\n",
    "        \n",
    "        # Resize context array\n",
    "        context_resized = np.array([context])\n",
    "\n",
    "        # Count feature covarianve matrix (A_b)\n",
    "        self.feature_covariance_matrix += np.matmul(context_resized.transpose(), context_resized)\n",
    "\n",
    "        # Count weight sum reward (b_b)\n",
    "        self.weighted_reward_matrix += reward * context_resized.transpose()\n",
    "\n",
    "        inverted_feature_cov = np.linalg.inv(self.feature_covariance_matrix)\n",
    "        self.estimated_weight = np.matmul(inverted_feature_cov, self.weighted_reward_matrix)\n",
    "\n",
    "        # return self.feature_covariance_matrix, self.weighted_reward_matrix\n",
    "    \n",
    "    def calculate_ucb_value(self, context):\n",
    "\n",
    "        # Resize context array\n",
    "        context_resized = np.array([context])\n",
    "\n",
    "        # Inverted feature covariance\n",
    "        # inverted_feature_cov = c\n",
    "\n",
    "        # Count estimated weight\n",
    "        # self.estimated_weight = np.matmul(inverted_feature_cov, self.weighted_reward_matrix)\n",
    "\n",
    "        # Expected reward of the bandit with respect to the current context\n",
    "        expected_reward = np.dot(context_resized, self.estimated_weight)\n",
    "\n",
    "        # Confidence bound\n",
    "        confidence_bound = np.sqrt(np.matmul(np.matmul(context_resized, np.linalg.inv(self.feature_covariance_matrix)), context_resized.transpose()))\n",
    "        \n",
    "        # Getting Upper confidence bound by adding the confidence bound times by alpha (multiplier)\n",
    "        upper_confidence_bound = expected_reward + (ALPHA * confidence_bound)\n",
    "\n",
    "        return context, context_resized, np.linalg.inv(self.feature_covariance_matrix), self.estimated_weight, expected_reward, confidence_bound, upper_confidence_bound \n",
    "        # return upper_confidence_bound\n",
    "        # np.linalg.inv(linUCB.feature_covariance_matrix)\n",
    "\n",
    "\n",
    "\n"
   ]
  },
  {
   "cell_type": "code",
   "execution_count": 5,
   "metadata": {},
   "outputs": [],
   "source": [
    "def random_explore_log(context, bandit_list):\n",
    "\n",
    "    random_bandit = np.random.randint(0,10)\n",
    "\n",
    "    # Noise (Gaussian)\n",
    "    noise = np.random.normal(0, 0.1)  \n",
    "\n",
    "    # Compute reward\n",
    "    # reward = np.dot(context, self.true_weight) + noise\n",
    "    reward = np.dot(context, bandit_list[random_bandit].true_weight) + noise\n",
    "\n",
    "    # REGRET\n",
    "    random_reward.append(reward)\n",
    "\n",
    "def best_expected_log(context, bandit_list):\n",
    "\n",
    "    expected_log = []\n",
    "\n",
    "    context_resized = np.array([context])\n",
    "\n",
    "    for bandit in bandit_list:\n",
    "        expected_log.append(np.dot(context_resized, bandit.true_weight))\n",
    "\n",
    "    best_expectation = max(expected_log)\n",
    "\n",
    "    best_expected_reward.append(np.float64(best_expectation))\n",
    "\n",
    "    # return best_expectation"
   ]
  },
  {
   "cell_type": "markdown",
   "metadata": {},
   "source": [
    "## Create Linear UCB Bandit Agent "
   ]
  },
  {
   "cell_type": "markdown",
   "metadata": {},
   "source": [
    "Create an empty list, and then loop to the number of action and append it to the list. The number of action could represent the number of product in a recommendation."
   ]
  },
  {
   "cell_type": "code",
   "execution_count": 6,
   "metadata": {},
   "outputs": [
    {
     "name": "stdout",
     "output_type": "stream",
     "text": [
      "Bandit successfully created!\n"
     ]
    }
   ],
   "source": [
    "# Create a list to store our bandit\n",
    "bandit_list = []\n",
    "\n",
    "# Append n amount of bandits\n",
    "for i in range(NUM_OF_ACTION):\n",
    "\n",
    "    bandit_list.append(LinUCB_Bandit())\n",
    "\n",
    "# Check whether the bandit class is created correctly\n",
    "if len(bandit_list) == NUM_OF_ACTION:\n",
    "    print('Bandit successfully created!')"
   ]
  },
  {
   "cell_type": "markdown",
   "metadata": {},
   "source": [
    "## Debug (Check details of the created bandit, this shouldn't be run in real scenario)"
   ]
  },
  {
   "cell_type": "code",
   "execution_count": 7,
   "metadata": {},
   "outputs": [
    {
     "name": "stdout",
     "output_type": "stream",
     "text": [
      "[ 1.43045028  2.60392217 -0.98376189  0.16024638  1.3993683 ]\n",
      "[[1. 0. 0. 0. 0.]\n",
      " [0. 1. 0. 0. 0.]\n",
      " [0. 0. 1. 0. 0.]\n",
      " [0. 0. 0. 1. 0.]\n",
      " [0. 0. 0. 0. 1.]]\n",
      "[[0.]\n",
      " [0.]\n",
      " [0.]\n",
      " [0.]\n",
      " [0.]]\n",
      "[ 0.41233247 -0.72761444 -0.08312252 -0.18792216 -0.60442777]\n",
      "[[1. 0. 0. 0. 0.]\n",
      " [0. 1. 0. 0. 0.]\n",
      " [0. 0. 1. 0. 0.]\n",
      " [0. 0. 0. 1. 0.]\n",
      " [0. 0. 0. 0. 1.]]\n",
      "[[0.]\n",
      " [0.]\n",
      " [0.]\n",
      " [0.]\n",
      " [0.]]\n",
      "[ 0.70092044  0.57615702 -1.46167709 -0.11282496 -1.17186877]\n",
      "[[1. 0. 0. 0. 0.]\n",
      " [0. 1. 0. 0. 0.]\n",
      " [0. 0. 1. 0. 0.]\n",
      " [0. 0. 0. 1. 0.]\n",
      " [0. 0. 0. 0. 1.]]\n",
      "[[0.]\n",
      " [0.]\n",
      " [0.]\n",
      " [0.]\n",
      " [0.]]\n",
      "[ 0.44026476  0.99863696 -0.69180498  0.05027853 -0.22972656]\n",
      "[[1. 0. 0. 0. 0.]\n",
      " [0. 1. 0. 0. 0.]\n",
      " [0. 0. 1. 0. 0.]\n",
      " [0. 0. 0. 1. 0.]\n",
      " [0. 0. 0. 0. 1.]]\n",
      "[[0.]\n",
      " [0.]\n",
      " [0.]\n",
      " [0.]\n",
      " [0.]]\n",
      "[ 1.50406836 -0.32131351 -0.60964841 -0.75413468 -0.6347508 ]\n",
      "[[1. 0. 0. 0. 0.]\n",
      " [0. 1. 0. 0. 0.]\n",
      " [0. 0. 1. 0. 0.]\n",
      " [0. 0. 0. 1. 0.]\n",
      " [0. 0. 0. 0. 1.]]\n",
      "[[0.]\n",
      " [0.]\n",
      " [0.]\n",
      " [0.]\n",
      " [0.]]\n",
      "[ 1.40921701  1.06222006 -0.21281898 -0.29610611  0.44226819]\n",
      "[[1. 0. 0. 0. 0.]\n",
      " [0. 1. 0. 0. 0.]\n",
      " [0. 0. 1. 0. 0.]\n",
      " [0. 0. 0. 1. 0.]\n",
      " [0. 0. 0. 0. 1.]]\n",
      "[[0.]\n",
      " [0.]\n",
      " [0.]\n",
      " [0.]\n",
      " [0.]]\n",
      "[-0.50440889  0.01465406  0.41330899  0.90052263  1.10406372]\n",
      "[[1. 0. 0. 0. 0.]\n",
      " [0. 1. 0. 0. 0.]\n",
      " [0. 0. 1. 0. 0.]\n",
      " [0. 0. 0. 1. 0.]\n",
      " [0. 0. 0. 0. 1.]]\n",
      "[[0.]\n",
      " [0.]\n",
      " [0.]\n",
      " [0.]\n",
      " [0.]]\n",
      "[ 0.52267242 -0.44487126 -0.91893064  0.29123721  0.0660976 ]\n",
      "[[1. 0. 0. 0. 0.]\n",
      " [0. 1. 0. 0. 0.]\n",
      " [0. 0. 1. 0. 0.]\n",
      " [0. 0. 0. 1. 0.]\n",
      " [0. 0. 0. 0. 1.]]\n",
      "[[0.]\n",
      " [0.]\n",
      " [0.]\n",
      " [0.]\n",
      " [0.]]\n",
      "[-0.79957437  0.85085559  1.31596358  0.72254577  2.04503544]\n",
      "[[1. 0. 0. 0. 0.]\n",
      " [0. 1. 0. 0. 0.]\n",
      " [0. 0. 1. 0. 0.]\n",
      " [0. 0. 0. 1. 0.]\n",
      " [0. 0. 0. 0. 1.]]\n",
      "[[0.]\n",
      " [0.]\n",
      " [0.]\n",
      " [0.]\n",
      " [0.]]\n",
      "[ 0.22998884 -2.0999624  -1.40300524 -1.29902208  1.39188175]\n",
      "[[1. 0. 0. 0. 0.]\n",
      " [0. 1. 0. 0. 0.]\n",
      " [0. 0. 1. 0. 0.]\n",
      " [0. 0. 0. 1. 0.]\n",
      " [0. 0. 0. 0. 1.]]\n",
      "[[0.]\n",
      " [0.]\n",
      " [0.]\n",
      " [0.]\n",
      " [0.]]\n"
     ]
    }
   ],
   "source": [
    "for bandit in bandit_list:\n",
    "    # DEBUG\n",
    "    print(bandit.true_weight)\n",
    "    print(bandit.feature_covariance_matrix)\n",
    "    print(bandit.weighted_reward_matrix)"
   ]
  },
  {
   "cell_type": "markdown",
   "metadata": {},
   "source": [
    "## Example of Contextual Bandit iteration for estimation"
   ]
  },
  {
   "cell_type": "markdown",
   "metadata": {},
   "source": [
    "### Step 1: Preparation"
   ]
  },
  {
   "cell_type": "markdown",
   "metadata": {},
   "source": [
    "Let's generate a context randomly to specify current context. In real scenario, each index from the context array supposed to represent a feature from a recommendation (age, gender, income, etc.)"
   ]
  },
  {
   "cell_type": "code",
   "execution_count": 8,
   "metadata": {},
   "outputs": [
    {
     "name": "stdout",
     "output_type": "stream",
     "text": [
      "Generated context: [ 0.07908302  0.90158302 -1.48534146  1.30507762 -0.69157342]\n"
     ]
    }
   ],
   "source": [
    "context = np.random.randn(NUM_OF_CONTEXT)\n",
    "\n",
    "# For Hardcode (adjust with the number of context)\n",
    "# context = [0.5, 1.2]\n",
    "\n",
    "print(f'Generated context: {context}')"
   ]
  },
  {
   "cell_type": "markdown",
   "metadata": {},
   "source": [
    "### Step 2: Calculate UCB Value for each action"
   ]
  },
  {
   "cell_type": "markdown",
   "metadata": {},
   "source": [
    "Based on the context, we are going to count the UCB_Value for each bandit. UCB value will balance between exploration and exploitation.\n",
    "\n",
    "We start off by creating an empty array to store all calculated UCB. Then, we loop through all the bandits for the calculation."
   ]
  },
  {
   "cell_type": "code",
   "execution_count": 9,
   "metadata": {},
   "outputs": [],
   "source": [
    "bandit_ucb_value = []\n",
    "\n",
    "for bandit in bandit_list:\n",
    "        \n",
    "    context, context_resized, inverted_feature_cov, estimated_weight, expected_reward, confidence_bound, upper_confidence_bound  = bandit.calculate_ucb_value(context=context)\n",
    "\n",
    "    # print(context)\n",
    "    # print(context_resized)\n",
    "    # print(inverted_feature_cov)\n",
    "    # print(estimated_weight)\n",
    "    # print(expected_reward)\n",
    "    # print(confidence_bound)\n",
    "    # print(upper_confidence_abound)\n",
    "\n",
    "    bandit_ucb_value.append(upper_confidence_bound)"
   ]
  },
  {
   "cell_type": "markdown",
   "metadata": {},
   "source": [
    "### Step 3: Pick the best UCB and Pull the arm"
   ]
  },
  {
   "cell_type": "markdown",
   "metadata": {},
   "source": [
    "Let's see the UCB value and extract the index of the best UCB."
   ]
  },
  {
   "cell_type": "code",
   "execution_count": 10,
   "metadata": {},
   "outputs": [
    {
     "name": "stdout",
     "output_type": "stream",
     "text": [
      "[array([[4.56370319]]), array([[4.56370319]]), array([[4.56370319]]), array([[4.56370319]]), array([[4.56370319]]), array([[4.56370319]]), array([[4.56370319]]), array([[4.56370319]]), array([[4.56370319]]), array([[4.56370319]])]\n",
      "Index of bandit with the highest UCB is 0\n"
     ]
    }
   ],
   "source": [
    "print(bandit_ucb_value)\n",
    "\n",
    "bandit_best_ucb = np.argmax(bandit_ucb_value)\n",
    "print(f'Index of bandit with the highest UCB is {bandit_best_ucb}')"
   ]
  },
  {
   "cell_type": "markdown",
   "metadata": {},
   "source": [
    "In the first iteration, we don't have any knowledge about the environment, so we will have the same UCB value for each bandit. Meaning if we take the highest UCB, we'll immediately get the first index which is '0'"
   ]
  },
  {
   "cell_type": "code",
   "execution_count": 11,
   "metadata": {},
   "outputs": [
    {
     "name": "stdout",
     "output_type": "stream",
     "text": [
      "Earned Reward: 3.130396241343336\n"
     ]
    }
   ],
   "source": [
    "context, reward = bandit_list[bandit_best_ucb].return_reward(context)\n",
    "print(f'Earned Reward: {reward}')\n",
    "# print()"
   ]
  },
  {
   "cell_type": "markdown",
   "metadata": {},
   "source": [
    "### Step 4: Update UCB to renew the knowledge and estimated weight"
   ]
  },
  {
   "cell_type": "code",
   "execution_count": 12,
   "metadata": {},
   "outputs": [],
   "source": [
    "bandit_list[bandit_best_ucb].update_ucb_matrix(context, reward)"
   ]
  },
  {
   "cell_type": "markdown",
   "metadata": {},
   "source": [
    "for band"
   ]
  },
  {
   "cell_type": "code",
   "execution_count": 13,
   "metadata": {},
   "outputs": [
    {
     "name": "stdout",
     "output_type": "stream",
     "text": [
      "Bandit 0 estimated weight:\n",
      "[[ 0.03988518]\n",
      " [ 0.45470949]\n",
      " [-0.74912553]\n",
      " [ 0.65821024]\n",
      " [-0.34879206]]\n",
      "\n",
      "Bandit 1 estimated weight:\n",
      "[0. 0. 0. 0. 0.]\n",
      "\n",
      "Bandit 2 estimated weight:\n",
      "[0. 0. 0. 0. 0.]\n",
      "\n",
      "Bandit 3 estimated weight:\n",
      "[0. 0. 0. 0. 0.]\n",
      "\n",
      "Bandit 4 estimated weight:\n",
      "[0. 0. 0. 0. 0.]\n",
      "\n",
      "Bandit 5 estimated weight:\n",
      "[0. 0. 0. 0. 0.]\n",
      "\n",
      "Bandit 6 estimated weight:\n",
      "[0. 0. 0. 0. 0.]\n",
      "\n",
      "Bandit 7 estimated weight:\n",
      "[0. 0. 0. 0. 0.]\n",
      "\n",
      "Bandit 8 estimated weight:\n",
      "[0. 0. 0. 0. 0.]\n",
      "\n",
      "Bandit 9 estimated weight:\n",
      "[0. 0. 0. 0. 0.]\n",
      "\n"
     ]
    }
   ],
   "source": [
    "for i, bandit in enumerate(bandit_list):\n",
    "    print(f'Bandit {i} estimated weight:')\n",
    "    print(bandit.estimated_weight)\n",
    "    print()"
   ]
  },
  {
   "cell_type": "markdown",
   "metadata": {},
   "source": [
    "For Regret Calculation we will also simulate the action of the take on full exploration and the best expected reward during the context."
   ]
  },
  {
   "cell_type": "code",
   "execution_count": 14,
   "metadata": {},
   "outputs": [
    {
     "name": "stderr",
     "output_type": "stream",
     "text": [
      "C:\\Users\\OMEN\\AppData\\Local\\Temp\\ipykernel_7324\\4287488163.py:26: DeprecationWarning: Conversion of an array with ndim > 0 to a scalar is deprecated, and will error in future. Ensure you extract a single element from your array before performing this operation. (Deprecated NumPy 1.25.)\n",
      "  best_expected_reward.append(np.float64(best_expectation))\n"
     ]
    }
   ],
   "source": [
    "# REGRET Random Exploration\n",
    "random_explore_log(context, bandit_list)          # Generate reward without changing the number of pulled\n",
    "best_expected_log(context, bandit_list)"
   ]
  },
  {
   "cell_type": "markdown",
   "metadata": {},
   "source": [
    "Notice that the bandit 0 estimated weight is now updated. We should now repeat the iterations with the number of trials."
   ]
  },
  {
   "cell_type": "code",
   "execution_count": 15,
   "metadata": {},
   "outputs": [
    {
     "name": "stdout",
     "output_type": "stream",
     "text": [
      "finish simulating for 499 iterations!\n"
     ]
    },
    {
     "name": "stderr",
     "output_type": "stream",
     "text": [
      "C:\\Users\\OMEN\\AppData\\Local\\Temp\\ipykernel_7324\\4287488163.py:26: DeprecationWarning: Conversion of an array with ndim > 0 to a scalar is deprecated, and will error in future. Ensure you extract a single element from your array before performing this operation. (Deprecated NumPy 1.25.)\n",
      "  best_expected_reward.append(np.float64(best_expectation))\n"
     ]
    }
   ],
   "source": [
    "# Repeat with number of trials\n",
    "for i in range(NUM_OF_TRIALS-1):    # -1 for our recent example trials\n",
    "\n",
    "    # Step 1: Preparation\n",
    "    context = np.random.randn(NUM_OF_CONTEXT)\n",
    "    # print(f'Generated context: {context}')\n",
    "\n",
    "    # Step 2: Calculate UCB Value of each arm\n",
    "    bandit_ucb_value = []\n",
    "\n",
    "    for bandit in bandit_list:\n",
    "        \n",
    "        context, context_resized, inverted_feature_cov, estimated_weight, expected_reward, confidence_bound, upper_confidence_bound  = bandit.calculate_ucb_value(context=context)\n",
    "\n",
    "        bandit_ucb_value.append(upper_confidence_bound)\n",
    "\n",
    "    # Step 3: Take the highest UCB value and pull the arm\n",
    "    bandit_best_ucb = np.argmax(bandit_ucb_value)\n",
    "    # print(f'Bandit index to pull: {bandit_best_ucb}')\n",
    "\n",
    "    context, reward = bandit_list[bandit_best_ucb].return_reward(context)\n",
    "    # print(f'Earned Reward: {reward}')\n",
    "    # print()\n",
    "\n",
    "    # Step 4: Update the UCB Matrix of the pulled arm\n",
    "    bandit_list[bandit_best_ucb].update_ucb_matrix(context, reward)\n",
    "\n",
    "    # REGRET CALCULATION STEP\n",
    "    random_explore_log(context, bandit_list) \n",
    "    best_expected_log(context, bandit_list)\n",
    "\n",
    "# Output\n",
    "print(f'finish simulating for {NUM_OF_TRIALS-1} iterations!')"
   ]
  },
  {
   "cell_type": "markdown",
   "metadata": {},
   "source": [
    "## Check result"
   ]
  },
  {
   "cell_type": "markdown",
   "metadata": {},
   "source": [
    "Focus on the True weight and estimated weight"
   ]
  },
  {
   "cell_type": "code",
   "execution_count": 16,
   "metadata": {},
   "outputs": [
    {
     "name": "stdout",
     "output_type": "stream",
     "text": [
      "resized: [[0.0754892  0.99889825 0.54668441 0.29154899 0.09371926]]\n",
      "============ Bandit-0 ============== number of pull: 97\n",
      "True weight: [ 1.43045028  2.60392217 -0.98376189  0.16024638  1.3993683 ]\n",
      "Estimated weight: [[ 1.40411126]\n",
      " [ 2.60375715]\n",
      " [-0.98756329]\n",
      " [ 0.16249306]\n",
      " [ 1.38114458]]\n",
      "Expected Reward: [[2.34381279]]\n",
      "\n",
      "============ Bandit-1 ============== number of pull: 34\n",
      "True weight: [ 0.41233247 -0.72761444 -0.08312252 -0.18792216 -0.60442777]\n",
      "Estimated weight: [[ 0.36847631]\n",
      " [-0.67642185]\n",
      " [-0.05759681]\n",
      " [-0.14463635]\n",
      " [-0.58525711]]\n",
      "Expected Reward: [[-0.77636635]]\n",
      "\n",
      "============ Bandit-2 ============== number of pull: 54\n",
      "True weight: [ 0.70092044  0.57615702 -1.46167709 -0.11282496 -1.17186877]\n",
      "Estimated weight: [[ 0.65632484]\n",
      " [ 0.58139857]\n",
      " [-1.41379565]\n",
      " [-0.09828426]\n",
      " [-1.17412785]]\n",
      "Expected Reward: [[-0.28128966]]\n",
      "\n",
      "============ Bandit-3 ============== number of pull: 18\n",
      "True weight: [ 0.44026476  0.99863696 -0.69180498  0.05027853 -0.22972656]\n",
      "Estimated weight: [[ 0.27623181]\n",
      " [ 0.83665767]\n",
      " [-0.58624248]\n",
      " [ 0.03075173]\n",
      " [-0.16667748]]\n",
      "Expected Reward: [[0.52944353]]\n",
      "\n",
      "============ Bandit-4 ============== number of pull: 35\n",
      "True weight: [ 1.50406836 -0.32131351 -0.60964841 -0.75413468 -0.6347508 ]\n",
      "Estimated weight: [[ 1.46793365]\n",
      " [-0.31519601]\n",
      " [-0.5741437 ]\n",
      " [-0.74486233]\n",
      " [-0.64161841]]\n",
      "Expected Reward: [[-0.79520687]]\n",
      "\n",
      "============ Bandit-5 ============== number of pull: 14\n",
      "True weight: [ 1.40921701  1.06222006 -0.21281898 -0.29610611  0.44226819]\n",
      "Estimated weight: [[ 1.358179  ]\n",
      " [ 0.79707902]\n",
      " [-0.19435549]\n",
      " [-0.32577192]\n",
      " [ 0.34764498]]\n",
      "Expected Reward: [[0.73008014]]\n",
      "\n",
      "============ Bandit-6 ============== number of pull: 29\n",
      "True weight: [-0.50440889  0.01465406  0.41330899  0.90052263  1.10406372]\n",
      "Estimated weight: [[-0.48406383]\n",
      " [ 0.00298897]\n",
      " [ 0.30728475]\n",
      " [ 0.89313838]\n",
      " [ 0.96133692]]\n",
      "Expected Reward: [[0.48492125]]\n",
      "\n",
      "============ Bandit-7 ============== number of pull: 15\n",
      "True weight: [ 0.52267242 -0.44487126 -0.91893064  0.29123721  0.0660976 ]\n",
      "Estimated weight: [[ 0.43545285]\n",
      " [-0.33086885]\n",
      " [-0.82913347]\n",
      " [ 0.37167371]\n",
      " [ 0.1243341 ]]\n",
      "Expected Reward: [[-0.63089307]]\n",
      "\n",
      "============ Bandit-8 ============== number of pull: 103\n",
      "True weight: [-0.79957437  0.85085559  1.31596358  0.72254577  2.04503544]\n",
      "Estimated weight: [[-0.79592998]\n",
      " [ 0.87090846]\n",
      " [ 1.32455544]\n",
      " [ 0.7102248 ]\n",
      " [ 2.04202603]]\n",
      "Expected Reward: [[1.93242112]]\n",
      "\n",
      "============ Bandit-9 ============== number of pull: 101\n",
      "True weight: [ 0.22998884 -2.0999624  -1.40300524 -1.29902208  1.39188175]\n",
      "Estimated weight: [[ 0.26170266]\n",
      " [-2.08587935]\n",
      " [-1.3914574 ]\n",
      " [-1.3023247 ]\n",
      " [ 1.39016997]]\n",
      "Expected Reward: [[-3.07391933]]\n",
      "\n"
     ]
    }
   ],
   "source": [
    "# Check the result after multiple iterations\n",
    "# print(f'context: {context}')\n",
    "print(f'resized: {context_resized}')\n",
    "\n",
    "for i, bandit in enumerate(bandit_list):\n",
    "    context, context_resized, inverted_feature_cov, estimated_weight, expected_reward, confidence_bound, upper_confidence_bound  = bandit.calculate_ucb_value(context=context)\n",
    "    print(f'============ Bandit-{i} ============== number of pull: {bandit.number_pulled}')\n",
    "    # print(f'Inverted Feature Cov (Ab): {inverted_feature_cov}')\n",
    "    print(f'True weight: {bandit.true_weight}')\n",
    "    print(f'Estimated weight: {estimated_weight}')\n",
    "    print(f'Expected Reward: {expected_reward}')\n",
    "    # print(f'Confidence Bound: {confidence_bound}')\n",
    "    # print(f'UCB Value: {upper_confidence_bound}')\n",
    "    print()\n",
    "    # print(f'feature Cov Matrix: {bandit.feature_covariance_matrix}')\n",
    "    # print(f'weighted_reward: {bandit.weighted_reward_matrix}')\n",
    "    # print(f'estimated weight: {bandit.estimated_weight}')\n",
    "    # print()"
   ]
  },
  {
   "cell_type": "markdown",
   "metadata": {},
   "source": [
    "The true weight and the estimated rewards are very closed meaning that our estimation is working!\n",
    "\n",
    "We can also calculate the expected reward based on current context!"
   ]
  },
  {
   "cell_type": "markdown",
   "metadata": {},
   "source": [
    "Notes from ChatGPT:\n",
    "1. Check whether the self.feature_covariance_matrix update is correct\n",
    "\n",
    "Instead of using np.matmul like this\n",
    "`self.feature_covariance_matrix += np.matmul(context_resized.transpose(), context_resized)`\n",
    "\n",
    "Use this\n",
    "`self.feature_covariance_matrix += np.outer(context, context)`\n",
    "\n",
    "2. Fix UCB Calculation\n",
    "from:\n",
    "`confidence_bound = np.sqrt(np.matmul(np.matmul(context_resized, inverted_feature_cov), context_resized.transpose()))`\n",
    "\n",
    "to:\n",
    "`confidence_bound = np.sqrt(np.dot(context, np.dot(inverted_feature_cov, context)))`\n"
   ]
  },
  {
   "cell_type": "markdown",
   "metadata": {},
   "source": [
    "The suggestion from ChatGPT might be wrong, since the code I created is able to estimate the context true weight quite close."
   ]
  },
  {
   "cell_type": "code",
   "execution_count": 17,
   "metadata": {},
   "outputs": [],
   "source": [
    "def return_reward(self, context = np.random.rand(NUM_OF_CONTEXT)):\n",
    "\n",
    "        # True weight vector for a particular arm (unknown in real applications)\n",
    "        # theta_a = np.array([0.5, -0.2, 0.8, 0.3, -0.5])\n",
    "\n",
    "        # Noise (Gaussian)\n",
    "        noise = np.random.normal(0, 0.1)  \n",
    "\n",
    "        # Compute reward\n",
    "        reward = np.dot(context, self.true_weight) + noise\n",
    "\n",
    "\n",
    "        # REGRET\n",
    "        result_history.append(reward)\n",
    "\n",
    "        return context, reward\n",
    "\n",
    "# Random exploration for metric purposes\n",
    "for i in range(NUM_OF_TRIALS):\n",
    "    random_index = np.random.randint(0,10)\n",
    "\n",
    "    "
   ]
  },
  {
   "cell_type": "code",
   "execution_count": 18,
   "metadata": {},
   "outputs": [
    {
     "name": "stdout",
     "output_type": "stream",
     "text": [
      "[np.float64(3.130396241343336), np.float64(2.7043286670404973), np.float64(2.125007495860047), np.float64(4.276782498847911), np.float64(1.125206984137793), np.float64(2.0068072473125347), np.float64(0.3241715764105013), np.float64(0.3613949609201055), np.float64(-1.2993007877241092), np.float64(0.7984665841723931), np.float64(-0.42469908791065536), np.float64(0.9096865855654286), np.float64(-2.488317838512745), np.float64(1.2425679461874668), np.float64(-0.6323117858003915), np.float64(-1.0243475787231613), np.float64(2.024363186489021), np.float64(5.154685002922026), np.float64(-0.6413772337727482), np.float64(3.4230948949280062), np.float64(-0.0719386078636666), np.float64(-0.790328694374977), np.float64(-1.3322078815613883), np.float64(0.6457132832300844), np.float64(2.462526955428579), np.float64(2.935502819088862), np.float64(8.181271161271031), np.float64(3.6243507884781208), np.float64(5.416744298720623), np.float64(3.9009574271422753), np.float64(3.822450899506947), np.float64(4.856898002774677), np.float64(4.946314892242948), np.float64(5.5477580984691794), np.float64(2.8651914954574655), np.float64(3.939479039999433), np.float64(5.480374254126468), np.float64(5.235896309392476), np.float64(5.801829495578755), np.float64(-1.092984237381596), np.float64(4.481374864307858), np.float64(0.5114225368097323), np.float64(4.49141641181287), np.float64(2.3838874897471314), np.float64(-0.43383325327370664), np.float64(3.926247820259793), np.float64(0.9736435697556048), np.float64(2.44091062578772), np.float64(-0.8784500606024943), np.float64(2.7395181551678895), np.float64(4.992999715708551), np.float64(0.47005182868476025), np.float64(0.521092584096846), np.float64(-0.459855359392815), np.float64(5.069173076407092), np.float64(1.2191537517550421), np.float64(4.0981229405225355), np.float64(3.496940674909659), np.float64(7.499691825099368), np.float64(2.6677478729674364), np.float64(5.6281015558363325), np.float64(-2.100738155354322), np.float64(4.550580497293542), np.float64(6.1308432501031), np.float64(1.6852840454275362), np.float64(7.851929925605056), np.float64(-0.8819877878275346), np.float64(3.8948230029637525), np.float64(4.0785981862947125), np.float64(4.161271794341853), np.float64(1.3387036222937536), np.float64(5.66750967678213), np.float64(7.3680784412624005), np.float64(3.0874630351712344), np.float64(2.0365425526974112), np.float64(2.464101714763125), np.float64(1.9851182729638472), np.float64(-2.109944902894376), np.float64(5.092830316019078), np.float64(0.6242693835159256), np.float64(2.4196588846806306), np.float64(2.0299796487332196), np.float64(1.7681116955774534), np.float64(2.5852825067627383), np.float64(6.295678517515958), np.float64(5.848362617459453), np.float64(0.38464117082133065), np.float64(3.4750321319932316), np.float64(4.112129562851257), np.float64(5.228117854294905), np.float64(0.03574005488185221), np.float64(1.9306674352482587), np.float64(5.800093489583667), np.float64(-0.3871560511485698), np.float64(2.463489190184926), np.float64(3.044696660573356), np.float64(4.347513252006526), np.float64(6.827401784194177), np.float64(3.456044735154573), np.float64(4.860566884701257), np.float64(1.7724586426876037), np.float64(1.9778743824283385), np.float64(1.2463531124433593), np.float64(2.378784630211948), np.float64(0.7978288322629652), np.float64(3.167536640427406), np.float64(7.378005953746652), np.float64(1.0941163643164022), np.float64(-0.2632747768612126), np.float64(1.8316667700316775), np.float64(10.039839356879806), np.float64(0.1661642906948071), np.float64(3.0330914051777427), np.float64(1.3764116657777439), np.float64(5.71476843575916), np.float64(2.530892030541484), np.float64(1.2378834836438628), np.float64(2.480668415890217), np.float64(2.561840542194366), np.float64(2.547820399119761), np.float64(0.5456606386437295), np.float64(0.1116545050353564), np.float64(5.1231019206100985), np.float64(2.4950295631358483), np.float64(6.8372770246522245), np.float64(3.410262295093378), np.float64(1.432516748527886), np.float64(1.0548882608867312), np.float64(1.2164571029902544), np.float64(5.175739887510045), np.float64(0.002842751625057538), np.float64(4.480690799405675), np.float64(8.885995611616451), np.float64(3.4551499184712062), np.float64(2.8200119314001455), np.float64(2.610750047784355), np.float64(3.6121490850619424), np.float64(-0.5944434492293321), np.float64(3.051541579552399), np.float64(0.9716336341276575), np.float64(1.1447055997397806), np.float64(4.5255093789917895), np.float64(1.61632889846798), np.float64(1.1003477780048352), np.float64(1.8495565950628814), np.float64(4.081858722123231), np.float64(1.9629572084967366), np.float64(0.843879398618248), np.float64(5.776869767297517), np.float64(0.8967890971255631), np.float64(6.3298735265500525), np.float64(1.8993643544040357), np.float64(1.2701892177376883), np.float64(0.518486874024391), np.float64(4.743302395613861), np.float64(0.36719391182507943), np.float64(2.590652022069553), np.float64(0.6640547428271139), np.float64(2.796550145095705), np.float64(1.3288740078330694), np.float64(4.457181074668353), np.float64(0.8835757411598243), np.float64(1.1722608908842906), np.float64(2.959248997871257), np.float64(2.6012416587244216), np.float64(1.6212560363228676), np.float64(1.3311340115700288), np.float64(7.002668458319307), np.float64(0.3571075276784671), np.float64(3.6920739618744056), np.float64(1.9535348306473848), np.float64(2.9469401206675734), np.float64(0.8872713691914154), np.float64(1.7374562632786226), np.float64(5.5968244114111645), np.float64(0.4075047127893511), np.float64(3.0472093577113597), np.float64(1.2430017162111278), np.float64(3.6069832318297514), np.float64(8.238288972512786), np.float64(5.253798731787316), np.float64(7.240266898913375), np.float64(1.3034045901445037), np.float64(-1.1463528263769738), np.float64(4.521283199428022), np.float64(3.9420877400104994), np.float64(1.4332939420463764), np.float64(2.9575899248345223), np.float64(2.9572154996875772), np.float64(1.1985362818758578), np.float64(6.479518218395896), np.float64(3.5982449681949737), np.float64(1.3398297065305365), np.float64(5.454329786758104), np.float64(1.3463395399577474), np.float64(1.2520773363276605), np.float64(6.228990145546126), np.float64(2.3621377992159225), np.float64(1.3619236146958398), np.float64(3.8286144279610816), np.float64(2.5500668445914716), np.float64(2.9381373972880955), np.float64(2.499171923194519), np.float64(1.469942674057955), np.float64(4.714533538650305), np.float64(3.891032516022907), np.float64(5.610938432316127), np.float64(1.6937493172913705), np.float64(3.707078476346907), np.float64(0.8223163228343146), np.float64(2.072944116856892), np.float64(3.325221358386739), np.float64(3.453420794439484), np.float64(1.693361203471441), np.float64(2.7449997728751163), np.float64(2.141585167648377), np.float64(1.4045443572550804), np.float64(3.2889538017551865), np.float64(1.4480056630097404), np.float64(1.6201341046391344), np.float64(3.276601672658252), np.float64(2.957637218959698), np.float64(7.275649167751577), np.float64(3.2729330669803263), np.float64(1.4761518947306598), np.float64(3.1875810488095713), np.float64(5.823745405282999), np.float64(3.8430142163302876), np.float64(1.290023751289584), np.float64(2.0917388931260543), np.float64(2.42610473816651), np.float64(2.6068280916806534), np.float64(4.965696795264332), np.float64(4.7083604990922066), np.float64(1.7828494303781217), np.float64(0.979483638559855), np.float64(2.709184357036225), np.float64(1.0189463173872693), np.float64(4.692861442595376), np.float64(1.8750915176826364), np.float64(3.41514079784522), np.float64(0.6917227182933199), np.float64(2.8036361291752483), np.float64(1.3197116666827502), np.float64(7.76716114099613), np.float64(4.692319366438224), np.float64(1.081454580287249), np.float64(4.797915962874787), np.float64(1.9199791999693163), np.float64(1.6263257937230577), np.float64(0.08793136245878645), np.float64(1.577510524161145), np.float64(6.446345474304864), np.float64(6.989222325191276), np.float64(3.108014710444447), np.float64(0.7718969928671213), np.float64(6.621442660687561), np.float64(4.1401835071546245), np.float64(4.937445157628465), np.float64(4.6453077260393325), np.float64(3.8810999910722184), np.float64(1.823660036869128), np.float64(2.207142286861871), np.float64(3.963002038869446), np.float64(2.8817143478596905), np.float64(1.2165480408347855), np.float64(3.61269899333715), np.float64(1.9473380045438657), np.float64(7.9959063930646765), np.float64(0.908517229091234), np.float64(2.516659022826365), np.float64(0.8202591734767566), np.float64(1.5859864820343759), np.float64(0.4330952204850109), np.float64(7.93065432441973), np.float64(2.329111189139566), np.float64(2.8056348679229712), np.float64(5.255667792889884), np.float64(4.27662196283098), np.float64(4.43683083813974), np.float64(4.638798377894912), np.float64(0.7851552538121218), np.float64(9.408019278872255), np.float64(1.4537163644847635), np.float64(3.252713549730352), np.float64(0.5768788744738534), np.float64(1.3274205727779433), np.float64(4.880699061175022), np.float64(4.016533130458641), np.float64(3.0063251137208944), np.float64(3.5693492805977507), np.float64(6.8649655995746715), np.float64(4.23793906267529), np.float64(1.2438705091848279), np.float64(3.749744738955189), np.float64(1.9399932001372622), np.float64(6.532845848357299), np.float64(0.04346798539681006), np.float64(6.937866214070718), np.float64(2.9727431501939603), np.float64(0.889488379494445), np.float64(2.1877278793671913), np.float64(2.1792679028158437), np.float64(1.2331506102850185), np.float64(1.9219455952783653), np.float64(1.125287641248739), np.float64(3.5946759888376656), np.float64(3.458078854008902), np.float64(0.3451927725517066), np.float64(1.1018758459184512), np.float64(3.5087091869646025), np.float64(4.127280739949797), np.float64(0.6139166656152613), np.float64(3.1629342956724944), np.float64(1.3170802428104869), np.float64(2.6855426640125577), np.float64(2.1920127468082113), np.float64(2.428146397242667), np.float64(3.5411930832728977), np.float64(6.079093175325167), np.float64(1.908030283160233), np.float64(3.461511130462662), np.float64(1.592943817430121), np.float64(0.36374110048772207), np.float64(1.4484146575550607), np.float64(1.7058785492456685), np.float64(5.554727343430229), np.float64(2.4899227419674648), np.float64(4.361923929058309), np.float64(3.0527369677749276), np.float64(4.58316105017341), np.float64(1.3761372054390173), np.float64(6.278706924052258), np.float64(2.9989266029351334), np.float64(1.482208645547413), np.float64(0.9078752728910927), np.float64(4.842679239231388), np.float64(1.599878939500389), np.float64(-0.43187693601878285), np.float64(1.837629126652179), np.float64(3.2195964945018267), np.float64(4.382764671551298), np.float64(2.238871085630669), np.float64(5.135530095695515), np.float64(9.398142104658406), np.float64(1.300081585610866), np.float64(1.5767509891319917), np.float64(5.140680969242583), np.float64(3.0592662061199682), np.float64(2.315133485291924), np.float64(1.8969655263055125), np.float64(2.3370175038396876), np.float64(1.6872520647185112), np.float64(3.7742289515825975), np.float64(5.0030819864594545), np.float64(0.533467013167613), np.float64(2.5783379364153007), np.float64(3.422671143771942), np.float64(6.924036345958945), np.float64(1.1252853309011834), np.float64(5.852727898831332), np.float64(2.812790934495346), np.float64(4.15284853775269), np.float64(1.9103787303384434), np.float64(-0.338397725592263), np.float64(0.8023184969010827), np.float64(5.590716941469483), np.float64(1.3340238549475372), np.float64(1.7979708332331612), np.float64(1.6151689523958461), np.float64(6.919972855513134), np.float64(4.323731647313548), np.float64(1.458618147692435), np.float64(-0.1927004783166085), np.float64(5.759047780317977), np.float64(5.31553094886561), np.float64(4.085396527520976), np.float64(2.9929085914325957), np.float64(8.47107272760105), np.float64(5.175656845579791), np.float64(0.9780428780302766), np.float64(2.8989839925751886), np.float64(10.15797030678937), np.float64(2.4472523275661), np.float64(1.531265870370707), np.float64(2.7178276861174204), np.float64(2.710584279008293), np.float64(2.51518984881592), np.float64(3.546461653462638), np.float64(1.675850370112658), np.float64(6.697399522621917), np.float64(5.811436800190573), np.float64(7.506123695040862), np.float64(4.825283956938406), np.float64(1.0775157874887766), np.float64(1.9072759830192465), np.float64(3.6858108434694876), np.float64(3.510713617155527), np.float64(0.5175084105574391), np.float64(4.82798831972554), np.float64(3.0144076810386884), np.float64(5.4824041983653435), np.float64(3.2488135167645287), np.float64(1.3572191101191264), np.float64(5.921668393444547), np.float64(2.8751295586068295), np.float64(4.83749056914165), np.float64(2.7975986697267516), np.float64(6.427274020748618), np.float64(3.052874967173538), np.float64(0.22535135490982836), np.float64(2.4829421620277996), np.float64(1.4214838226092246), np.float64(2.1835842966453165), np.float64(2.56189142503882), np.float64(3.7922432149982157), np.float64(3.3418101131126865), np.float64(0.763679428140263), np.float64(4.436415916635107), np.float64(3.176081883037679), np.float64(2.743959013294462), np.float64(2.6771124657788663), np.float64(5.58778980840091), np.float64(2.8120903674977225), np.float64(2.8427640395937943), np.float64(2.7547529939795985), np.float64(0.9758264483791422), np.float64(5.785852398975849), np.float64(5.859177710755411), np.float64(5.096433497927645), np.float64(8.162104391839872), np.float64(3.3702978164147943), np.float64(0.9662373162695159), np.float64(4.172227571583334), np.float64(0.6512765512315257), np.float64(2.1002559652719106), np.float64(2.44616768533437), np.float64(2.9174976759811173), np.float64(1.2985479420793724), np.float64(3.921339112489518), np.float64(2.153084416802549), np.float64(2.7948909599149894), np.float64(2.0551118493034464), np.float64(3.883989685092824), np.float64(0.6732323099560771), np.float64(3.6962103733055347), np.float64(5.576437623151908), np.float64(0.7801314355988905), np.float64(0.9231841360515959), np.float64(0.9918613397435336), np.float64(6.01950471849576), np.float64(3.017431089535695), np.float64(1.8033141445018608), np.float64(5.416279072811079), np.float64(4.207788946616538), np.float64(6.579411054543721), np.float64(2.6030972378295667), np.float64(1.6576275298476784), np.float64(2.159353022270593), np.float64(0.7673076991960678), np.float64(5.38577836471389), np.float64(4.22887531221994), np.float64(2.380716316006091), np.float64(4.467248567619526), np.float64(3.52996694977788), np.float64(5.7722683944894575), np.float64(2.983195022193664), np.float64(3.5618769118694904), np.float64(1.0625490458251095), np.float64(2.459046478487809), np.float64(6.023689320412328), np.float64(2.4123744112256427), np.float64(7.413283006764761), np.float64(2.2088897778866947), np.float64(3.338651009439664), np.float64(1.1588577319861162), np.float64(2.1992961772007806), np.float64(1.3366621994185424), np.float64(4.1557757753058455), np.float64(2.930749473498524), np.float64(3.4023839003430623), np.float64(4.0964336528181935), np.float64(2.0947079761518377), np.float64(4.7865115428094605), np.float64(2.605074440143363), np.float64(0.6367363456762672), np.float64(7.458959797729514), np.float64(3.741951528630301), np.float64(1.994263903847579), np.float64(1.2441618854948735), np.float64(7.255767316518575), np.float64(7.128494052859494), np.float64(6.353038587932075), np.float64(1.2261124500212326), np.float64(3.6752903064235225), np.float64(0.33755657334551903), np.float64(3.450104825141338), np.float64(5.787788598299889), np.float64(2.27157967454735), np.float64(2.375923286713442)]\n",
      "[np.float64(3.409161823511499), np.float64(2.6055486128260603), np.float64(3.26838779710896), np.float64(4.211963770890301), np.float64(2.9659728569231905), np.float64(2.0146042652937965), np.float64(0.9571889640756878), np.float64(7.207920790370812), np.float64(1.261791154141047), np.float64(4.18106355172475), np.float64(1.7866655814989152), np.float64(1.5980813514263252), np.float64(1.527237573660056), np.float64(1.4940254018614418), np.float64(2.395466868128558), np.float64(1.7461995721655457), np.float64(1.890920712778098), np.float64(5.060626715458269), np.float64(6.2147690906312665), np.float64(3.3572285393771204), np.float64(6.77456712845474), np.float64(2.942083006767988), np.float64(2.3680643080543113), np.float64(1.7105770309690886), np.float64(2.450167194614297), np.float64(2.8524752088986953), np.float64(8.13482837332732), np.float64(3.6927437045184894), np.float64(5.58573697894299), np.float64(3.8026720593224037), np.float64(3.7782703419995065), np.float64(4.706327237413144), np.float64(5.10903178159225), np.float64(5.433617752841791), np.float64(3.151229618401379), np.float64(4.076716462232748), np.float64(5.466592744949498), np.float64(5.238106988184401), np.float64(5.660131842052717), np.float64(1.5067920176137768), np.float64(4.570399192295758), np.float64(0.7711590167451554), np.float64(4.537014755691345), np.float64(2.4438208063924622), np.float64(0.5958148072326906), np.float64(3.858913247612038), np.float64(1.8585944475608212), np.float64(4.478657579705739), np.float64(1.4935411342669662), np.float64(5.830844085477833), np.float64(4.814680602274394), np.float64(0.7129852893592262), np.float64(1.1626994596243447), np.float64(0.4494074255217137), np.float64(4.937119326706463), np.float64(1.7021327627645157), np.float64(4.067178951304386), np.float64(3.3819438097775985), np.float64(7.429359083663423), np.float64(2.6012536768021075), np.float64(5.516851875667939), np.float64(2.5142857428444936), np.float64(4.691585834220105), np.float64(6.322449593605958), np.float64(1.763850400321024), np.float64(7.923098082214748), np.float64(0.4477423739241155), np.float64(3.9079486217815806), np.float64(4.159547073570108), np.float64(4.206621852095224), np.float64(2.032322656122865), np.float64(5.570738049104435), np.float64(7.206308435248021), np.float64(2.9185929160325115), np.float64(1.9815637240232182), np.float64(2.4976540880511133), np.float64(2.1412271223226482), np.float64(3.1128567037754626), np.float64(5.042368817192072), np.float64(0.45222162294697416), np.float64(2.2331482025592684), np.float64(2.1060146051888293), np.float64(1.9734102557974775), np.float64(2.5353664463288634), np.float64(6.302534000519979), np.float64(5.801322377718432), np.float64(0.6671493709287782), np.float64(3.422603086518099), np.float64(4.02247048890804), np.float64(5.148542515403342), np.float64(0.19562258846932112), np.float64(1.9727393298275715), np.float64(5.7935931010755795), np.float64(0.18751541531398427), np.float64(2.622691560445732), np.float64(3.02646420930378), np.float64(4.5360518694638605), np.float64(6.955205101787209), np.float64(3.464995616184907), np.float64(4.771364112657885), np.float64(1.9361744401019936), np.float64(2.028858253599092), np.float64(1.2616527686109107), np.float64(2.2697876942429396), np.float64(1.8519759016146966), np.float64(3.0513663253163203), np.float64(7.400332877598618), np.float64(1.059166260058005), np.float64(1.123088745431869), np.float64(1.772988937571237), np.float64(9.86960872957382), np.float64(0.19757570690241694), np.float64(2.8811910551878928), np.float64(1.3930024961280463), np.float64(6.016944040770357), np.float64(2.3953320877530064), np.float64(1.1958426955683927), np.float64(2.478391320626934), np.float64(2.418970978042162), np.float64(2.475503568537389), np.float64(0.48000981114225), np.float64(0.29120562850234205), np.float64(4.919035666136673), np.float64(3.44273970901588), np.float64(6.7012529269635674), np.float64(3.4323233267168516), np.float64(1.3932722709890744), np.float64(1.5825132023135042), np.float64(1.491322773270637), np.float64(5.074590387285138), np.float64(0.9631053979601636), np.float64(4.52874940391825), np.float64(9.054140206581664), np.float64(3.5317718287784508), np.float64(2.7059355770859472), np.float64(2.6439327368712555), np.float64(3.633587171573214), np.float64(0.556008763424626), np.float64(3.100398056588432), np.float64(1.26626740003485), np.float64(1.2723714978420686), np.float64(4.230993524820458), np.float64(3.2439629573513713), np.float64(1.1523958802855137), np.float64(1.8549685014967825), np.float64(4.1176700175804495), np.float64(1.9847824792295263), np.float64(0.7536869499763424), np.float64(5.84308448588873), np.float64(1.0749595340689901), np.float64(6.37110789885706), np.float64(1.8802843292793998), np.float64(1.3199030810500263), np.float64(0.5625125039693074), np.float64(4.656055316751425), np.float64(0.5853768469137894), np.float64(2.583118176608327), np.float64(0.8460382600724775), np.float64(2.9887486356432666), np.float64(1.1705193386948556), np.float64(4.416086528186774), np.float64(0.8072304264695271), np.float64(1.0806553783612511), np.float64(3.05469421847559), np.float64(2.7419942550905243), np.float64(1.6579034343321033), np.float64(1.514116056660319), np.float64(7.046742127963396), np.float64(0.42109894529701136), np.float64(3.525564929958114), np.float64(2.0043745692347237), np.float64(3.12095802737189), np.float64(0.9591816266363575), np.float64(1.7129517759056307), np.float64(5.686084977458701), np.float64(0.6466778154237538), np.float64(3.012678771987002), np.float64(1.3774489021450471), np.float64(3.5572395173742826), np.float64(8.109685780519477), np.float64(5.375922023760866), np.float64(7.349621804322607), np.float64(1.4065451396023636), np.float64(0.942317836158591), np.float64(4.47949138873604), np.float64(3.8598691556270426), np.float64(1.461785362918345), np.float64(2.986000704182437), np.float64(2.91753318963856), np.float64(1.2221588100395882), np.float64(6.516653380964122), np.float64(3.599210310789097), np.float64(1.35327396794631), np.float64(5.618227774628063), np.float64(1.199178093191232), np.float64(1.2074829456923832), np.float64(6.189705321354801), np.float64(2.2238412539550825), np.float64(1.6526693778159218), np.float64(3.7943462543710424), np.float64(2.431721716052165), np.float64(3.0600468502311595), np.float64(2.4360847411703195), np.float64(1.4603272668849225), np.float64(4.634446248863202), np.float64(3.869231475731157), np.float64(5.568904106763967), np.float64(1.6934431325445973), np.float64(3.854771319137509), np.float64(0.9728360976452131), np.float64(1.8734356904152842), np.float64(3.3876217735540597), np.float64(3.3840923883983036), np.float64(1.5852641111559111), np.float64(2.6960821867511164), np.float64(2.0698488175719776), np.float64(1.6999910310990642), np.float64(3.336231608459857), np.float64(1.8285802389131562), np.float64(1.7264472825789283), np.float64(3.3260665652048327), np.float64(2.8518323673641097), np.float64(7.262056451888884), np.float64(3.0281763913183224), np.float64(1.4046001035490265), np.float64(3.150916799784889), np.float64(5.91453267998173), np.float64(3.9364192173698656), np.float64(1.723008857156123), np.float64(3.2385090555183638), np.float64(2.3576961070542755), np.float64(2.52072361809673), np.float64(4.955634733324496), np.float64(4.770266461122151), np.float64(1.8912301052252776), np.float64(0.9324128396339807), np.float64(2.591739237901168), np.float64(1.2019856577770645), np.float64(4.698218126508345), np.float64(1.920235228880939), np.float64(3.394684871994779), np.float64(0.8516907039716727), np.float64(2.8056828059292904), np.float64(1.3498069776544983), np.float64(7.66161088052468), np.float64(4.597609054751281), np.float64(1.0286497695337034), np.float64(4.843942919919076), np.float64(1.9297553899120334), np.float64(1.6503393615316668), np.float64(0.8621389576768341), np.float64(2.662618947092497), np.float64(6.522340293769264), np.float64(7.110900009974644), np.float64(3.1465063134862845), np.float64(0.904310364629669), np.float64(6.572214157235247), np.float64(4.04567349343995), np.float64(4.811930937595319), np.float64(4.656855925732697), np.float64(3.908916365424563), np.float64(1.758385668922478), np.float64(2.2692120422668856), np.float64(4.093230251298528), np.float64(2.761906078894019), np.float64(1.136353585219613), np.float64(3.574093436206623), np.float64(2.1206058239240733), np.float64(8.001763051988625), np.float64(0.6932059131590086), np.float64(2.551229343117761), np.float64(0.7164737800384404), np.float64(1.4929950154776452), np.float64(0.5601506800643657), np.float64(7.901603646008345), np.float64(2.312378177805413), np.float64(2.851053754978738), np.float64(5.346523773787541), np.float64(4.19364294328513), np.float64(4.271186571456743), np.float64(4.81713410751662), np.float64(1.0131339162107995), np.float64(9.382733758930991), np.float64(1.4762372888769728), np.float64(3.352354044315176), np.float64(0.4911875019397349), np.float64(1.4532373536839014), np.float64(4.945210664608028), np.float64(3.915154022518309), np.float64(3.044549172848853), np.float64(3.594191389910888), np.float64(6.874592887224101), np.float64(4.206798623621514), np.float64(1.190935614809896), np.float64(3.7112240244740677), np.float64(1.9048821949941976), np.float64(6.565315136290286), np.float64(0.3265735007343302), np.float64(6.978091016206341), np.float64(2.8702470216205427), np.float64(1.1680640671829312), np.float64(1.938479218330225), np.float64(2.144759660134501), np.float64(1.1156757329810016), np.float64(1.9992359675603322), np.float64(1.00520110802701), np.float64(3.652914869563295), np.float64(3.3880211877467645), np.float64(0.4239065397797587), np.float64(0.8618756471417028), np.float64(3.5795776654423337), np.float64(4.136545679210368), np.float64(0.6481667937485186), np.float64(3.1912683342392807), np.float64(1.6816193799433965), np.float64(2.6585956594668305), np.float64(2.150512580103236), np.float64(2.476824272066317), np.float64(3.4995138174817972), np.float64(5.914720798590705), np.float64(1.8922953285438073), np.float64(3.546168775243945), np.float64(1.5853840034061597), np.float64(0.17122646166546468), np.float64(1.5667061762491337), np.float64(1.6011575189797067), np.float64(5.495586935184376), np.float64(2.5173114215082992), np.float64(4.286976079742322), np.float64(2.9716990727733337), np.float64(4.624443275374271), np.float64(1.5532752553040454), np.float64(6.259477987749727), np.float64(3.315298906609563), np.float64(1.614402090930194), np.float64(0.9685971702233545), np.float64(4.849494842803382), np.float64(1.5345377271596021), np.float64(0.4083934256184832), np.float64(1.8878319679525624), np.float64(3.077791888211037), np.float64(4.420580074975707), np.float64(2.2389017988218813), np.float64(5.150871705895865), np.float64(9.46259797434965), np.float64(1.124667705505397), np.float64(1.677899948421606), np.float64(5.180434232485005), np.float64(3.142883802904664), np.float64(2.3931677171044776), np.float64(1.6787031626969815), np.float64(2.64567401372925), np.float64(1.6624636238908592), np.float64(3.7388520844444444), np.float64(4.78518642704638), np.float64(0.39754572527594983), np.float64(2.4526397674727636), np.float64(3.1759302234059885), np.float64(7.000588391796504), np.float64(1.185151815445971), np.float64(5.874352930069449), np.float64(2.6839353999331323), np.float64(4.293026750284809), np.float64(1.8809257033348827), np.float64(-0.16537742655855422), np.float64(0.5952392315681644), np.float64(5.657393184512829), np.float64(1.3427476734634387), np.float64(1.8496024993694569), np.float64(1.587521625905654), np.float64(6.913471413143775), np.float64(4.236060165217917), np.float64(1.4848256765852688), np.float64(0.3170520019124006), np.float64(5.720545792154136), np.float64(5.2529076579408445), np.float64(4.21842067644863), np.float64(2.96539385363296), np.float64(8.408309659627681), np.float64(5.221503344139512), np.float64(0.8756864389336053), np.float64(2.8377393568390556), np.float64(10.160857720786906), np.float64(2.54438863017543), np.float64(1.4497839521106488), np.float64(2.5847187785517325), np.float64(2.797475055821237), np.float64(2.567964084145246), np.float64(3.5529813778692168), np.float64(3.0287882362643224), np.float64(6.800707691363208), np.float64(5.746182718894183), np.float64(7.231716951704248), np.float64(4.811006040279454), np.float64(1.1517446585596622), np.float64(1.8695353602939906), np.float64(3.5998830070819063), np.float64(3.760080763086418), np.float64(0.587556887048198), np.float64(4.816181821630299), np.float64(2.985260583356712), np.float64(5.408215704438381), np.float64(3.3254175757185642), np.float64(1.2490157448998627), np.float64(6.015971297064413), np.float64(2.891330375970767), np.float64(4.862054250754543), np.float64(2.8502726193286314), np.float64(6.5580579705097035), np.float64(3.030337699622161), np.float64(0.2814622705009426), np.float64(2.3412183139340987), np.float64(1.4790089489558633), np.float64(2.397449630003209), np.float64(2.72169602959547), np.float64(3.6386005164567474), np.float64(3.2392215691016024), np.float64(0.8150614778750236), np.float64(4.579365254778287), np.float64(3.1367881749313327), np.float64(2.5974710554097387), np.float64(2.5978538910576647), np.float64(5.547798745578787), np.float64(2.7211918936949253), np.float64(2.908391460554308), np.float64(2.755444533620247), np.float64(0.8713024271227073), np.float64(5.705798694174107), np.float64(5.974093709666705), np.float64(5.239338191238807), np.float64(8.124385186199069), np.float64(3.169406880802819), np.float64(0.9654625367587266), np.float64(4.096863090020972), np.float64(0.7157494615667087), np.float64(2.183202198176818), np.float64(2.585329580339202), np.float64(2.6963717260073308), np.float64(1.4939152945797844), np.float64(3.929229115965583), np.float64(2.2197984904346355), np.float64(2.6937072899283323), np.float64(2.100188976693715), np.float64(3.9538554533513794), np.float64(0.6107706762383495), np.float64(3.6536662378934897), np.float64(5.7223995600296504), np.float64(0.784704585009585), np.float64(1.0953881654102666), np.float64(0.9219492509237862), np.float64(6.0800618020749715), np.float64(3.067507273237449), np.float64(1.730044213601571), np.float64(5.435904618297126), np.float64(4.1114146132209894), np.float64(6.362661938970431), np.float64(2.4307244705202953), np.float64(1.4922615127294676), np.float64(2.0498470621304787), np.float64(0.7921211792439082), np.float64(5.483265304550552), np.float64(4.308597260032628), np.float64(2.485450158563367), np.float64(4.367316184975327), np.float64(3.5811635853732), np.float64(5.755960905942734), np.float64(2.985560849076634), np.float64(3.5188481489716414), np.float64(1.0750537500566846), np.float64(2.603445983716014), np.float64(6.059773228632781), np.float64(2.581213549729158), np.float64(7.496096305996934), np.float64(2.0794545543966434), np.float64(3.297243636642235), np.float64(1.1248366765113358), np.float64(2.0316312252823496), np.float64(1.3444323612512772), np.float64(4.280917353078255), np.float64(2.8991947199546426), np.float64(3.350415070368586), np.float64(4.1839622670856444), np.float64(1.9536018955608159), np.float64(4.662658677814953), np.float64(2.784644753714896), np.float64(0.7785795570024516), np.float64(7.320450043105439), np.float64(3.704889058277845), np.float64(1.981862324031639), np.float64(1.1082353704983485), np.float64(7.449126073460777), np.float64(7.1393979454960395), np.float64(6.335254003216042), np.float64(1.3556738060250986), np.float64(3.7725179773549296), np.float64(0.19930562750024872), np.float64(3.4083512495770236), np.float64(5.651802787622657), np.float64(2.3118666076120062), np.float64(2.349097011611721)]\n",
      "[np.float64(-0.23495737626808633), np.float64(-0.8668009806288656), np.float64(-1.2164956557963462), np.float64(-0.6650314034831182), np.float64(-0.528423748004061), np.float64(0.6761419635961575), np.float64(0.3838660324724887), np.float64(-2.003640524952391), np.float64(-0.005501998533593282), np.float64(0.4658826419424599), np.float64(1.837635547485378), np.float64(-2.271871250372074), np.float64(-0.8825425813491726), np.float64(1.1291800391512243), np.float64(-0.7421246888009134), np.float64(-1.564756190020533), np.float64(0.5204432568971674), np.float64(2.129134187036838), np.float64(0.5136649067434218), np.float64(1.210855049323202), np.float64(0.19435520852537444), np.float64(1.4801641797050706), np.float64(-0.5522268815866033), np.float64(0.17243835753626816), np.float64(-1.2569555584704393), np.float64(1.3162433977044692), np.float64(8.193769638421122), np.float64(1.380496372626228), np.float64(-2.0758359838865528), np.float64(0.3111892585149177), np.float64(-1.087248500510382), np.float64(0.32425039009793966), np.float64(-0.5397695455418055), np.float64(-1.7298389730611885), np.float64(-0.17170729059864587), np.float64(0.2995779577950597), np.float64(1.8120940915799155), np.float64(2.4216689939449916), np.float64(2.9133663793235263), np.float64(1.59411827830207), np.float64(1.5569028106735467), np.float64(-3.968032487102946), np.float64(-2.4781846258100724), np.float64(-2.3273561017833564), np.float64(-1.5863405804351183), np.float64(2.5601566733310905), np.float64(1.0371868719905644), np.float64(2.5031602932439103), np.float64(-4.060039568607757), np.float64(-9.912819678380886), np.float64(-3.4056971480114955), np.float64(0.7146695810404522), np.float64(0.7902352783926899), np.float64(-0.32818738308814593), np.float64(-2.2395271808818773), np.float64(1.5417545216446378), np.float64(-1.1364938839953154), np.float64(1.0155990415675262), np.float64(0.41170051167093386), np.float64(-0.7629724815407677), np.float64(-1.1540182662794907), np.float64(1.4797569556199837), np.float64(0.30681444511451417), np.float64(-4.595641417439007), np.float64(-0.6838722328110629), np.float64(0.23540199834119524), np.float64(-0.1538908514957587), np.float64(0.8604620045257403), np.float64(-0.42221028881078854), np.float64(-1.5608776538816087), np.float64(-6.228221087252826), np.float64(-3.933016645253497), np.float64(-2.7650074362831014), np.float64(-0.3247141963223065), np.float64(-2.1735303892253177), np.float64(1.0484678525070927), np.float64(-0.00995845537784968), np.float64(-2.7099924162073807), np.float64(1.0354828588165716), np.float64(-1.4799587436468955), np.float64(-0.6629980112664722), np.float64(0.6760317057740006), np.float64(-2.1922148766891643), np.float64(0.8355724403584923), np.float64(-0.639528480702398), np.float64(-7.95486209392718), np.float64(-1.9775699808060605), np.float64(-3.3915964844479225), np.float64(-0.8211845985675135), np.float64(-2.349796175007275), np.float64(0.1108902698107023), np.float64(-0.03994021296444607), np.float64(-2.1059233488885845), np.float64(-2.440128330563949), np.float64(-0.2654251884521709), np.float64(-1.247888179985849), np.float64(-0.7013612324858414), np.float64(1.8075856660620766), np.float64(3.249137628060189), np.float64(-0.9349436766062991), np.float64(-2.310722047112449), np.float64(-2.343174935813877), np.float64(1.3284818812376895), np.float64(-0.4182868863894351), np.float64(0.2971747454179931), np.float64(-0.9897406850745981), np.float64(1.9260744852803284), np.float64(0.7015624352747103), np.float64(-0.6209028565563884), np.float64(1.8406992718660888), np.float64(4.862941167883036), np.float64(-0.6422586061978974), np.float64(-1.091281238813852), np.float64(0.919239175632096), np.float64(-0.4347240321938515), np.float64(-1.6533332195365043), np.float64(-2.5943583668757846), np.float64(2.3877989044425325), np.float64(2.374544942966987), np.float64(-4.036650876992096), np.float64(-4.477582303044876), np.float64(-0.9926171296563926), np.float64(2.0211132906338785), np.float64(-1.5096700637928322), np.float64(6.753485124418312), np.float64(1.2906066116192525), np.float64(-1.7792210221180114), np.float64(1.1820407730089684), np.float64(-0.7257477096394556), np.float64(-4.167053859417512), np.float64(-0.8806208828621811), np.float64(-1.7601783978453482), np.float64(2.8808124251641467), np.float64(2.2205559661576193), np.float64(2.1525221671106447), np.float64(-0.3457431699076819), np.float64(3.591667569781267), np.float64(0.4210534817838443), np.float64(-0.1232984336564476), np.float64(1.2418939472418613), np.float64(1.2990296223286362), np.float64(-0.32852188704859275), np.float64(-2.008835412211605), np.float64(0.27755203344797497), np.float64(0.0036174199220237804), np.float64(1.1927970297975425), np.float64(0.6772780731848318), np.float64(0.3805540539799605), np.float64(-1.4602328786069996), np.float64(0.7271961676320532), np.float64(3.094535945281814), np.float64(-1.293097250197718), np.float64(-3.126465232945648), np.float64(-0.9235287732547993), np.float64(-1.9768118974317397), np.float64(0.35608037343686194), np.float64(-1.1472305276018215), np.float64(-0.3631953858186717), np.float64(-5.169420138122526), np.float64(-0.6243619184550905), np.float64(-0.17633998640163814), np.float64(0.8614265230805471), np.float64(0.03632886675954705), np.float64(-2.2279687874502896), np.float64(0.03625061893280444), np.float64(0.8373878318160657), np.float64(0.21133055809532003), np.float64(3.618448473773205), np.float64(-1.2257417902606185), np.float64(2.471644797476129), np.float64(0.7512827769649498), np.float64(2.988517198673141), np.float64(-2.420837519469351), np.float64(-1.6526743918610634), np.float64(-0.612891560123064), np.float64(0.4313029950227078), np.float64(1.3593969145246383), np.float64(1.3012099009084102), np.float64(-1.7734014016596338), np.float64(1.2763393552026072), np.float64(1.354990490640859), np.float64(1.3583765261198608), np.float64(-0.3705554857596087), np.float64(0.8538008265544693), np.float64(1.8408041048399042), np.float64(3.7850881080398593), np.float64(0.6960459920953084), np.float64(-2.9981507782851513), np.float64(-1.1336623185824843), np.float64(0.11359356342823568), np.float64(4.235836296732936), np.float64(3.508793278430724), np.float64(0.4767971553619098), np.float64(-2.841545882139889), np.float64(0.13483545920780907), np.float64(-5.334613875302785), np.float64(3.1112339084667435), np.float64(-0.10155693271750026), np.float64(0.2490940443265175), np.float64(3.686363143866574), np.float64(0.23797967113269394), np.float64(-1.1969026164046008), np.float64(1.425567031863357), np.float64(-1.046494666721559), np.float64(4.578885461984934), np.float64(1.8014025833617182), np.float64(-1.983947190083722), np.float64(-0.26629268055089383), np.float64(1.9368747488262623), np.float64(-0.5175498930824621), np.float64(-1.03028610857365), np.float64(3.2904454502863922), np.float64(0.611219052805102), np.float64(-0.4393840504911977), np.float64(0.7321872163871559), np.float64(2.3126188921532487), np.float64(1.5745979351790327), np.float64(2.366220827651271), np.float64(1.430006696266791), np.float64(-4.038119088854152), np.float64(0.5326570727361272), np.float64(-1.3908630093964114), np.float64(0.6348500774027452), np.float64(-1.4410608196178205), np.float64(-2.2561647876886237), np.float64(-0.7463141143532372), np.float64(1.7595147711561445), np.float64(-2.2726108447256346), np.float64(1.4721561306091682), np.float64(0.20505243768463183), np.float64(1.2577693013846503), np.float64(-1.1546729267433735), np.float64(3.197743368197257), np.float64(1.0250592779421983), np.float64(-7.024401369700884), np.float64(0.4137479616799899), np.float64(-4.449187706143608), np.float64(0.5327658020419699), np.float64(2.6201927083602836), np.float64(-0.4617415060014694), np.float64(-1.6984578171526432), np.float64(-2.059438116631617), np.float64(0.2054345889057389), np.float64(1.3490803840022476), np.float64(4.068606206219673), np.float64(0.9918069727971983), np.float64(0.5731714822497394), np.float64(-1.9894964206807564), np.float64(1.9311058800102132), np.float64(-0.12796025495875651), np.float64(-2.7663581201877867), np.float64(-0.31460916486847235), np.float64(1.2872288729850219), np.float64(3.076229763532065), np.float64(1.0469066968212823), np.float64(-2.99611514540427), np.float64(1.304201477257103), np.float64(4.0010705039098795), np.float64(1.980943155841964), np.float64(0.18088013024216854), np.float64(3.159522688008517), np.float64(-3.7773889079429743), np.float64(-2.867468477565115), np.float64(1.4729247012333755), np.float64(0.30865221490197914), np.float64(-0.3971946308989961), np.float64(-1.5361974524431727), np.float64(-1.8004477923770035), np.float64(2.7455530256849814), np.float64(-0.5358091243691532), np.float64(-1.1239521059192088), np.float64(-3.2833646834935926), np.float64(-4.577517533452897), np.float64(0.43663280163264295), np.float64(1.5346049952093535), np.float64(-0.19554857467934972), np.float64(-1.5608472911888362), np.float64(-1.6157049467473714), np.float64(-2.379525194389684), np.float64(-0.9206550987592427), np.float64(3.2207120729593046), np.float64(0.9554796041934933), np.float64(-4.782856214569883), np.float64(0.016751534736267188), np.float64(3.4984993293284425), np.float64(0.3785157387261814), np.float64(0.3162354744913161), np.float64(2.388173254476969), np.float64(1.1373986924123982), np.float64(2.8650191452163205), np.float64(3.599141929385184), np.float64(0.34481276376111036), np.float64(0.011035181653869526), np.float64(1.2484995296718149), np.float64(1.7692178508601417), np.float64(-0.19913254268887567), np.float64(-3.499709624366654), np.float64(-0.023254487836717012), np.float64(2.0116342629312176), np.float64(-2.07887602529532), np.float64(-0.8033144450074009), np.float64(-0.0035186684833830584), np.float64(1.9415999065775738), np.float64(0.9766892410867472), np.float64(-0.9447694202313044), np.float64(0.6078800910453983), np.float64(-0.026837017645902413), np.float64(3.4370459816500745), np.float64(0.496788529527305), np.float64(-1.8135077199093095), np.float64(1.4303957483443883), np.float64(1.5343142188297945), np.float64(-1.1524898148128926), np.float64(0.7228763186482), np.float64(1.6446405952816598), np.float64(-2.9702222132894573), np.float64(-1.0107032328290562), np.float64(0.5144195118652016), np.float64(1.9469480265081118), np.float64(5.43863596535866), np.float64(1.9340914486438328), np.float64(3.61779240276993), np.float64(-3.539322694662483), np.float64(0.07364135948098093), np.float64(-0.47356226102942434), np.float64(0.5065529075403286), np.float64(-0.22859525065039135), np.float64(0.3690174233586556), np.float64(-0.8611567918382806), np.float64(0.7021147889872372), np.float64(1.371129457959803), np.float64(-1.4245730932517224), np.float64(6.321374706154108), np.float64(3.08866012550427), np.float64(0.7192135136281698), np.float64(-1.920102836457052), np.float64(4.871026603482883), np.float64(0.11212757576380301), np.float64(-0.09701051722139847), np.float64(1.1983347034274516), np.float64(1.0808230486581247), np.float64(-1.3627733309715055), np.float64(0.9993686315520898), np.float64(0.8904153201115559), np.float64(0.28163277710594814), np.float64(-0.022483649267151948), np.float64(0.47325768248039296), np.float64(2.5335620109005), np.float64(2.4578171138442744), np.float64(-1.4196211104316863), np.float64(0.8884774655300702), np.float64(2.437505957288174), np.float64(-2.1583485058178304), np.float64(0.07865440092249185), np.float64(2.5400582453696163), np.float64(-0.5065100193622425), np.float64(0.35422532615043634), np.float64(1.3651844192185234), np.float64(-3.91396877559356), np.float64(1.2034007202757844), np.float64(5.813373556205789), np.float64(-1.4548848402716323), np.float64(-3.6873789368219017), np.float64(0.290215718578874), np.float64(-2.3492041466408993), np.float64(0.24128962281345764), np.float64(-0.13514627067515728), np.float64(1.2512932581566472), np.float64(1.295441127520472), np.float64(0.16846343163408212), np.float64(-0.2597691541638936), np.float64(0.29315082590494423), np.float64(-1.6190397223570823), np.float64(-0.8710296131468951), np.float64(3.658936136361276), np.float64(-0.6898554877799862), np.float64(0.9042766267114551), np.float64(3.128651339030652), np.float64(2.0765359722023704), np.float64(3.3914726813421914), np.float64(-4.441760889832416), np.float64(0.9384443922306879), np.float64(2.8580589164188943), np.float64(-0.07854788648637395), np.float64(-0.5312981144551326), np.float64(0.672857434913944), np.float64(0.4994075537836879), np.float64(-0.43250877030131774), np.float64(-0.1508228254341873), np.float64(0.4528936272165806), np.float64(2.7835838084369224), np.float64(2.640207722972442), np.float64(7.231404728503744), np.float64(4.4657163378703295), np.float64(-2.883940129794366), np.float64(-0.295688607931068), np.float64(-3.145548856943844), np.float64(-2.368894285725699), np.float64(-0.3550393942134839), np.float64(-2.8401086623825043), np.float64(0.6839179955009077), np.float64(-2.112866111349845), np.float64(-0.8201597971197392), np.float64(-3.060344726924706), np.float64(2.793978746697122), np.float64(2.9901717987393233), np.float64(2.6540721403188945), np.float64(-0.21005305221342746), np.float64(-0.8647628253169968), np.float64(2.448979896330997), np.float64(0.01083300922534753), np.float64(0.24591898973714013), np.float64(-2.021102502247272), np.float64(-0.892330337643992), np.float64(0.38857895282101595), np.float64(1.9090285418590107), np.float64(0.8101291823459168), np.float64(0.5778057647362861), np.float64(2.6431492911147307), np.float64(-0.17145363209789935), np.float64(-0.476343282892826), np.float64(-1.4596951264805813), np.float64(-0.3614819612231348), np.float64(-0.4377981578239824), np.float64(-0.12059340454883404), np.float64(0.9238828303120108), np.float64(0.17301745048741), np.float64(0.8551563568582704), np.float64(-0.7435944676085661), np.float64(-2.821562856027297), np.float64(2.8287370695498844), np.float64(-1.6749041168165983), np.float64(-1.0029614890220389), np.float64(-4.369254580136375), np.float64(-1.101787003771786), np.float64(-1.847057354475014), np.float64(-1.7762666548417878), np.float64(1.0834967820485495), np.float64(1.3915340142465673), np.float64(-1.1069594656447066), np.float64(-0.19423644276980978), np.float64(2.393778348880244), np.float64(-0.3361355964264838), np.float64(3.3458526357599103), np.float64(-0.059461365016083026), np.float64(-0.4680042998879207), np.float64(0.21669126595016786), np.float64(-3.7392865912684154), np.float64(1.0966551557475128), np.float64(0.7222777540687022), np.float64(-3.6901325763847823), np.float64(-0.8908355478273929), np.float64(0.055182513193611574), np.float64(0.3890158692790261), np.float64(2.8076840358539363), np.float64(0.5751888654339932), np.float64(0.10794853087457242), np.float64(1.4905907494707475), np.float64(0.5697041875185205), np.float64(-1.8126814794452497), np.float64(0.8113730979238732), np.float64(0.46005611884431663), np.float64(-0.31150103113826244), np.float64(-1.3367032361888975), np.float64(-0.8658142603661058), np.float64(-0.5180842915433933), np.float64(-1.0281316253823203), np.float64(-3.042193132859441), np.float64(-1.4098373198502343), np.float64(0.5362955535075979), np.float64(6.18965294843699), np.float64(0.4667912949717459), np.float64(7.521494212654342), np.float64(2.016921606647588), np.float64(-2.1420630796169515), np.float64(0.041495818539130036), np.float64(-0.9829685983154958), np.float64(-1.4161797249037082), np.float64(0.5816462081465775), np.float64(0.02286718058464498), np.float64(2.256383215907177), np.float64(1.0345965513238784), np.float64(0.4899366597629179), np.float64(-1.6690650688811484), np.float64(1.282364240607684), np.float64(-2.4539658784632183), np.float64(3.905583865630521), np.float64(-1.8723116551533752), np.float64(0.6083426238946188), np.float64(-1.765777118220381), np.float64(-0.02680223390001496), np.float64(2.3521524288463413), np.float64(5.343301837565763), np.float64(-0.3276819930357239), np.float64(1.0179116397078423), np.float64(0.24932699739165207), np.float64(-0.9110306176642662), np.float64(1.9278179222391019), np.float64(0.08416447383837133), np.float64(1.1378743004707597)]\n"
     ]
    }
   ],
   "source": [
    "print(result_history)\n",
    "print(best_expected_reward)\n",
    "print(random_reward)"
   ]
  },
  {
   "cell_type": "code",
   "execution_count": 19,
   "metadata": {},
   "outputs": [
    {
     "data": {
      "image/png": "[encoded data removed]",
      "text/plain": [
       "<Figure size 600x400 with 1 Axes>"
      ]
     },
     "metadata": {},
     "output_type": "display_data"
    }
   ],
   "source": [
    "# LinUCB Result\n",
    "y1 = np.cumsum(result_history)\n",
    "\n",
    "# Best possible reward\n",
    "# best_mean = np.argmax([bandit.mean for bandit in list_bandit])\n",
    "# y2 = [i*best_mean for i in range(0,current_round-1)]\n",
    "\n",
    "y2 = np.cumsum(best_expected_reward)\n",
    "\n",
    "# Simulated 100% Explore\n",
    "y3 = np.cumsum(random_reward)\n",
    "# y1 = np.cumsum(result_history)\n",
    "\n",
    "# Generate x values\n",
    "x = range(len(y1))\n",
    "\n",
    "# Plot the lines\n",
    "plt.figure(figsize=(6, 4))\n",
    "plt.plot(x, y1, label='Earned Reward', color='blue', alpha=0.7)\n",
    "plt.plot(x, y2, label='Maximum expected reward', color='red', alpha=0.7)\n",
    "plt.plot(x, y3, label='Random Explore', color='grey', alpha=0.7)\n",
    "\n",
    "# Labels and title\n",
    "plt.xlabel('Number of trials')\n",
    "plt.ylabel('Cummulative Rewards')\n",
    "plt.title('LinUCB - Regret Analysis (n_arms = 10)')\n",
    "plt.legend()\n",
    "plt.grid()\n",
    "\n",
    "# Show the plot\n",
    "plt.show()"
   ]
  },
  {
   "cell_type": "markdown",
   "metadata": {},
   "source": [
    "# Hidden code (useless)"
   ]
  },
  {
   "cell_type": "code",
   "execution_count": 20,
   "metadata": {},
   "outputs": [
    {
     "name": "stdout",
     "output_type": "stream",
     "text": [
      "Generated context: [0.0754892  0.99889825 0.54668441 0.29154899 0.09371926]\n",
      "Earned: 2.3685959016558673\n"
     ]
    }
   ],
   "source": [
    "# Pull the arm\n",
    "context, reward = bandit_list[bandit_best_ucb].return_reward(context)\n",
    "print(f'Generated context: {context}')\n",
    "print(f'Earned: {reward}')\n",
    "\n",
    "# Update the UCB Matrix of the pulled arm\n",
    "bandit_list[bandit_best_ucb].update_ucb_matrix(context, reward)"
   ]
  },
  {
   "cell_type": "code",
   "execution_count": 21,
   "metadata": {},
   "outputs": [
    {
     "name": "stdout",
     "output_type": "stream",
     "text": [
      "[[107.94984004  41.1673529  -13.96463636  11.02837832  23.15757583]\n",
      " [ 41.1673529  148.14475917 -31.09285161  10.72890026   8.52134961]\n",
      " [-13.96463636 -31.09285161  96.88714157 -15.56632782 -15.38023318]\n",
      " [ 11.02837832  10.72890026 -15.56632782  82.2099774  -11.71400053]\n",
      " [ 23.15757583   8.52134961 -15.38023318 -11.71400053  82.29107541]]\n",
      "[[ 306.33220339]\n",
      " [ 487.78002163]\n",
      " [-220.00651946]\n",
      " [  55.98030271]\n",
      " [ 181.6470431 ]]\n"
     ]
    }
   ],
   "source": [
    "print(bandit_list[0].feature_covariance_matrix)\n",
    "print(bandit_list[0].weighted_reward_matrix)\n"
   ]
  },
  {
   "cell_type": "code",
   "execution_count": 22,
   "metadata": {},
   "outputs": [
    {
     "name": "stdout",
     "output_type": "stream",
     "text": [
      "context: [0.0754892  0.99889825 0.54668441 0.29154899 0.09371926]\n",
      "resized: [[0.0754892  0.99889825 0.54668441 0.29154899 0.09371926]]\n",
      "============ Bandit-0 ============== number of pull: 98\n",
      "Inverted Feature Cov (Ab): [[ 1.11539483e-02 -2.81636184e-03 -3.78189829e-05 -1.57453635e-03\n",
      "  -3.07840168e-03]\n",
      " [-2.81636184e-03  7.98492722e-03  2.17861912e-03 -2.02731009e-04\n",
      "   3.44030445e-04]\n",
      " [-3.78189829e-05  2.17861912e-03  1.17459388e-02  2.27311042e-03\n",
      "   2.30393775e-03]\n",
      " [-1.57453635e-03 -2.02731009e-04  2.27311042e-03  1.32270100e-02\n",
      "   2.77177271e-03]\n",
      " [-3.07840168e-03  3.44030445e-04  2.30393775e-03  2.77177271e-03\n",
      "   1.38078201e-02]]\n",
      "True weight: [ 1.43045028  2.60392217 -0.98376189  0.16024638  1.3993683 ]\n",
      "Estimated weight: [[ 1.40404336]\n",
      " [ 2.6039784 ]\n",
      " [-0.98732851]\n",
      " [ 0.1626179 ]\n",
      " [ 1.38123065]]\n",
      "Expected Reward: [[2.3442015]]\n",
      "Confidence Bound: [[0.12523615]]\n",
      "UCB Value: [[2.5946738]]\n",
      "\n",
      "============ Bandit-1 ============== number of pull: 34\n",
      "Inverted Feature Cov (Ab): [[ 0.04286481 -0.00440619  0.00019022 -0.0033173  -0.00992692]\n",
      " [-0.00440619  0.05962946  0.00756515 -0.0001512  -0.02466017]\n",
      " [ 0.00019022  0.00756515  0.03188622  0.00107058  0.01110767]\n",
      " [-0.0033173  -0.0001512   0.00107058  0.05593659  0.01149592]\n",
      " [-0.00992692 -0.02466017  0.01110767  0.01149592  0.0395582 ]]\n",
      "True weight: [ 0.41233247 -0.72761444 -0.08312252 -0.18792216 -0.60442777]\n",
      "Estimated weight: [[ 0.36847631]\n",
      " [-0.67642185]\n",
      " [-0.05759681]\n",
      " [-0.14463635]\n",
      " [-0.58525711]]\n",
      "Expected Reward: [[-0.77636635]]\n",
      "Confidence Bound: [[0.28125381]]\n",
      "UCB Value: [[-0.21385873]]\n",
      "\n",
      "============ Bandit-2 ============== number of pull: 54\n",
      "Inverted Feature Cov (Ab): [[ 0.02984138  0.00701065 -0.00113886 -0.00525774 -0.0013959 ]\n",
      " [ 0.00701065  0.03675145 -0.00015204  0.00345186  0.0060657 ]\n",
      " [-0.00113886 -0.00015204  0.01907878 -0.00381946 -0.01019443]\n",
      " [-0.00525774  0.00345186 -0.00381946  0.02609503  0.00456401]\n",
      " [-0.0013959   0.0060657  -0.01019443  0.00456401  0.01767198]]\n",
      "True weight: [ 0.70092044  0.57615702 -1.46167709 -0.11282496 -1.17186877]\n",
      "Estimated weight: [[ 0.65632484]\n",
      " [ 0.58139857]\n",
      " [-1.41379565]\n",
      " [-0.09828426]\n",
      " [-1.17412785]]\n",
      "Expected Reward: [[-0.28128966]]\n",
      "Confidence Bound: [[0.2158597]]\n",
      "UCB Value: [[0.15042974]]\n",
      "\n",
      "============ Bandit-3 ============== number of pull: 18\n",
      "Inverted Feature Cov (Ab): [[ 0.11134588  0.05499315 -0.03011659 -0.02415504 -0.05734016]\n",
      " [ 0.05499315  0.11665355 -0.01147326 -0.00580658  0.03756899]\n",
      " [-0.03011659 -0.01147326  0.10767464  0.0009842   0.03716343]\n",
      " [-0.02415504 -0.00580658  0.0009842   0.07960207  0.0041238 ]\n",
      " [-0.05734016  0.03756899  0.03716343  0.0041238   0.16130798]]\n",
      "True weight: [ 0.44026476  0.99863696 -0.69180498  0.05027853 -0.22972656]\n",
      "Estimated weight: [[ 0.27623181]\n",
      " [ 0.83665767]\n",
      " [-0.58624248]\n",
      " [ 0.03075173]\n",
      " [-0.16667748]]\n",
      "Expected Reward: [[0.52944353]]\n",
      "Confidence Bound: [[0.39597494]]\n",
      "UCB Value: [[1.32139341]]\n",
      "\n",
      "============ Bandit-4 ============== number of pull: 35\n",
      "Inverted Feature Cov (Ab): [[ 0.02241057  0.0123443   0.00051153  0.00530521  0.01411   ]\n",
      " [ 0.0123443   0.06816211 -0.00031611  0.00935583 -0.00141124]\n",
      " [ 0.00051153 -0.00031611  0.05967275  0.00535764  0.01509082]\n",
      " [ 0.00530521  0.00935583  0.00535764  0.03684738 -0.00637848]\n",
      " [ 0.01411    -0.00141124  0.01509082 -0.00637848  0.05118738]]\n",
      "True weight: [ 1.50406836 -0.32131351 -0.60964841 -0.75413468 -0.6347508 ]\n",
      "Estimated weight: [[ 1.46793365]\n",
      " [-0.31519601]\n",
      " [-0.5741437 ]\n",
      " [-0.74486233]\n",
      " [-0.64161841]]\n",
      "Expected Reward: [[-0.79520687]]\n",
      "Confidence Bound: [[0.31565483]]\n",
      "UCB Value: [[-0.16389722]]\n",
      "\n",
      "============ Bandit-5 ============== number of pull: 14\n",
      "Inverted Feature Cov (Ab): [[ 0.06981796 -0.00853201 -0.03162073 -0.00447525  0.00367279]\n",
      " [-0.00853201  0.20183485 -0.01120701  0.02366597  0.05727254]\n",
      " [-0.03162073 -0.01120701  0.05701616  0.00762306 -0.00290588]\n",
      " [-0.00447525  0.02366597  0.00762306  0.04758103  0.00530528]\n",
      " [ 0.00367279  0.05727254 -0.00290588  0.00530528  0.10287846]]\n",
      "True weight: [ 1.40921701  1.06222006 -0.21281898 -0.29610611  0.44226819]\n",
      "Estimated weight: [[ 1.358179  ]\n",
      " [ 0.79707902]\n",
      " [-0.19435549]\n",
      " [-0.32577192]\n",
      " [ 0.34764498]]\n",
      "Expected Reward: [[0.73008014]]\n",
      "Confidence Bound: [[0.48417411]]\n",
      "UCB Value: [[1.69842836]]\n",
      "\n",
      "============ Bandit-6 ============== number of pull: 29\n",
      "Inverted Feature Cov (Ab): [[ 0.03831691 -0.01263181 -0.01482667  0.01269045 -0.00746461]\n",
      " [-0.01263181  0.05556264  0.01333348  0.00310842 -0.00352229]\n",
      " [-0.01482667  0.01333348  0.06897282 -0.00164852  0.04031171]\n",
      " [ 0.01269045  0.00310842 -0.00164852  0.02171416  0.00554939]\n",
      " [-0.00746461 -0.00352229  0.04031171  0.00554939  0.08756068]]\n",
      "True weight: [-0.50440889  0.01465406  0.41330899  0.90052263  1.10406372]\n",
      "Estimated weight: [[-0.48406383]\n",
      " [ 0.00298897]\n",
      " [ 0.30728475]\n",
      " [ 0.89313838]\n",
      " [ 0.96133692]]\n",
      "Expected Reward: [[0.48492125]]\n",
      "Confidence Bound: [[0.30956901]]\n",
      "UCB Value: [[1.10405926]]\n",
      "\n",
      "============ Bandit-7 ============== number of pull: 15\n",
      "Inverted Feature Cov (Ab): [[ 0.10641067 -0.01385149 -0.05494669 -0.03458732 -0.00894412]\n",
      " [-0.01385149  0.08876789  0.01139104  0.02656395  0.0094238 ]\n",
      " [-0.05494669  0.01139104  0.10703197  0.03599772  0.02194278]\n",
      " [-0.03458732  0.02656395  0.03599772  0.05677474  0.01836682]\n",
      " [-0.00894412  0.0094238   0.02194278  0.01836682  0.12760993]]\n",
      "True weight: [ 0.52267242 -0.44487126 -0.91893064  0.29123721  0.0660976 ]\n",
      "Estimated weight: [[ 0.43545285]\n",
      " [-0.33086885]\n",
      " [-0.82913347]\n",
      " [ 0.37167371]\n",
      " [ 0.1243341 ]]\n",
      "Expected Reward: [[-0.63089307]]\n",
      "Confidence Bound: [[0.40403614]]\n",
      "UCB Value: [[0.17717921]]\n",
      "\n",
      "============ Bandit-8 ============== number of pull: 103\n",
      "Inverted Feature Cov (Ab): [[ 0.01282985  0.00568911  0.00304389  0.00120219  0.00182267]\n",
      " [ 0.00568911  0.0184725   0.00092991 -0.00141168 -0.00130839]\n",
      " [ 0.00304389  0.00092991  0.00916781 -0.00099609 -0.00210853]\n",
      " [ 0.00120219 -0.00141168 -0.00099609  0.01319917 -0.00083731]\n",
      " [ 0.00182267 -0.00130839 -0.00210853 -0.00083731  0.00996762]]\n",
      "True weight: [-0.79957437  0.85085559  1.31596358  0.72254577  2.04503544]\n",
      "Estimated weight: [[-0.79592998]\n",
      " [ 0.87090846]\n",
      " [ 1.32455544]\n",
      " [ 0.7102248 ]\n",
      " [ 2.04202603]]\n",
      "Expected Reward: [[1.93242112]]\n",
      "Confidence Bound: [[0.1516949]]\n",
      "UCB Value: [[2.23581091]]\n",
      "\n",
      "============ Bandit-9 ============== number of pull: 101\n",
      "Inverted Feature Cov (Ab): [[ 0.0166392   0.00191626 -0.0014833  -0.00279124 -0.00236791]\n",
      " [ 0.00191626  0.00942133 -0.00381493 -0.00414985  0.00028562]\n",
      " [-0.0014833  -0.00381493  0.01313432  0.00211962  0.00407064]\n",
      " [-0.00279124 -0.00414985  0.00211962  0.01227647  0.00259288]\n",
      " [-0.00236791  0.00028562  0.00407064  0.00259288  0.01288572]]\n",
      "True weight: [ 0.22998884 -2.0999624  -1.40300524 -1.29902208  1.39188175]\n",
      "Estimated weight: [[ 0.26170266]\n",
      " [-2.08587935]\n",
      " [-1.3914574 ]\n",
      " [-1.3023247 ]\n",
      " [ 1.39016997]]\n",
      "Expected Reward: [[-3.07391933]]\n",
      "Confidence Bound: [[0.09639495]]\n",
      "UCB Value: [[-2.88112944]]\n",
      "\n"
     ]
    }
   ],
   "source": [
    "# DEBUGGG\n",
    "print(f'context: {context}')\n",
    "print(f'resized: {context_resized}')\n",
    "\n",
    "for i, bandit in enumerate(bandit_list):\n",
    "    context, context_resized, inverted_feature_cov, estimated_weight, expected_reward, confidence_bound, upper_confidence_bound  = bandit.calculate_ucb_value(context=context)\n",
    "    print(f'============ Bandit-{i} ============== number of pull: {bandit.number_pulled}')\n",
    "    print(f'Inverted Feature Cov (Ab): {inverted_feature_cov}')\n",
    "    print(f'True weight: {bandit.true_weight}')\n",
    "    print(f'Estimated weight: {estimated_weight}')\n",
    "    print(f'Expected Reward: {expected_reward}')\n",
    "    print(f'Confidence Bound: {confidence_bound}')\n",
    "    print(f'UCB Value: {upper_confidence_bound}')\n",
    "    print()\n",
    "    # print(f'feature Cov Matrix: {bandit.feature_covariance_matrix}')\n",
    "    # print(f'weighted_reward: {bandit.weighted_reward_matrix}')\n",
    "    # print(f'estimated weight: {bandit.estimated_weight}')\n",
    "    # print()"
   ]
  },
  {
   "cell_type": "code",
   "execution_count": 23,
   "metadata": {},
   "outputs": [
    {
     "ename": "NameError",
     "evalue": "name 'linUCB' is not defined",
     "output_type": "error",
     "traceback": [
      "\u001b[31m---------------------------------------------------------------------------\u001b[39m",
      "\u001b[31mNameError\u001b[39m                                 Traceback (most recent call last)",
      "\u001b[36mCell\u001b[39m\u001b[36m \u001b[39m\u001b[32mIn[23]\u001b[39m\u001b[32m, line 2\u001b[39m\n\u001b[32m      1\u001b[39m \u001b[38;5;66;03m# DEBUG\u001b[39;00m\n\u001b[32m----> \u001b[39m\u001b[32m2\u001b[39m \u001b[43mlinUCB\u001b[49m.update_ucb_matrix(context=[\u001b[32m0.5\u001b[39m,\u001b[32m1.2\u001b[39m], reward=[\u001b[32m1\u001b[39m])\n",
      "\u001b[31mNameError\u001b[39m: name 'linUCB' is not defined"
     ]
    }
   ],
   "source": [
    "# DEBUG\n",
    "linUCB.update_ucb_matrix(context=[0.5,1.2], reward=[1])"
   ]
  },
  {
   "cell_type": "code",
   "execution_count": null,
   "metadata": {},
   "outputs": [
    {
     "name": "stdout",
     "output_type": "stream",
     "text": [
      "Context: [0.93135123 0.51710428]\n",
      "Reward: -0.17244695800782972\n"
     ]
    }
   ],
   "source": [
    "# Pull an arm\n",
    "context,reward = linUCB.return_reward()\n",
    "print(f'Context: {context}')\n",
    "print(f'Reward: {reward}')"
   ]
  },
  {
   "cell_type": "code",
   "execution_count": null,
   "metadata": {},
   "outputs": [
    {
     "ename": "NameError",
     "evalue": "name 'reward' is not defined",
     "output_type": "error",
     "traceback": [
      "\u001b[31m---------------------------------------------------------------------------\u001b[39m",
      "\u001b[31mNameError\u001b[39m                                 Traceback (most recent call last)",
      "\u001b[36mCell\u001b[39m\u001b[36m \u001b[39m\u001b[32mIn[9]\u001b[39m\u001b[32m, line 2\u001b[39m\n\u001b[32m      1\u001b[39m \u001b[38;5;66;03m# Update feature covariance and weight reward matrix\u001b[39;00m\n\u001b[32m----> \u001b[39m\u001b[32m2\u001b[39m linUCB.update_ucb_matrix(context=context, reward=\u001b[43mreward\u001b[49m)\n",
      "\u001b[31mNameError\u001b[39m: name 'reward' is not defined"
     ]
    }
   ],
   "source": [
    "# Update feature covariance and weight reward matrix\n",
    "linUCB.update_ucb_matrix(context=context, reward=reward)"
   ]
  },
  {
   "cell_type": "code",
   "execution_count": null,
   "metadata": {},
   "outputs": [
    {
     "name": "stdout",
     "output_type": "stream",
     "text": [
      "[1.0, 1.2]\n",
      "[[1.  1.2]]\n",
      "[[ 0.9070632  -0.22304833]\n",
      " [-0.22304833  0.46468401]]\n",
      "[[0.18587361]\n",
      " [0.44609665]]\n",
      "[[0.72118959]]\n",
      "[[1.02024124]]\n",
      "[[2.76167208]]\n"
     ]
    }
   ],
   "source": [
    "# DEBUG\n",
    "context, context_resized, inverted_feature_cov, estimated_weight, expected_reward, confidence_bound, upper_confidence_bound  = linUCB.calculate_ucb_value(context=[1.0, 1.2])\n",
    "print(context)\n",
    "print(context_resized)\n",
    "print(inverted_feature_cov)\n",
    "print(estimated_weight)\n",
    "print(expected_reward)\n",
    "print(confidence_bound)\n",
    "print(upper_confidence_bound)\n"
   ]
  },
  {
   "cell_type": "code",
   "execution_count": null,
   "metadata": {},
   "outputs": [
    {
     "name": "stdout",
     "output_type": "stream",
     "text": [
      "[[1.  1.2]]\n",
      "[[1. ]\n",
      " [1.2]]\n"
     ]
    },
    {
     "data": {
      "text/plain": [
       "array([[1.  , 1.2 ],\n",
       "       [1.2 , 1.44]])"
      ]
     },
     "execution_count": 11,
     "metadata": {},
     "output_type": "execute_result"
    }
   ],
   "source": [
    "# DEBUG\n",
    "print(np.array([context]))\n",
    "print(np.array([context]).transpose())\n",
    "\n",
    "np.matmul(np.array([context]).transpose(), np.array([context]))\n",
    "# print(np.array(np.newaxis, context).transpose())"
   ]
  },
  {
   "cell_type": "code",
   "execution_count": null,
   "metadata": {},
   "outputs": [],
   "source": [
    "linUCB.feature_covariance_matrix = "
   ]
  },
  {
   "cell_type": "markdown",
   "metadata": {},
   "source": [
    "## Update Matrices"
   ]
  },
  {
   "cell_type": "code",
   "execution_count": null,
   "metadata": {},
   "outputs": [],
   "source": [
    "# For MAB it's\n",
    "action_list = [] # Filled with the estimated reward"
   ]
  },
  {
   "cell_type": "code",
   "execution_count": null,
   "metadata": {},
   "outputs": [],
   "source": [
    "# For Contextual Bandit we're gonna have\n",
    "# NxM matrix\n",
    "# N = Number of context or the feature\n",
    "# M = Number of actions can be taken (bandit)\n",
    "action = np.array([[], []], np.int32)"
   ]
  },
  {
   "cell_type": "code",
   "execution_count": null,
   "metadata": {},
   "outputs": [],
   "source": [
    "sample_data = {'name': ['product A', 'product B', 'product C', 'product D'],\n",
    "                'gender': pd.Series(['Male', 'Female', 'Male'], index=[0, 2, 3]),\n",
    "                'location': pd.Series(['South', 'North', 'West', 'East'], index=[0, 1, 2, 3]),\n",
    "               }\n",
    "\n",
    "data = pd.DataFrame(data=sample_data, index=[0, 1, 2, 3])\n",
    "\n",
    "# From\n",
    "#         name\t gender\t location\n",
    "# 0\t product A     Male\t    South\n",
    "# 1  product B\t    NaN\t    North\n",
    "# 2\t product C\t Female\t     West\n",
    "# 3\t product D\t   Male\t     East\n",
    "\n",
    "# To\n",
    "#    Gender_Male  Gender_Female  Location_South  Location_North  Location_West  Location_East\n",
    "# 0            1              0               1               0              0              0\n",
    "# 1            0              0               0               1              0              0\n",
    "# 2            0              1               0               0              1              0\n",
    "# 3            1              0               0               0              0              1"
   ]
  },
  {
   "cell_type": "code",
   "execution_count": null,
   "metadata": {},
   "outputs": [
    {
     "data": {
      "text/html": [
       "<div>\n",
       "<style scoped>\n",
       "    .dataframe tbody tr th:only-of-type {\n",
       "        vertical-align: middle;\n",
       "    }\n",
       "\n",
       "    .dataframe tbody tr th {\n",
       "        vertical-align: top;\n",
       "    }\n",
       "\n",
       "    .dataframe thead th {\n",
       "        text-align: right;\n",
       "    }\n",
       "</style>\n",
       "<table border=\"1\" class=\"dataframe\">\n",
       "  <thead>\n",
       "    <tr style=\"text-align: right;\">\n",
       "      <th></th>\n",
       "      <th>name</th>\n",
       "      <th>gender</th>\n",
       "      <th>location</th>\n",
       "    </tr>\n",
       "  </thead>\n",
       "  <tbody>\n",
       "    <tr>\n",
       "      <th>0</th>\n",
       "      <td>product A</td>\n",
       "      <td>Male</td>\n",
       "      <td>South</td>\n",
       "    </tr>\n",
       "    <tr>\n",
       "      <th>1</th>\n",
       "      <td>product B</td>\n",
       "      <td>NaN</td>\n",
       "      <td>North</td>\n",
       "    </tr>\n",
       "    <tr>\n",
       "      <th>2</th>\n",
       "      <td>product C</td>\n",
       "      <td>Female</td>\n",
       "      <td>West</td>\n",
       "    </tr>\n",
       "    <tr>\n",
       "      <th>3</th>\n",
       "      <td>product D</td>\n",
       "      <td>Male</td>\n",
       "      <td>East</td>\n",
       "    </tr>\n",
       "  </tbody>\n",
       "</table>\n",
       "</div>"
      ],
      "text/plain": [
       "        name  gender location\n",
       "0  product A    Male    South\n",
       "1  product B     NaN    North\n",
       "2  product C  Female     West\n",
       "3  product D    Male     East"
      ]
     },
     "execution_count": 90,
     "metadata": {},
     "output_type": "execute_result"
    }
   ],
   "source": [
    "data"
   ]
  },
  {
   "cell_type": "code",
   "execution_count": null,
   "metadata": {},
   "outputs": [],
   "source": [
    "# One hot encode the data\n",
    "\n",
    "encoder = OneHotEncoder(sparse_output=False, handle_unknown='ignore')\n",
    "\n",
    "encoded_data = encoder.fit_transform(data[['gender', 'location']])\n",
    "encoded_columns = encoder.get_feature_names_out(['gender', 'location'])\n",
    "\n",
    "one_hot_data = pd.DataFrame(encoded_data, columns=encoded_columns)"
   ]
  },
  {
   "cell_type": "code",
   "execution_count": null,
   "metadata": {},
   "outputs": [
    {
     "data": {
      "text/html": [
       "<div>\n",
       "<style scoped>\n",
       "    .dataframe tbody tr th:only-of-type {\n",
       "        vertical-align: middle;\n",
       "    }\n",
       "\n",
       "    .dataframe tbody tr th {\n",
       "        vertical-align: top;\n",
       "    }\n",
       "\n",
       "    .dataframe thead th {\n",
       "        text-align: right;\n",
       "    }\n",
       "</style>\n",
       "<table border=\"1\" class=\"dataframe\">\n",
       "  <thead>\n",
       "    <tr style=\"text-align: right;\">\n",
       "      <th></th>\n",
       "      <th>gender_Female</th>\n",
       "      <th>gender_Male</th>\n",
       "      <th>gender_nan</th>\n",
       "      <th>location_East</th>\n",
       "      <th>location_North</th>\n",
       "      <th>location_South</th>\n",
       "      <th>location_West</th>\n",
       "    </tr>\n",
       "  </thead>\n",
       "  <tbody>\n",
       "    <tr>\n",
       "      <th>0</th>\n",
       "      <td>0.0</td>\n",
       "      <td>1.0</td>\n",
       "      <td>0.0</td>\n",
       "      <td>0.0</td>\n",
       "      <td>0.0</td>\n",
       "      <td>1.0</td>\n",
       "      <td>0.0</td>\n",
       "    </tr>\n",
       "    <tr>\n",
       "      <th>1</th>\n",
       "      <td>0.0</td>\n",
       "      <td>0.0</td>\n",
       "      <td>1.0</td>\n",
       "      <td>0.0</td>\n",
       "      <td>1.0</td>\n",
       "      <td>0.0</td>\n",
       "      <td>0.0</td>\n",
       "    </tr>\n",
       "    <tr>\n",
       "      <th>2</th>\n",
       "      <td>1.0</td>\n",
       "      <td>0.0</td>\n",
       "      <td>0.0</td>\n",
       "      <td>0.0</td>\n",
       "      <td>0.0</td>\n",
       "      <td>0.0</td>\n",
       "      <td>1.0</td>\n",
       "    </tr>\n",
       "    <tr>\n",
       "      <th>3</th>\n",
       "      <td>0.0</td>\n",
       "      <td>1.0</td>\n",
       "      <td>0.0</td>\n",
       "      <td>1.0</td>\n",
       "      <td>0.0</td>\n",
       "      <td>0.0</td>\n",
       "      <td>0.0</td>\n",
       "    </tr>\n",
       "  </tbody>\n",
       "</table>\n",
       "</div>"
      ],
      "text/plain": [
       "   gender_Female  gender_Male  gender_nan  location_East  location_North  \\\n",
       "0            0.0          1.0         0.0            0.0             0.0   \n",
       "1            0.0          0.0         1.0            0.0             1.0   \n",
       "2            1.0          0.0         0.0            0.0             0.0   \n",
       "3            0.0          1.0         0.0            1.0             0.0   \n",
       "\n",
       "   location_South  location_West  \n",
       "0             1.0            0.0  \n",
       "1             0.0            0.0  \n",
       "2             0.0            1.0  \n",
       "3             0.0            0.0  "
      ]
     },
     "execution_count": 83,
     "metadata": {},
     "output_type": "execute_result"
    }
   ],
   "source": [
    "data"
   ]
  },
  {
   "cell_type": "code",
   "execution_count": null,
   "metadata": {},
   "outputs": [
    {
     "data": {
      "text/plain": [
       "array([[1., 0., 0., 0., 0., 1., 0., 0., 0., 1., 0.],\n",
       "       [0., 1., 0., 0., 0., 0., 1., 0., 1., 0., 0.],\n",
       "       [0., 0., 1., 0., 1., 0., 0., 0., 0., 0., 1.],\n",
       "       [0., 0., 0., 1., 0., 1., 0., 1., 0., 0., 0.]])"
      ]
     },
     "execution_count": 39,
     "metadata": {},
     "output_type": "execute_result"
    }
   ],
   "source": [
    "class contextual_bandits:\n",
    "    def __init__(self, states, actions):"
   ]
  },
  {
   "cell_type": "code",
   "execution_count": null,
   "metadata": {},
   "outputs": [
    {
     "ename": "TypeError",
     "evalue": "object of type 'int' has no len()",
     "output_type": "error",
     "traceback": [
      "\u001b[31m---------------------------------------------------------------------------\u001b[39m",
      "\u001b[31mTypeError\u001b[39m                                 Traceback (most recent call last)",
      "\u001b[36mCell\u001b[39m\u001b[36m \u001b[39m\u001b[32mIn[30]\u001b[39m\u001b[32m, line 7\u001b[39m\n\u001b[32m      4\u001b[39m         ohe[index][states[index]] = \u001b[32m1\u001b[39m\n\u001b[32m      5\u001b[39m     \u001b[38;5;28;01mreturn\u001b[39;00m ohe\n\u001b[32m----> \u001b[39m\u001b[32m7\u001b[39m \u001b[43mohe_generator\u001b[49m\u001b[43m(\u001b[49m\u001b[32;43m5\u001b[39;49m\u001b[43m,\u001b[49m\u001b[43m \u001b[49m\u001b[32;43m10\u001b[39;49m\u001b[43m)\u001b[49m\n",
      "\u001b[36mCell\u001b[39m\u001b[36m \u001b[39m\u001b[32mIn[30]\u001b[39m\u001b[32m, line 2\u001b[39m, in \u001b[36mohe_generator\u001b[39m\u001b[34m(states, total_states)\u001b[39m\n\u001b[32m      1\u001b[39m \u001b[38;5;28;01mdef\u001b[39;00m\u001b[38;5;250m \u001b[39m\u001b[34mohe_generator\u001b[39m(states,total_states):\n\u001b[32m----> \u001b[39m\u001b[32m2\u001b[39m     ohe = np.zeros((\u001b[38;5;28;43mlen\u001b[39;49m\u001b[43m(\u001b[49m\u001b[43mstates\u001b[49m\u001b[43m)\u001b[49m,total_states))\n\u001b[32m      3\u001b[39m     \u001b[38;5;28;01mfor\u001b[39;00m index, array \u001b[38;5;129;01min\u001b[39;00m \u001b[38;5;28menumerate\u001b[39m(ohe):\n\u001b[32m      4\u001b[39m         ohe[index][states[index]] = \u001b[32m1\u001b[39m\n",
      "\u001b[31mTypeError\u001b[39m: object of type 'int' has no len()"
     ]
    }
   ],
   "source": [
    "data = [['tom', 10], ['nick', 15], ['juli', 14]]\n",
    "\n",
    "df = pd.DataFrame(data, columns=[])"
   ]
  },
  {
   "cell_type": "code",
   "execution_count": null,
   "metadata": {},
   "outputs": [
    {
     "name": "stdout",
     "output_type": "stream",
     "text": [
      "(4, 3)\n",
      "Index(['name', 'gender', 'location'], dtype='object')\n",
      "['Male' nan 'Female']\n",
      "02\n",
      "12\n",
      "22\n",
      "32\n"
     ]
    }
   ],
   "source": [
    "print(data.shape)\n",
    "print(data.columns)\n",
    "print(data[\"gender\"].unique())\n",
    "\n",
    "# Loop through the number of entry in the data\n",
    "for i in range(data.shape[0]):\n",
    "    print(f\"{i}2\")\n",
    "\n",
    "def one_hot_encode():\n",
    "    return"
   ]
  },
  {
   "cell_type": "code",
   "execution_count": null,
   "metadata": {},
   "outputs": [],
   "source": []
  },
  {
   "cell_type": "code",
   "execution_count": null,
   "metadata": {},
   "outputs": [],
   "source": [
    "A_cov = np.array([[0.0, 0.0],[0.0, 0.0]])\n",
    "B_cov = np.array([[0.0, 0.0], [0.0, 0.0]])"
   ]
  },
  {
   "cell_type": "code",
   "execution_count": null,
   "metadata": {},
   "outputs": [],
   "source": [
    "# context = [0.5, 1.2]\n",
    "# context = np.array([[0.5, 1.2]])\n",
    "context = np.random.randn(2)\n",
    "\n",
    "A_cov += np.matmul(context.transpose(), context)\n",
    "B_cov += np.outer(context, context)\n"
   ]
  },
  {
   "cell_type": "code",
   "execution_count": null,
   "metadata": {},
   "outputs": [
    {
     "name": "stdout",
     "output_type": "stream",
     "text": [
      "[[0.69287448 0.69287448]\n",
      " [0.69287448 0.69287448]]\n",
      "[[0.06309534 0.19933923]\n",
      " [0.19933923 0.62977914]]\n"
     ]
    }
   ],
   "source": [
    "\n",
    "print(A_cov)\n",
    "print(B_cov)"
   ]
  },
  {
   "cell_type": "code",
   "execution_count": null,
   "metadata": {},
   "outputs": [],
   "source": []
  }
 ],
 "metadata": {
  "kernelspec": {
   "display_name": "venv",
   "language": "python",
   "name": "python3"
  },
  "language_info": {
   "codemirror_mode": {
    "name": "ipython",
    "version": 3
   },
   "file_extension": ".py",
   "mimetype": "text/x-python",
   "name": "python",
   "nbconvert_exporter": "python",
   "pygments_lexer": "ipython3",
   "version": "3.13.2"
  }
 },
 "nbformat": 4,
 "nbformat_minor": 2
}
