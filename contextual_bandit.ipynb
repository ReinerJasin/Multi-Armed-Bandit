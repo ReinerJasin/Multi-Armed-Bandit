{
 "cells": [
  {
   "cell_type": "markdown",
   "metadata": {},
   "source": [
    "source code for reference:\n",
    "https://medium.com/data-science-in-your-pocket/contextual-bandits-in-reinforcement-learning-explained-with-example-and-codes-3c707142437b"
   ]
  },
  {
   "cell_type": "code",
   "execution_count": null,
   "metadata": {},
   "outputs": [],
   "source": []
  },
  {
   "cell_type": "markdown",
   "metadata": {},
   "source": [
    "https://medium.com/data-science/an-overview-of-contextual-bandits-53ac3aa45034"
   ]
  },
  {
   "cell_type": "code",
   "execution_count": null,
   "metadata": {},
   "outputs": [],
   "source": [
    "import numpy as np\n",
    "import pandas as pd\n",
    "import tensorflow as tf\n",
    "from tensorflow.keras.layers import *\n",
    "from tensorflow.keras.models import Model\n",
    "from tensorflow.keras.optimizers import Adam\n",
    "import copy \n",
    "from keras.callbacks import EarlyStopping\n",
    "\n",
    "tf.config.run_functions_eagerly(True)"
   ]
  },
  {
   "cell_type": "code",
   "execution_count": null,
   "metadata": {},
   "outputs": [
    {
     "ename": "TypeError",
     "evalue": "can't multiply sequence by non-int of type 'float'",
     "output_type": "error",
     "traceback": [
      "\u001b[31m---------------------------------------------------------------------------\u001b[39m",
      "\u001b[31mTypeError\u001b[39m                                 Traceback (most recent call last)",
      "\u001b[36mCell\u001b[39m\u001b[36m \u001b[39m\u001b[32mIn[5]\u001b[39m\u001b[32m, line 38\u001b[39m\n\u001b[32m     36\u001b[39m \u001b[38;5;28;01mfor\u001b[39;00m i \u001b[38;5;129;01min\u001b[39;00m \u001b[38;5;28mrange\u001b[39m(\u001b[38;5;28mlen\u001b[39m(X_train)):\n\u001b[32m     37\u001b[39m     user_context = X_train[i]\n\u001b[32m---> \u001b[39m\u001b[32m38\u001b[39m     chosen_arm = \u001b[43mbandit\u001b[49m\u001b[43m.\u001b[49m\u001b[43mselect_arm\u001b[49m\u001b[43m(\u001b[49m\u001b[43muser_context\u001b[49m\u001b[43m)\u001b[49m\n\u001b[32m     39\u001b[39m     reward = y_train.iloc[i] \u001b[38;5;28;01mif\u001b[39;00m chosen_arm == actions_train.iloc[i] \u001b[38;5;28;01melse\u001b[39;00m \u001b[32m0\u001b[39m\n\u001b[32m     40\u001b[39m     bandit.update(chosen_arm, user_context, reward)\n",
      "\u001b[36mCell\u001b[39m\u001b[36m \u001b[39m\u001b[32mIn[5]\u001b[39m\u001b[32m, line 17\u001b[39m, in \u001b[36mLinUCB.select_arm\u001b[39m\u001b[34m(self, context)\u001b[39m\n\u001b[32m     14\u001b[39m theta = np.dot(A_inv, \u001b[38;5;28mself\u001b[39m.b[arm])\n\u001b[32m     16\u001b[39m \u001b[38;5;66;03m# Ensure proper scalar extraction\u001b[39;00m\n\u001b[32m---> \u001b[39m\u001b[32m17\u001b[39m context_dot_theta = \u001b[43mnp\u001b[49m\u001b[43m.\u001b[49m\u001b[43mdot\u001b[49m\u001b[43m(\u001b[49m\u001b[43mtheta\u001b[49m\u001b[43m.\u001b[49m\u001b[43mT\u001b[49m\u001b[43m,\u001b[49m\u001b[43m \u001b[49m\u001b[43mcontext\u001b[49m\u001b[43m)\u001b[49m  \u001b[38;5;66;03m# This should be a scalar\u001b[39;00m\n\u001b[32m     18\u001b[39m context_dot_A_inv_context = np.dot(context.T, np.dot(A_inv, context))  \u001b[38;5;66;03m# This should also be a scalar\u001b[39;00m\n\u001b[32m     20\u001b[39m p[arm] = context_dot_theta.item() + \u001b[38;5;28mself\u001b[39m.alpha * np.sqrt(context_dot_A_inv_context.item())\n",
      "\u001b[31mTypeError\u001b[39m: can't multiply sequence by non-int of type 'float'"
     ]
    }
   ],
   "source": [
    "#states = random states generated for training, \n",
    "#total_states = possible states count\n",
    "def ohe_generator(states,total_states):\n",
    "    ohe = np.zeros((len(states),total_states))\n",
    "    for index, array in enumerate(ohe):\n",
    "        ohe[index][states[index]] = 1\n",
    "    return ohe"
   ]
  },
  {
   "cell_type": "code",
   "execution_count": null,
   "metadata": {},
   "outputs": [],
   "source": [
    "class contextual_bandits:\n",
    "    def __init__(self,states,actions):\n",
    "        self.states = states\n",
    "        self.actions = actions\n",
    "    \n",
    "    def reward(self,state,action):\n",
    "        if (state*action)%2==1:\n",
    "            return 0.5 + 0.05*((state+action)%10)+np.random.rand()*0.1\n",
    "        else:\n",
    "            return 0.9 - 0.1*((state+action)%10)+np.random.rand()*0.1\n",
    "    \n",
    "    def network(self):\n",
    "        input_ = Input(shape=(self.states))\n",
    "        dense1 = Dense(128,activation='relu')(input_)\n",
    "        dropout1 = Dropout(0.1)(dense1)\n",
    "        dense2 = Dense(64,activation='relu')(dropout1)\n",
    "        dropout2 = Dropout(0.1)(dense2)\n",
    "        dense3 = Dense(self.actions,activation='sigmoid')(dropout2)\n",
    "        model = Model(input_,dense3)\n",
    "        \n",
    "        rms = Adam(learning_rate=0.0001, beta_1=0.9, beta_2=0.999, epsilon=None, decay=0.0, amsgrad=False)\n",
    "        model.compile(loss=\"mean_absolute_error\", optimizer=rms,metrics=\"mean_absolute_error\")\n",
    "        return model"
   ]
  },
  {
   "cell_type": "code",
   "execution_count": null,
   "metadata": {},
   "outputs": [],
   "source": [
    "batch_size = 128\n",
    "states = 100\n",
    "actions = 4\n",
    "\n",
    "def training():\n",
    "    cb = contextual_bandits(states,actions)\n",
    "    model = cb.network()\n",
    "    sample_states = np.random.choice(range(states),size=batch_size*100)\n",
    "    state_ohe = ohe_generator(sample_states, states)\n",
    "    actual_reward = [[cb.reward(x,y) for y in range(cb.actions)] for x in sample_states]\n",
    "    actual_reward_matrix = np.zeros((len(state_ohe),cb.actions))\n",
    "    for index,x in enumerate(actual_reward):\n",
    "                    actual_reward_matrix[index]=np.array(x)\n",
    "    model.fit(state_ohe,actual_reward_matrix,batch_size=batch_size,epochs=20) \n",
    "    return model"
   ]
  },
  {
   "cell_type": "code",
   "execution_count": null,
   "metadata": {},
   "outputs": [],
   "source": [
    "state_ohe = ohe_generator(np.array([x for x in range(100)]), states)\n",
    "estimated_reward = model.predict(state_ohe)\n",
    "\n",
    "print({x:np.argmax(y) for x,y in enumerate(estimated_reward)})"
   ]
  },
  {
   "cell_type": "code",
   "execution_count": null,
   "metadata": {},
   "outputs": [],
   "source": [
    "cb = contextual_bandits(100,4)\n",
    "print('\\nreward for state {}\\n'.format(0))\n",
    "for x in range(4):\n",
    "    print(cb.reward(0,x))\n",
    "    \n",
    "print('\\nreward for state {}\\n'.format(93))\n",
    "for x in range(4):\n",
    "    print(cb.reward(93,x))"
   ]
  },
  {
   "cell_type": "markdown",
   "metadata": {},
   "source": [
    "# Our own code"
   ]
  },
  {
   "cell_type": "code",
   "execution_count": 72,
   "metadata": {},
   "outputs": [],
   "source": [
    "import numpy as np\n",
    "import pandas as pd\n",
    "\n",
    "from sklearn.preprocessing import OneHotEncoder"
   ]
  },
  {
   "cell_type": "code",
   "execution_count": 73,
   "metadata": {},
   "outputs": [],
   "source": [
    "# For MAB it's\n",
    "action_list = [] # Filled with the estimated reward"
   ]
  },
  {
   "cell_type": "code",
   "execution_count": 74,
   "metadata": {},
   "outputs": [],
   "source": [
    "# For Contextual Bandit we're gonna have\n",
    "# NxM matrix\n",
    "# N = Number of context or the feature\n",
    "# M = Number of actions can be taken (bandit)\n",
    "action = np.array([[], []], np.int32)"
   ]
  },
  {
   "cell_type": "code",
   "execution_count": 89,
   "metadata": {},
   "outputs": [],
   "source": [
    "sample_data = {'name': ['product A', 'product B', 'product C', 'product D'],\n",
    "                'gender': pd.Series(['Male', 'Female', 'Male'], index=[0, 2, 3]),\n",
    "                'location': pd.Series(['South', 'North', 'West', 'East'], index=[0, 1, 2, 3]),\n",
    "               }\n",
    "\n",
    "data = pd.DataFrame(data=sample_data, index=[0, 1, 2, 3])\n",
    "\n",
    "# From\n",
    "#         name\t gender\t location\n",
    "# 0\t product A     Male\t    South\n",
    "# 1  product B\t    NaN\t    North\n",
    "# 2\t product C\t Female\t     West\n",
    "# 3\t product D\t   Male\t     East\n",
    "\n",
    "# To\n",
    "#    Gender_Male  Gender_Female  Location_South  Location_North  Location_West  Location_East\n",
    "# 0            1              0               1               0              0              0\n",
    "# 1            0              0               0               1              0              0\n",
    "# 2            0              1               0               0              1              0\n",
    "# 3            1              0               0               0              0              1"
   ]
  },
  {
   "cell_type": "code",
   "execution_count": 90,
   "metadata": {},
   "outputs": [
    {
     "data": {
      "text/html": [
       "<div>\n",
       "<style scoped>\n",
       "    .dataframe tbody tr th:only-of-type {\n",
       "        vertical-align: middle;\n",
       "    }\n",
       "\n",
       "    .dataframe tbody tr th {\n",
       "        vertical-align: top;\n",
       "    }\n",
       "\n",
       "    .dataframe thead th {\n",
       "        text-align: right;\n",
       "    }\n",
       "</style>\n",
       "<table border=\"1\" class=\"dataframe\">\n",
       "  <thead>\n",
       "    <tr style=\"text-align: right;\">\n",
       "      <th></th>\n",
       "      <th>name</th>\n",
       "      <th>gender</th>\n",
       "      <th>location</th>\n",
       "    </tr>\n",
       "  </thead>\n",
       "  <tbody>\n",
       "    <tr>\n",
       "      <th>0</th>\n",
       "      <td>product A</td>\n",
       "      <td>Male</td>\n",
       "      <td>South</td>\n",
       "    </tr>\n",
       "    <tr>\n",
       "      <th>1</th>\n",
       "      <td>product B</td>\n",
       "      <td>NaN</td>\n",
       "      <td>North</td>\n",
       "    </tr>\n",
       "    <tr>\n",
       "      <th>2</th>\n",
       "      <td>product C</td>\n",
       "      <td>Female</td>\n",
       "      <td>West</td>\n",
       "    </tr>\n",
       "    <tr>\n",
       "      <th>3</th>\n",
       "      <td>product D</td>\n",
       "      <td>Male</td>\n",
       "      <td>East</td>\n",
       "    </tr>\n",
       "  </tbody>\n",
       "</table>\n",
       "</div>"
      ],
      "text/plain": [
       "        name  gender location\n",
       "0  product A    Male    South\n",
       "1  product B     NaN    North\n",
       "2  product C  Female     West\n",
       "3  product D    Male     East"
      ]
     },
     "execution_count": 90,
     "metadata": {},
     "output_type": "execute_result"
    }
   ],
   "source": [
    "data"
   ]
  },
  {
   "cell_type": "code",
   "execution_count": 91,
   "metadata": {},
   "outputs": [],
   "source": [
    "# One hot encode the data\n",
    "\n",
    "encoder = OneHotEncoder(sparse_output=False, handle_unknown='ignore')\n",
    "\n",
    "encoded_data = encoder.fit_transform(data[['gender', 'location']])\n",
    "encoded_columns = encoder.get_feature_names_out(['gender', 'location'])\n",
    "\n",
    "one_hot_data = pd.DataFrame(encoded_data, columns=encoded_columns)"
   ]
  },
  {
   "cell_type": "code",
   "execution_count": 83,
   "metadata": {},
   "outputs": [
    {
     "data": {
      "text/html": [
       "<div>\n",
       "<style scoped>\n",
       "    .dataframe tbody tr th:only-of-type {\n",
       "        vertical-align: middle;\n",
       "    }\n",
       "\n",
       "    .dataframe tbody tr th {\n",
       "        vertical-align: top;\n",
       "    }\n",
       "\n",
       "    .dataframe thead th {\n",
       "        text-align: right;\n",
       "    }\n",
       "</style>\n",
       "<table border=\"1\" class=\"dataframe\">\n",
       "  <thead>\n",
       "    <tr style=\"text-align: right;\">\n",
       "      <th></th>\n",
       "      <th>gender_Female</th>\n",
       "      <th>gender_Male</th>\n",
       "      <th>gender_nan</th>\n",
       "      <th>location_East</th>\n",
       "      <th>location_North</th>\n",
       "      <th>location_South</th>\n",
       "      <th>location_West</th>\n",
       "    </tr>\n",
       "  </thead>\n",
       "  <tbody>\n",
       "    <tr>\n",
       "      <th>0</th>\n",
       "      <td>0.0</td>\n",
       "      <td>1.0</td>\n",
       "      <td>0.0</td>\n",
       "      <td>0.0</td>\n",
       "      <td>0.0</td>\n",
       "      <td>1.0</td>\n",
       "      <td>0.0</td>\n",
       "    </tr>\n",
       "    <tr>\n",
       "      <th>1</th>\n",
       "      <td>0.0</td>\n",
       "      <td>0.0</td>\n",
       "      <td>1.0</td>\n",
       "      <td>0.0</td>\n",
       "      <td>1.0</td>\n",
       "      <td>0.0</td>\n",
       "      <td>0.0</td>\n",
       "    </tr>\n",
       "    <tr>\n",
       "      <th>2</th>\n",
       "      <td>1.0</td>\n",
       "      <td>0.0</td>\n",
       "      <td>0.0</td>\n",
       "      <td>0.0</td>\n",
       "      <td>0.0</td>\n",
       "      <td>0.0</td>\n",
       "      <td>1.0</td>\n",
       "    </tr>\n",
       "    <tr>\n",
       "      <th>3</th>\n",
       "      <td>0.0</td>\n",
       "      <td>1.0</td>\n",
       "      <td>0.0</td>\n",
       "      <td>1.0</td>\n",
       "      <td>0.0</td>\n",
       "      <td>0.0</td>\n",
       "      <td>0.0</td>\n",
       "    </tr>\n",
       "  </tbody>\n",
       "</table>\n",
       "</div>"
      ],
      "text/plain": [
       "   gender_Female  gender_Male  gender_nan  location_East  location_North  \\\n",
       "0            0.0          1.0         0.0            0.0             0.0   \n",
       "1            0.0          0.0         1.0            0.0             1.0   \n",
       "2            1.0          0.0         0.0            0.0             0.0   \n",
       "3            0.0          1.0         0.0            1.0             0.0   \n",
       "\n",
       "   location_South  location_West  \n",
       "0             1.0            0.0  \n",
       "1             0.0            0.0  \n",
       "2             0.0            1.0  \n",
       "3             0.0            0.0  "
      ]
     },
     "execution_count": 83,
     "metadata": {},
     "output_type": "execute_result"
    }
   ],
   "source": [
    "data"
   ]
  },
  {
   "cell_type": "code",
   "execution_count": null,
   "metadata": {},
   "outputs": [
    {
     "data": {
      "text/plain": [
       "array([[1., 0., 0., 0., 0., 1., 0., 0., 0., 1., 0.],\n",
       "       [0., 1., 0., 0., 0., 0., 1., 0., 1., 0., 0.],\n",
       "       [0., 0., 1., 0., 1., 0., 0., 0., 0., 0., 1.],\n",
       "       [0., 0., 0., 1., 0., 1., 0., 1., 0., 0., 0.]])"
      ]
     },
     "execution_count": 39,
     "metadata": {},
     "output_type": "execute_result"
    }
   ],
   "source": [
    "class contextual_bandits:\n",
    "    def __init__(self, states, actions):"
   ]
  },
  {
   "cell_type": "code",
   "execution_count": null,
   "metadata": {},
   "outputs": [
    {
     "ename": "TypeError",
     "evalue": "object of type 'int' has no len()",
     "output_type": "error",
     "traceback": [
      "\u001b[31m---------------------------------------------------------------------------\u001b[39m",
      "\u001b[31mTypeError\u001b[39m                                 Traceback (most recent call last)",
      "\u001b[36mCell\u001b[39m\u001b[36m \u001b[39m\u001b[32mIn[30]\u001b[39m\u001b[32m, line 7\u001b[39m\n\u001b[32m      4\u001b[39m         ohe[index][states[index]] = \u001b[32m1\u001b[39m\n\u001b[32m      5\u001b[39m     \u001b[38;5;28;01mreturn\u001b[39;00m ohe\n\u001b[32m----> \u001b[39m\u001b[32m7\u001b[39m \u001b[43mohe_generator\u001b[49m\u001b[43m(\u001b[49m\u001b[32;43m5\u001b[39;49m\u001b[43m,\u001b[49m\u001b[43m \u001b[49m\u001b[32;43m10\u001b[39;49m\u001b[43m)\u001b[49m\n",
      "\u001b[36mCell\u001b[39m\u001b[36m \u001b[39m\u001b[32mIn[30]\u001b[39m\u001b[32m, line 2\u001b[39m, in \u001b[36mohe_generator\u001b[39m\u001b[34m(states, total_states)\u001b[39m\n\u001b[32m      1\u001b[39m \u001b[38;5;28;01mdef\u001b[39;00m\u001b[38;5;250m \u001b[39m\u001b[34mohe_generator\u001b[39m(states,total_states):\n\u001b[32m----> \u001b[39m\u001b[32m2\u001b[39m     ohe = np.zeros((\u001b[38;5;28;43mlen\u001b[39;49m\u001b[43m(\u001b[49m\u001b[43mstates\u001b[49m\u001b[43m)\u001b[49m,total_states))\n\u001b[32m      3\u001b[39m     \u001b[38;5;28;01mfor\u001b[39;00m index, array \u001b[38;5;129;01min\u001b[39;00m \u001b[38;5;28menumerate\u001b[39m(ohe):\n\u001b[32m      4\u001b[39m         ohe[index][states[index]] = \u001b[32m1\u001b[39m\n",
      "\u001b[31mTypeError\u001b[39m: object of type 'int' has no len()"
     ]
    }
   ],
   "source": [
    "data = [['tom', 10], ['nick', 15], ['juli', 14]]\n",
    "\n",
    "df = pd.DataFrame(data, columns=[])"
   ]
  },
  {
   "cell_type": "code",
   "execution_count": 29,
   "metadata": {},
   "outputs": [
    {
     "name": "stdout",
     "output_type": "stream",
     "text": [
      "(4, 3)\n",
      "Index(['name', 'gender', 'location'], dtype='object')\n",
      "['Male' nan 'Female']\n",
      "02\n",
      "12\n",
      "22\n",
      "32\n"
     ]
    }
   ],
   "source": [
    "print(data.shape)\n",
    "print(data.columns)\n",
    "print(data[\"gender\"].unique())\n",
    "\n",
    "# Loop through the number of entry in the data\n",
    "for i in range(data.shape[0]):\n",
    "    print(f\"{i}2\")\n",
    "\n",
    "def one_hot_encode():\n",
    "    return"
   ]
  },
  {
   "cell_type": "code",
   "execution_count": null,
   "metadata": {},
   "outputs": [],
   "source": []
  },
  {
   "cell_type": "code",
   "execution_count": null,
   "metadata": {},
   "outputs": [],
   "source": []
  }
 ],
 "metadata": {
  "kernelspec": {
   "display_name": "venv",
   "language": "python",
   "name": "python3"
  },
  "language_info": {
   "codemirror_mode": {
    "name": "ipython",
    "version": 3
   },
   "file_extension": ".py",
   "mimetype": "text/x-python",
   "name": "python",
   "nbconvert_exporter": "python",
   "pygments_lexer": "ipython3",
   "version": "3.13.2"
  }
 },
 "nbformat": 4,
 "nbformat_minor": 2
}
