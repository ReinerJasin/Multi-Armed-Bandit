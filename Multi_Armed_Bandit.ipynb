{
  "nbformat": 4,
  "nbformat_minor": 0,
  "metadata": {
    "colab": {
      "provenance": [],
      "collapsed_sections": [
        "XfZdAok36d_l",
        "5am-odQqSFhY"
      ],
      "authorship_tag": "ABX9TyPYOCJtotL3jTeft4uF6nZ6",
      "include_colab_link": true
    },
    "kernelspec": {
      "name": "python3",
      "display_name": "Python 3"
    },
    "language_info": {
      "name": "python"
    }
  },
  "cells": [
    {
      "cell_type": "markdown",
      "metadata": {
        "id": "view-in-github",
        "colab_type": "text"
      },
      "source": [
        "<a href=\"https://colab.research.google.com/github/ReinerJasin/Multi-Armed-Bandit/blob/main/Multi_Armed_Bandit.ipynb\" target=\"_parent\"><img src=\"https://colab.research.google.com/assets/colab-badge.svg\" alt=\"Open In Colab\"/></a>"
      ]
    },
    {
      "cell_type": "markdown",
      "source": [
        "# Sample"
      ],
      "metadata": {
        "id": "ng6SrUzd_FPL"
      }
    },
    {
      "cell_type": "code",
      "source": [
        "import random\n",
        "import numpy as np\n",
        "import scipy.stats as stats\n",
        "import seaborn as sns\n",
        "import matplotlib.pyplot as plt\n",
        "import pandas as pd"
      ],
      "metadata": {
        "id": "8SdV8sSaAcDO"
      },
      "execution_count": null,
      "outputs": []
    },
    {
      "cell_type": "code",
      "source": [
        "class Bandit:\n",
        "    def __init__(self, payoff_probs):\n",
        "        self.actions = range(len(payoff_probs))\n",
        "        self.pay_offs = payoff_probs\n",
        "\n",
        "    def sample(self, action):\n",
        "        selector = random.random()\n",
        "        # we are going to keep it simple with 1 or 0 being the only rewards\n",
        "        return 1 if selector <= self.pay_offs[action] else 0"
      ],
      "metadata": {
        "id": "C9wv5y9h-fnR"
      },
      "execution_count": null,
      "outputs": []
    },
    {
      "cell_type": "code",
      "source": [
        "def initial_explore_agent(bandit, iterations, initial_rounds = 10):\n",
        "    \"\"\"Initially explore initial_rounds times and then stick to the best action.\"\"\"\n",
        "    pay_offs = dict()\n",
        "    best_action = -1\n",
        "\n",
        "    for i in range(iterations):\n",
        "        # for the initial rounds pick a random action\n",
        "        if i < initial_rounds:\n",
        "            a = random.choice(bandit.actions)\n",
        "            r = bandit.sample(a)\n",
        "\n",
        "            #update rewards\n",
        "            if a in pay_offs:\n",
        "                pay_offs[a].append(r)\n",
        "            else:\n",
        "                pay_offs[a] = [r]\n",
        "        # otherwise pick the best one thus far\n",
        "        else:\n",
        "            if (best_action == -1):\n",
        "                # check for the action with the best average payoff\n",
        "                mean_dict = {}\n",
        "                for key,val in pay_offs.items():\n",
        "                    mean_dict[key] = np.mean(val)\n",
        "                best_action = max(mean_dict, key=mean_dict.get)\n",
        "            a = best_action\n",
        "\n",
        "            r = bandit.sample(a)\n",
        "\n",
        "        yield a, r"
      ],
      "metadata": {
        "id": "8uW4WTfA_Gzf"
      },
      "execution_count": null,
      "outputs": []
    },
    {
      "cell_type": "code",
      "source": [
        "def epsilon_greedy_agent(bandit, iterations, epsilon = 0.2, initial_rounds = 1):\n",
        "    \"\"\"Use the epsilon-greedy algorithm by performing the action with the best average\n",
        "    payoff with the probability (1-epsilon), otherwise pick a random action to keep\n",
        "    exploring.\"\"\"\n",
        "\n",
        "    pay_offs = dict()\n",
        "\n",
        "    for i in range(iterations):\n",
        "        # sometimes randomly pick an action to explore\n",
        "        if random.random() < epsilon or i < initial_rounds:\n",
        "            a = random.choice(bandit.actions)\n",
        "        # otherwise pick the best one thus far\n",
        "        else:\n",
        "            # check for the action with the best average payoff\n",
        "            new_dict = {}\n",
        "            for key,val in pay_offs.items():\n",
        "                new_dict[key] = np.mean(val)\n",
        "            a = max(new_dict, key=new_dict.get)\n",
        "\n",
        "        r = bandit.sample(a)\n",
        "\n",
        "        #update rewards\n",
        "        if a in pay_offs:\n",
        "            pay_offs[a].append(r)\n",
        "        else:\n",
        "            pay_offs[a] = [r]\n",
        "\n",
        "        yield a, r"
      ],
      "metadata": {
        "id": "NhH_prIE_Je1"
      },
      "execution_count": null,
      "outputs": []
    },
    {
      "cell_type": "code",
      "source": [
        "def random_agent(bandit, iterations):\n",
        "    \"\"\"Randomly select an action and reward.\"\"\"\n",
        "\n",
        "    for i in range(iterations):\n",
        "        a = random.choice(bandit.actions)\n",
        "        r = bandit.sample(a)\n",
        "        yield a, r"
      ],
      "metadata": {
        "id": "SRk5hfE0ARaP"
      },
      "execution_count": null,
      "outputs": []
    },
    {
      "cell_type": "code",
      "source": [
        "pay_offs = [0.25, 0.3, 0.5, 0.1, 0.3, 0.25, 0]\n",
        "bandit = Bandit(pay_offs)\n",
        "\n",
        "# methods = [random_agent, initial_explore_agent, epsilon_greedy_agent, decaying_epsilon_greedy_agent, optimal_agent]\n",
        "f = plt.figure()\n",
        "\n",
        "methods = [initial_explore_agent, epsilon_greedy_agent]\n",
        "\n",
        "number_of_iterations = 200\n",
        "number_of_trials = 50\n",
        "\n",
        "for m in range(len(methods)):\n",
        "  method = methods[m]\n",
        "  total_rewards = []\n",
        "\n",
        "  list_of_cumulative_rewards = []\n",
        "  fan = []\n",
        "\n",
        "  for trial in range(number_of_trials):\n",
        "    total_reward = 0\n",
        "    cumulative_reward = []\n",
        "\n",
        "    for a, r in method(bandit, number_of_iterations):\n",
        "      total_reward += r\n",
        "      cumulative_reward.append(total_reward)\n",
        "\n",
        "    #Store the results\n",
        "    total_rewards.append(total_reward)\n",
        "    if trial == 0:\n",
        "      fan = pd.DataFrame(cumulative_reward, columns=['y'])\n",
        "      fan['x'] = fan.index+1\n",
        "    else:\n",
        "      fan2 = pd.DataFrame(cumulative_reward, columns=['y'])\n",
        "      fan2['x'] = fan2.index+1\n",
        "\n",
        "      fan = pd.concat([fan, fan2], ignore_index=True)\n",
        "\n",
        "    list_of_cumulative_rewards.append(cumulative_reward)\n",
        "\n",
        "  sns.lineplot(x='x', y='y', data=fan)  #default is to use bootstrap to calculate confidence interval\n",
        "\n",
        "  print(method.__name__, \":\", np.mean(total_rewards))\n",
        "\n",
        "plt.title(\"Cumulative reward for each algorithm over {} iterations with {} trials.\".format(number_of_iterations, number_of_trials))\n",
        "plt.ylabel(\"Cumulative reward\")\n",
        "plt.xlabel(\"Iterations\")\n",
        "plt.legend([method.__name__ for method in methods])\n",
        "\n",
        "f.savefig(\"Iterations.pdf\", bbox_inches='tight')\n",
        "f.savefig(\"Iterations.svg\", bbox_inches='tight')\n",
        "\n",
        "plt.show()"
      ],
      "metadata": {
        "colab": {
          "base_uri": "https://localhost:8080/"
        },
        "id": "nfUe4Aaj_Mji",
        "outputId": "8269828f-923c-495e-ea25-c67d679a7aba"
      },
      "execution_count": null,
      "outputs": [
        {
          "output_type": "stream",
          "name": "stdout",
          "text": [
            "initial_explore_agent : 63.82\n",
            "epsilon_greedy_agent : 73.0\n"
          ]
        },
        {
          "output_type": "display_data",
          "data": {
            "text/plain": [
              "<Figure size 640x480 with 1 Axes>"
            ],
            "image/png": "[encoded data removed]"
          },
          "metadata": {}
        }
      ]
    },
    {
      "cell_type": "markdown",
      "source": [
        "## Experimental"
      ],
      "metadata": {
        "id": "KwA9oQYtvfBu"
      }
    },
    {
      "cell_type": "code",
      "source": [
        "distribution = np.random.choice(np.arange(1, 7), p=[0.2, 0.2, 0.2, 0.2, 0.1, 0.1])"
      ],
      "metadata": {
        "id": "8rpc-TQn_T_L"
      },
      "execution_count": null,
      "outputs": []
    },
    {
      "cell_type": "code",
      "source": [
        "distribution"
      ],
      "metadata": {
        "colab": {
          "base_uri": "https://localhost:8080/"
        },
        "id": "6X3OgSPhvjaf",
        "outputId": "0d3964b2-bd14-4428-f397-ae761c6f514b"
      },
      "execution_count": null,
      "outputs": [
        {
          "output_type": "execute_result",
          "data": {
            "text/plain": [
              "5"
            ]
          },
          "metadata": {},
          "execution_count": 8
        }
      ]
    },
    {
      "cell_type": "markdown",
      "source": [
        "# **1. Introduction to Multi-Armed Bandit (MAB)**"
      ],
      "metadata": {
        "id": "bUsGf-jYaWYn"
      }
    },
    {
      "cell_type": "markdown",
      "source": [
        "The Multi-Armed Bandit (MAB) problem is a reinforcement learning problem that demonstrates AI agent decision-making ability under uncertainty. It represents the tradeoff between exploration (gathering more information) and exploitation (making the best decision based on current knowledge) to maximize rewards in the long run.\n"
      ],
      "metadata": {
        "id": "ysTvmfQ5YTSi"
      }
    },
    {
      "cell_type": "markdown",
      "source": [
        "> **Real-World Analogy:**\n",
        ">\n",
        ">Imagine you are at a casino with multiple slot machines (each representing an \"arm\" in Multi Armed Bandit). Each machine provides a reward for the player, but the way machine choose the amount of reward is fully hidden from the player.\n",
        ">\n",
        ">Your goal is to maximize your total earnings by deciding which machine to play. If you always play the machine that seems best based on limited experience, you might miss out on an even better machine. On the other hand, if you keep testing all machines indefinitely, you may lose potential rewards."
      ],
      "metadata": {
        "id": "rehV6kV8gxpJ"
      }
    },
    {
      "cell_type": "markdown",
      "source": [
        "**Applications of MAB:**\n",
        "- Online Advertising -- Selecting the best ad to display to maximize click-through rate (CTR).\n",
        "- A/B Testing -- Finding the most effective design, strategy, or content.\n",
        "- Recommender Systems -- Choosing the best content or product for users.\n",
        "- Clinical Trials -- Allocating patients to the most promising treatments.\n",
        "- Dynamic Pricing -- Adjusting prices dynamically to maximize revenue.\n",
        "<br><br>"
      ],
      "metadata": {
        "id": "5_87y4uDhaF1"
      }
    },
    {
      "cell_type": "markdown",
      "source": [
        "\n",
        "\n",
        "---\n",
        "\n"
      ],
      "metadata": {
        "id": "Q64AmJKm8x3b"
      }
    },
    {
      "cell_type": "markdown",
      "source": [
        "# **2. Formal Definition of the Multi-Armed Bandit Problem**"
      ],
      "metadata": {
        "id": "7reoOwO9hlqy"
      }
    },
    {
      "cell_type": "markdown",
      "source": [
        "The MAB problem can be formulated mathematically as follows:\n",
        "- There are K possible actions (arms), denoted as\n",
        "$A$ = {𝑎1,𝑎2,...,𝑎𝐾}.\n",
        "- Each arm $a_{i}$ has an unknown reward distribution $R_{i}$.\n",
        "- At each time step $t$, an agent selects an arm $a_{t}$ and receives a reward $r_{t}$.\n",
        "- The objective is to maximize the cumulative reward over $T$ time steps."
      ],
      "metadata": {
        "id": "KFECJCZb4lKP"
      }
    },
    {
      "cell_type": "markdown",
      "source": [
        "**Regret in MAB:**\n",
        "- Regret measures how much reward is lost by not always choosing the optimal arm.\n",
        "- Cumulative regret at time $T$ is given by:\n",
        "<br>\n",
        "\\begin{align}\n",
        "R(T) = \\sum_{t=1}^{T} (\\mu^* - \\mu_{a_t})\n",
        "\\end{align}\n",
        "<br>\n",
        "where:\n",
        "\n",
        "  - $μ^*$ is the expected reward of the best arm.\n",
        "  - $μ_{a_{t}}$ is the expected reward of the arm chosen at time $t$.\n",
        "\n",
        "<br>\n",
        "A good MAB strategy minimizes regret over time by efficiently balancing exploration and exploitation.\n",
        "<br><br>"
      ],
      "metadata": {
        "id": "IxGsznxN71gn"
      }
    },
    {
      "cell_type": "markdown",
      "source": [
        "\n",
        "\n",
        "---\n",
        "\n"
      ],
      "metadata": {
        "id": "tArtIBDf_bgG"
      }
    },
    {
      "cell_type": "markdown",
      "source": [
        "# **3. Exploration vs. Exploitation Tradeoff**"
      ],
      "metadata": {
        "id": "j8jkuoqV_FVi"
      }
    },
    {
      "cell_type": "markdown",
      "source": [
        "A key challenge in MAB is deciding between:\n",
        "- Exploration -- Trying new arms to gather more information about their rewards.\n",
        "- Exploitation -- Choosing the best-known arm to maximize immediate rewards.\n",
        "\n",
        "A naive strategy that always exploits (e.g., always picking the best arm observed so far) may get stuck in a suboptimal solution. Conversely, a purely exploratory strategy wastes opportunities for higher rewards.\n",
        "\n",
        "The goal of MAB algorithms is to find a balance between these two strategies."
      ],
      "metadata": {
        "id": "WSCZBg1L_NL_"
      }
    },
    {
      "cell_type": "markdown",
      "source": [
        "\n",
        "\n",
        "---\n",
        "\n"
      ],
      "metadata": {
        "id": "YeuN91qm_UQ8"
      }
    },
    {
      "cell_type": "markdown",
      "source": [
        "# **4. Multi-Armed Bandit Algorithms**"
      ],
      "metadata": {
        "id": "LNmtGWvF_KYI"
      }
    },
    {
      "cell_type": "markdown",
      "source": [
        "There are various strategies for solving the MAB problem. Below are some of the most common ones."
      ],
      "metadata": {
        "id": "4Yru01_D_ORo"
      }
    },
    {
      "cell_type": "markdown",
      "source": [
        "# A. ϵ-Greedy Algorithm"
      ],
      "metadata": {
        "id": "Oblelum17q-v"
      }
    },
    {
      "cell_type": "markdown",
      "source": [
        "## Import Libraries"
      ],
      "metadata": {
        "id": "TYXUfTen4jrb"
      }
    },
    {
      "cell_type": "code",
      "source": [
        "import math\n",
        "import random\n",
        "import numpy as np\n",
        "\n",
        "from random import gauss"
      ],
      "metadata": {
        "id": "hURFrg5UyFpC"
      },
      "execution_count": null,
      "outputs": []
    },
    {
      "cell_type": "markdown",
      "source": [
        "## Hyperparameter for simulation (Adjust accordingly)"
      ],
      "metadata": {
        "id": "YU_lKCD74sIJ"
      }
    },
    {
      "cell_type": "code",
      "source": [
        "NUM_OF_BANDITS = 3                  # Number of bandits can be choose\n",
        "EPSILON = 0.1                       # Epsilon is the probability of exploration\n",
        "INITIAL_STEP = NUM_OF_BANDITS       # Initial step to give prior information to agent (min value = 1)\n",
        "NUM_OF_TRIALS = 300                 # How many times the agents can take action"
      ],
      "metadata": {
        "id": "MTkClWwY4vYg"
      },
      "execution_count": null,
      "outputs": []
    },
    {
      "cell_type": "markdown",
      "source": [
        "## Create bandit model"
      ],
      "metadata": {
        "id": "Ubs3rIoo4lqd"
      }
    },
    {
      "cell_type": "code",
      "source": [
        "# Bandit class represents AI Agent\n",
        "class Bandit:\n",
        "  def __init__(self, mean, variance):\n",
        "    self.result = []\n",
        "    self.mean = mean\n",
        "    self.variance = variance\n",
        "\n",
        "  # The agent choose a bandit, so the bandit regenerate number as a reward to be returned\n",
        "  def random_number(self):\n",
        "    rand_result = random.gauss(self.mean, math.sqrt(self.variance))\n",
        "    self.result.append(rand_result)\n",
        "\n",
        "    return rand_result"
      ],
      "metadata": {
        "id": "oc6-zFzAvkRo"
      },
      "execution_count": null,
      "outputs": []
    },
    {
      "cell_type": "markdown",
      "source": [
        "## Create bandit with randomized mean and variance"
      ],
      "metadata": {
        "id": "hKUKDwDe5BYY"
      }
    },
    {
      "cell_type": "code",
      "source": [
        "# Bandit empty list\n",
        "list_bandit = []\n",
        "\n",
        "# Create a number of bandits\n",
        "n_arms = NUM_OF_BANDITS\n",
        "\n",
        "# Randomize the mean variance for each of bandits\n",
        "for i in range(n_arms):\n",
        "  rand_mean = random.randint(0,20)\n",
        "  rand_var = random.uniform(0,10)\n",
        "\n",
        "  # Create bandit with corresponding mean and variance\n",
        "  list_bandit.append(Bandit(rand_mean, rand_var))"
      ],
      "metadata": {
        "id": "O5aYP5vEyfXN"
      },
      "execution_count": null,
      "outputs": []
    },
    {
      "cell_type": "markdown",
      "source": [
        "## (optional) Hardcoded mean and variance distribution"
      ],
      "metadata": {
        "id": "YOs_rrE2bfL4"
      }
    },
    {
      "cell_type": "code",
      "source": [
        "# HARDCODED VERSION\n",
        "list_bandit = [\n",
        "    # Bandit(-10, 3),\n",
        "    Bandit(-5, 5),\n",
        "    Bandit(-1,5),\n",
        "    Bandit(10,2),\n",
        "    # Bandit(-3,10),\n",
        "]"
      ],
      "metadata": {
        "id": "kNYmKtjLXWiB"
      },
      "execution_count": null,
      "outputs": []
    },
    {
      "cell_type": "markdown",
      "source": [
        "## Function to help us later"
      ],
      "metadata": {
        "id": "w1YxLxV45fH2"
      }
    },
    {
      "cell_type": "code",
      "source": [
        "# Count mean of bandit\n",
        "# Input = item_list: list\n",
        "# Output = mean: int\n",
        "def count_mean(item_list):\n",
        "  total = 0\n",
        "\n",
        "  for item in item_list:\n",
        "    total += item\n",
        "\n",
        "  mean = total/len(item_list)\n",
        "  return mean\n",
        "  # print(mean)\n",
        "\n",
        "# Count variance of bandit\n",
        "# Input = item_list: list\n",
        "# Output = variance: int\n",
        "def count_variance(item_list):\n",
        "  total = 0\n",
        "  mean = count_mean(item_list)\n",
        "  for item in item_list:\n",
        "    total += math.pow(item-mean,2)\n",
        "\n",
        "  variance = total / len(item_list)\n",
        "  return variance\n",
        "  # print(variance)\n",
        "\n",
        "# FOR DEBUG ONLY\n",
        "def print_all_list():\n",
        "  for i, bandit in enumerate(list_bandit):\n",
        "    print(f'bandit {i+1} : {bandit.result}')"
      ],
      "metadata": {
        "id": "rfEHfoCY2DtR"
      },
      "execution_count": null,
      "outputs": []
    },
    {
      "cell_type": "markdown",
      "source": [
        "## (Debug) Simulate randomized by distribution, in real case, this is hidden"
      ],
      "metadata": {
        "id": "XfZdAok36d_l"
      }
    },
    {
      "cell_type": "code",
      "source": [
        "for bandit in list_bandit:\n",
        "  for i in range(10000):\n",
        "    result = bandit.random_number()\n",
        "    # bandit.result.append(result)\n",
        "    # print(f'Random - {i} = {result}')\n",
        "\n",
        "# print(list_bandit[0].result)"
      ],
      "metadata": {
        "id": "GF-7Bu1f1AmH"
      },
      "execution_count": null,
      "outputs": []
    },
    {
      "cell_type": "code",
      "source": [
        "for i, bandit in enumerate(list_bandit):\n",
        "  bandit_mean = count_mean(bandit.result)\n",
        "  bandit_var = count_variance(bandit.result)\n",
        "\n",
        "  print(f'BANDIT {i+1}')\n",
        "  print(f'original mean = {bandit.mean}')\n",
        "  print(f'counted mean = {bandit_mean}')\n",
        "  print()\n",
        "  print(f'original variance= {bandit.variance}')\n",
        "  print(f'counted variance= {bandit_var}')\n",
        "  print('====================================')"
      ],
      "metadata": {
        "colab": {
          "base_uri": "https://localhost:8080/"
        },
        "id": "JqbJodad3UVX",
        "outputId": "4274cab6-8803-4468-a0c9-91534cfde244"
      },
      "execution_count": null,
      "outputs": [
        {
          "output_type": "stream",
          "name": "stdout",
          "text": [
            "BANDIT 1\n",
            "original mean = 18\n",
            "counted mean = 17.97441180272735\n",
            "\n",
            "original variance= 6.543323560022144\n",
            "counted variance= 6.576845643971661\n",
            "====================================\n",
            "BANDIT 2\n",
            "original mean = 0\n",
            "counted mean = 0.003126982161977701\n",
            "\n",
            "original variance= 4.487987105085443\n",
            "counted variance= 4.448770880677415\n",
            "====================================\n",
            "BANDIT 3\n",
            "original mean = 3\n",
            "counted mean = 3.0356226825731083\n",
            "\n",
            "original variance= 6.765813537938579\n",
            "counted variance= 6.587688190695882\n",
            "====================================\n",
            "BANDIT 4\n",
            "original mean = 4\n",
            "counted mean = 3.982513263018566\n",
            "\n",
            "original variance= 8.341555170707384\n",
            "counted variance= 8.076617760731454\n",
            "====================================\n",
            "BANDIT 5\n",
            "original mean = 8\n",
            "counted mean = 8.001871361299994\n",
            "\n",
            "original variance= 1.562882951225828\n",
            "counted variance= 1.545238613163117\n",
            "====================================\n"
          ]
        }
      ]
    },
    {
      "cell_type": "markdown",
      "source": [
        "If the number almost match, the random is working properly"
      ],
      "metadata": {
        "id": "mBsiLbgt6263"
      }
    },
    {
      "cell_type": "markdown",
      "source": [
        "## Theory"
      ],
      "metadata": {
        "id": "gx5NutOM76mQ"
      }
    },
    {
      "cell_type": "markdown",
      "source": [
        "The epsilon-greedy algorithm is one of the simplest strategies for solving the MAB problem. It works as follows:\n",
        "- With probability ϵ, explore a random arm.\n",
        "- With probability 1-ϵ, exploit the arm with the highest estimated reward.\n",
        "\n",
        "Algorithm of Epsilon-Greedy:\n",
        "1. Initialize the estimated values of all arms to zero or a small positive number.\n",
        "2. For each trial:\n",
        "*  Generate a random number between 0 and 1.\n",
        "*  If the number is less than ϵ, select a random arm (exploration).\n",
        "* Otherwise, select the arm with the highest estimated reward (exploitation).\n",
        "* Update the estimated reward of the selected arm based on the observed reward."
      ],
      "metadata": {
        "id": "onVH43f-78Mi"
      }
    },
    {
      "cell_type": "markdown",
      "source": [
        "## Bandit Exploration Step"
      ],
      "metadata": {
        "id": "boImrtaC5ZUI"
      }
    },
    {
      "cell_type": "code",
      "source": [
        "mean_list = np.zeros(NUM_OF_BANDITS)\n",
        "\n",
        "# print(random.uniform(0,1))\n",
        "\n",
        "# Initial step\n",
        "for i in range(INITIAL_STEP):\n",
        "  bandit_choice = np.random.randint(0,NUM_OF_BANDITS)\n",
        "  # print(bandit_choice)\n",
        "  result = list_bandit[bandit_choice].random_number()\n",
        "  # print(result)\n",
        "\n",
        "# print_all_list()\n",
        "\n",
        "# E-Greedy\n",
        "for i in range(NUM_OF_TRIALS):\n",
        "  prob = np.random.choice([0,1], p=[EPSILON,1-EPSILON])\n",
        "  if prob == 0:\n",
        "    # Explore\n",
        "    bandit_choice = np.random.randint(0,NUM_OF_BANDITS)\n",
        "    # print(\"EXPLORE BANDIT \", (bandit_choice+1))\n",
        "    result = list_bandit[bandit_choice].random_number()\n",
        "  else:\n",
        "    # Exploit\n",
        "    for i, bandit in enumerate(list_bandit):\n",
        "      if bandit.result:\n",
        "        mean_list[i] = count_mean(bandit.result)\n",
        "\n",
        "    # print(f'MEAN LIST = {mean_list}')\n",
        "    bandit_choice = np.argmax(mean_list)\n",
        "    # print(f'best bandit index to exploit: {bandit_choice}')\n",
        "\n",
        "    # After getting the index of best bandit, we take the action\n",
        "    result = list_bandit[bandit_choice].random_number()\n"
      ],
      "metadata": {
        "id": "9_V819yb4c6i"
      },
      "execution_count": null,
      "outputs": []
    },
    {
      "cell_type": "code",
      "source": [
        "print_all_list()\n",
        "\n",
        "for i, bandit in enumerate(list_bandit):\n",
        "  if bandit.result:\n",
        "    mean_list[i] = count_mean(bandit.result)\n",
        "\n",
        "print(mean_list)\n",
        "\n",
        "print(f'Best bandit to exploit = Bandit {np.argmax(mean_list) + 1}')"
      ],
      "metadata": {
        "colab": {
          "base_uri": "https://localhost:8080/"
        },
        "id": "wb_MjG4WCifJ",
        "outputId": "be2c343b-3d78-4c2f-b1ce-6e50a70a5b92"
      },
      "execution_count": null,
      "outputs": [
        {
          "output_type": "stream",
          "name": "stdout",
          "text": [
            "bandit 1 : [-7.926302454707799, -4.233063254729167, -7.338564660723927, -6.730852191255093, -3.591054610345484, -5.853567593622333, -2.5420145035388053, -0.7932123857906195, -4.006903003301155, -2.2193210131707835, -9.002110063319023, -4.947411747041908]\n",
            "bandit 2 : [-4.659562605612859, -3.348868254743279, -3.9151947972543355, 1.3290651324462468, -5.215731733296584, 0.05762347342974472, -1.8079666573325386, 3.70516212721522, -0.8066894490676553, -0.20766474178750982]\n",
            "bandit 3 : [10.362756001058907, 9.47185597512451, 11.636433114243566, 11.237608240845086, 11.169166684321342, 8.58596736975307, 8.477114350075674, 12.432469383680935, 12.811337240144162, 11.180093498497907, 9.89116918420014, 8.603159314613595, 11.274204398476897, 11.815827197909536, 10.642485584643238, 9.286073868591249, 10.915910436117144, 8.81392771795528, 12.44757909286788, 11.243331752066432, 9.042735341345544, 8.081542801644604, 12.23427987270726, 10.749303246464718, 9.187184040203137, 10.773960820621399, 10.562365610310747, 10.450190061125754, 10.902067627241973, 10.556280120702874, 8.564686890306046, 11.83346824222671, 12.542831609447203, 10.220353812796938, 10.525692743212197, 12.466993108104614, 9.338843633019907, 11.708549457212406, 8.345391772931979, 10.748334951002018, 12.13736446262454, 7.225011944394577, 10.181847649201336, 10.845562953204606, 12.369486556919727, 11.560773442236325, 11.331795456693246, 8.195328814863307, 9.727696589089659, 8.912206138578574, 8.23967763858828, 10.51345960789679, 11.996705309213434, 9.492496514019129, 11.300756352568165, 11.275175275047722, 12.863680997660023, 11.264174068508796, 12.324989745502997, 11.567496502771494, 12.448954176213466, 7.990171245564138, 9.207616671290413, 10.085778573520145, 9.178755678727892, 11.552870354092951, 10.450938741060401, 7.322779711088897, 8.704623419552377, 10.865987554131427, 8.66558661977948, 8.978332833598923, 9.600995457622947, 12.046596097254039, 11.638536519402276, 10.96726312049851, 10.154137387556414, 10.091142264681645, 10.729777902010479, 11.642774939762091, 9.868763800532871, 9.916929504724196, 10.243700431532462, 8.223611301716765, 9.083113637698796, 8.74094830075982, 11.909204251566017, 9.75421106130655, 10.866402731306252, 7.68043193676402, 11.123148404575593, 10.984692997586436, 9.797280084637302, 10.83847259186747, 11.286592854721672, 10.002815301705667, 10.819676921700506, 10.111914300491108, 11.0933551043075, 12.528445835033441, 9.660275722126611, 9.443892246382928, 10.461536760069968, 11.88133294244584, 8.543336962583913, 9.60438004752733, 13.819562356709051, 12.30134596544768, 10.76363156209153, 9.155772138824242, 10.089664059006196, 10.2606174087315, 9.896457189819534, 9.001877398477099, 11.442246055957057, 7.534605885744929, 10.415702393613149, 10.569725546986717, 8.822850282097871, 9.020060108223849, 9.247205505647184, 11.500280051232284, 9.830860618584925, 12.143709831192318, 9.89328695738298, 8.558957131607828, 9.521366785401222, 9.289738252778921, 10.050837752803742, 11.895684011155982, 7.276644197857466, 7.649762471336617, 10.706278868424842, 9.607601487690737, 10.500325776873261, 9.363797895507853, 10.387250223423427, 11.512219429845633, 8.90460348737961, 9.34621924425927, 10.769917120739779, 10.860931891068173, 10.939466036652343, 10.82921599627728, 8.721760556041959, 9.79096475297828, 11.828295689405817, 7.32957123454182, 8.355725429004004, 9.24134033282523, 10.031948684903224, 9.927397221794983, 9.683474235784379, 9.507438029281072, 9.110969267835912, 9.166289958400055, 11.99865117167049, 7.785126608522335, 8.81584392259019, 11.486615252725956, 9.610103275681691, 12.57991470469257, 10.049102117451342, 10.861049444405115, 9.13764616804854, 11.18028906482596, 9.129981671900204, 11.835269385584663, 10.328383503152331, 10.026139703388298, 12.496305641183048, 8.616759775846582, 10.952483906000744, 10.813853852225257, 8.736898614700907, 11.875735690700456, 8.78763449556129, 8.74001587700422, 11.000568744733712, 10.86070206244748, 11.319548578788412, 11.859473447992698, 10.92928698813312, 10.377581769156121, 7.601741956840291, 10.603653120764358, 9.127841394705069, 7.097747126116493, 10.018134779681965, 8.666185940125384, 10.189534457838457, 10.366723202407746, 10.475917029480753, 7.290999752877132, 8.085262308025545, 8.961578211201282, 10.28912410355382, 11.330510994219724, 9.55344477795351, 7.4968325164812075, 10.597800662753372, 8.219332828048973, 10.57722376815528, 11.999840340302308, 11.010646612603498, 10.06457929367295, 7.725789221453094, 9.368786609622234, 11.89761704932135, 10.717877072772643, 11.177137803586877, 9.034970318074349, 11.931734279782342, 9.189532941602883, 9.125854679798525, 10.351711012594262, 10.400388315423166, 9.244114206133984, 11.345829935398823, 9.184584580454455, 11.697320304454198, 9.276189338507685, 7.880834447886469, 8.423387869926303, 10.990731817604999, 9.9371531022685, 9.580127974380778, 9.37665296131017, 10.857382913315265, 10.403100592443312, 9.382759971085173, 7.899901346195605, 5.58878503398259, 9.224558521068957, 8.444166429926572, 9.568246328793498, 10.912146288773656, 9.379013042573241, 12.0189356484134, 7.039771544046756, 10.679672182365287, 10.830664759473576, 10.803283745139163, 11.670436186390154, 8.029253133521138, 11.49440457654009, 10.933256401370736, 12.368885178245936, 8.270369985138611, 8.832570378449283, 8.683119336813123, 7.5301811333896485, 9.189223012450139, 8.85643274067748, 12.901908417122918, 9.093163865256944, 10.340805672651841, 10.0583547988741, 9.501143175600593, 11.713914827420442, 7.58173136078735, 12.137709731014244, 10.041095365758459, 9.435277343526717, 10.037904195443367, 11.079789146523794, 8.843915264454909, 10.310217243714925, 10.910020516887688, 8.843550483219854, 9.773914591087538, 10.827900998521043, 10.994823388572861, 9.199620932472737, 10.109805530207817, 9.340241881060045, 7.46085557487271, 8.36121362891592, 11.531239897164994, 9.156631930344114, 10.867630197673623]\n",
            "[-4.93203146 -1.48698275 10.0948242 ]\n",
            "Best bandit to exploit = Bandit 3\n"
          ]
        }
      ]
    },
    {
      "cell_type": "markdown",
      "source": [
        "## DEBUG (CHECK RESULT)"
      ],
      "metadata": {
        "id": "5am-odQqSFhY"
      }
    },
    {
      "cell_type": "code",
      "source": [
        "# DEBUG ONLY\n",
        "for i, bandit in enumerate(list_bandit):\n",
        "  bandit_mean = count_mean(bandit.result)\n",
        "  bandit_var = count_variance(bandit.result)\n",
        "\n",
        "  print(f'BANDIT {i+1} is rolled {len(bandit.result)} times')\n",
        "  print(f'original mean = {bandit.mean}')\n",
        "  print(f'counted mean = {bandit_mean}')\n",
        "  print()\n",
        "  print(f'original variance= {bandit.variance}')\n",
        "  print(f'counted variance= {bandit_var}')\n",
        "  print('====================================')"
      ],
      "metadata": {
        "colab": {
          "base_uri": "https://localhost:8080/"
        },
        "id": "plcGtQyjHLcR",
        "outputId": "b684764f-3388-4598-9090-7161dc4bfd7e"
      },
      "execution_count": null,
      "outputs": [
        {
          "output_type": "stream",
          "name": "stdout",
          "text": [
            "BANDIT 1 is rolled 12 times\n",
            "original mean = -5\n",
            "counted mean = -4.9320314567955075\n",
            "\n",
            "original variance= 5\n",
            "counted variance= 5.729271880779597\n",
            "====================================\n",
            "BANDIT 2 is rolled 10 times\n",
            "original mean = -1\n",
            "counted mean = -1.4869827506003548\n",
            "\n",
            "original variance= 5\n",
            "counted variance= 7.2808449997756854\n",
            "====================================\n",
            "BANDIT 3 is rolled 281 times\n",
            "original mean = 10\n",
            "counted mean = 10.094824196046774\n",
            "\n",
            "original variance= 2\n",
            "counted variance= 1.927478251338363\n",
            "====================================\n"
          ]
        }
      ]
    },
    {
      "cell_type": "markdown",
      "source": [
        "## Counting the regret index"
      ],
      "metadata": {
        "id": "cUQgCsHXs3KE"
      }
    },
    {
      "cell_type": "code",
      "source": [
        "# Total reward\n",
        "total_reward = 0\n",
        "for i, bandit in enumerate(list_bandit):\n",
        "  sum(bandit.result)\n",
        "  total_reward += sum(bandit.result)\n",
        "\n",
        "print(f'Total Rewards                = {total_reward}')\n",
        "\n",
        "# Largest expected monetary value\n",
        "total_expected_value = max(mean_list) * (NUM_OF_TRIALS + INITIAL_STEP)\n",
        "print(f'Total Expected Value         = {total_expected_value}')\n",
        "\n",
        "regret = total_expected_value - total_reward\n",
        "print(f'Regret                       = {regret}')\n",
        "\n",
        "print()\n",
        "print('================================================')\n",
        "print()\n",
        "\n",
        "print(f'Rewards / step               = {total_reward / (NUM_OF_TRIALS + INITIAL_STEP)}')\n",
        "\n",
        "print(f'Best Expected Value / step   = { max(mean_list) }')\n",
        "\n",
        "print(f'Regret / step                = {regret / (NUM_OF_TRIALS + INITIAL_STEP)}')\n"
      ],
      "metadata": {
        "id": "4AnLVPm1R7Qw",
        "colab": {
          "base_uri": "https://localhost:8080/"
        },
        "outputId": "69973e1a-34b4-4dff-dea0-75a52d4a57b6"
      },
      "execution_count": null,
      "outputs": [
        {
          "output_type": "stream",
          "name": "stdout",
          "text": [
            "Total Rewards                = 2762.591394101594\n",
            "Total Expected Value         = 3058.7317314021725\n",
            "Regret                       = 296.1403373005787\n",
            "\n",
            "================================================\n",
            "\n",
            "Rewards / step               = 9.117463346869947\n",
            "Best Expected Value / step   = 10.094824196046774\n",
            "Regret / step                = 0.9773608491768274\n"
          ]
        }
      ]
    },
    {
      "cell_type": "markdown",
      "source": [
        "# 2. Upper Confidence Bound (UCB)"
      ],
      "metadata": {
        "id": "YhRBnVVNZ69N"
      }
    },
    {
      "cell_type": "markdown",
      "source": [
        "## Import Libraries"
      ],
      "metadata": {
        "id": "JdNFUPaNEeR3"
      }
    },
    {
      "cell_type": "code",
      "source": [
        "import math\n",
        "import random\n",
        "import numpy as np\n",
        "import matplotlib.pyplot as plt"
      ],
      "metadata": {
        "id": "2Wv3QOOoiAZF"
      },
      "execution_count": null,
      "outputs": []
    },
    {
      "cell_type": "markdown",
      "source": [
        "## Set hyperparameters"
      ],
      "metadata": {
        "id": "RKBJtGkCEhA0"
      }
    },
    {
      "cell_type": "code",
      "source": [
        "NUM_OF_BANDITS = 3\n",
        "INITIAL_STEP = NUM_OF_BANDITS\n",
        "NUM_OF_TRIALS = 300"
      ],
      "metadata": {
        "id": "eR6wHjZlivHv"
      },
      "execution_count": null,
      "outputs": []
    },
    {
      "cell_type": "markdown",
      "source": [
        "## Define UCB_Bandit Model Class"
      ],
      "metadata": {
        "id": "wcH7FQPeEjmq"
      }
    },
    {
      "cell_type": "markdown",
      "source": [
        "UCB Bandit Model Class should have all these properties:\n",
        "- **[Unobserved]** `mean` average number produced when this bandit is chosen\n",
        "- **[Unobserved]** `variance` variance added to the mean when this bandit is chosen to add uncertainty to the bandit model rewards\n",
        "- `number_being_selected` variable to record how many times the bandit is chosen\n",
        "- `sum_of_reward` variable to record the total rewards produced by this bandit\n",
        "- `ucb_value` variable to count the ucb index used for making decision in choosing bandit\n"
      ],
      "metadata": {
        "id": "I8FHszhB_qSM"
      }
    },
    {
      "cell_type": "code",
      "source": [
        "class UCB_Bandit:\n",
        "  def __init__(self, mean, variance):\n",
        "    # Hidden properties from the user\n",
        "    self.mean = mean\n",
        "    self.variance = variance\n",
        "\n",
        "    self.number_being_selected = 0        # number of times the bandit is selected in total\n",
        "    self.sum_of_reward = 0                # sum of rewards of the benadit\n",
        "    self.ucb_value = 0\n",
        "\n",
        "  def average_rewards(self):\n",
        "    average_reward = self.sum_of_reward / self.number_being_selected\n",
        "\n",
        "    return average_reward\n",
        "\n",
        "  # The agent choose a bandit, so the bandit regenerate number as a reward to be returned\n",
        "  def roll_a_number(self):\n",
        "    rand_result = random.gauss(self.mean, math.sqrt(self.variance))\n",
        "\n",
        "    # print(f'rolled a get number of {rand_result}')\n",
        "\n",
        "    # Add sum of reward with the rolled number\n",
        "    self.sum_of_reward += rand_result\n",
        "\n",
        "    # Increment the number of being selected\n",
        "    self.number_being_selected += 1\n",
        "\n",
        "    self.update_ucb_value()\n",
        "\n",
        "    return rand_result\n",
        "\n",
        "  def update_ucb_value(self):\n",
        "    self.ucb_value = self.average_rewards() + math.sqrt(2 * math.log(current_round) / self.number_being_selected)\n"
      ],
      "metadata": {
        "id": "es1m7NJQZ_TL"
      },
      "execution_count": null,
      "outputs": []
    },
    {
      "cell_type": "markdown",
      "source": [
        "## Create UCB bandit according to the scenario"
      ],
      "metadata": {
        "id": "13Gb3A97i4VE"
      }
    },
    {
      "cell_type": "code",
      "source": [
        "# Bandit empty list\n",
        "list_bandit = []\n",
        "\n",
        "# Randomize the mean variance for each of bandits\n",
        "for i in range(NUM_OF_BANDITS):\n",
        "\n",
        "  # rand_mean = random.randint(0,2)\n",
        "  rand_mean = random.uniform(0,2)\n",
        "  rand_var = random.uniform(0,1)\n",
        "\n",
        "  # Create UCB bandit\n",
        "  temp_bandit = UCB_Bandit(rand_mean, rand_var)\n",
        "\n",
        "  # For debug only\n",
        "  # print(f'bandit {i} mean      : {temp_bandit.mean}')\n",
        "  # print(f'bandit {i} variance  : {temp_bandit.variance}')\n",
        "\n",
        "  # Add each bandit to the list of bandit\n",
        "  list_bandit.append(temp_bandit)\n",
        "\n",
        "print(f\"{NUM_OF_BANDITS} bandits successfully created\")"
      ],
      "metadata": {
        "colab": {
          "base_uri": "https://localhost:8080/"
        },
        "id": "o71zN2zAiEGf",
        "outputId": "76149253-2595-4883-8f6a-f1b767f9fade"
      },
      "execution_count": null,
      "outputs": [
        {
          "output_type": "stream",
          "name": "stdout",
          "text": [
            "3 bandits successfully created\n"
          ]
        }
      ]
    },
    {
      "cell_type": "markdown",
      "source": [
        "> HARDCODED SETTING (OPTIONAL)"
      ],
      "metadata": {
        "id": "UoVMrXdADgu3"
      }
    },
    {
      "cell_type": "code",
      "source": [
        "# # HARDCODED VERSION\n",
        "# list_bandit = [\n",
        "#     UCB_Bandit(mean=1.2, variance=0.5),\n",
        "#     UCB_Bandit(mean=0.8, variance=1.0),\n",
        "#     UCB_Bandit(mean=1.5, variance=0.3),\n",
        "#     UCB_Bandit(mean=1.0, variance=0.8),\n",
        "#     UCB_Bandit(mean=1.3, variance=0.6),\n",
        "# ]"
      ],
      "metadata": {
        "id": "ICOCJ5GrjY2Z"
      },
      "execution_count": null,
      "outputs": []
    },
    {
      "cell_type": "markdown",
      "source": [
        "As the initial step, we play each bandit at least once."
      ],
      "metadata": {
        "id": "JgWeJ_H9pNT9"
      }
    },
    {
      "cell_type": "code",
      "source": [
        "current_round = 1\n",
        "result_history = []"
      ],
      "metadata": {
        "id": "sdMSSLe_iol-"
      },
      "execution_count": null,
      "outputs": []
    },
    {
      "cell_type": "code",
      "source": [
        "# Loop for each bandit\n",
        "for i in range(NUM_OF_BANDITS):\n",
        "  rand_result = list_bandit[i].roll_a_number()\n",
        "  result_history.append(rand_result)\n",
        "  # print(rand_result)\n",
        "\n",
        "  current_round += 1"
      ],
      "metadata": {
        "id": "ZvZuITNRo7QT"
      },
      "execution_count": null,
      "outputs": []
    },
    {
      "cell_type": "markdown",
      "source": [
        "Run the UCB1 Algorithm for the rest of the number of trials"
      ],
      "metadata": {
        "id": "8xxvB0Bh0Sdb"
      }
    },
    {
      "cell_type": "code",
      "source": [
        "for i in range(NUM_OF_TRIALS - NUM_OF_BANDITS):\n",
        "# for i in range(1):\n",
        "\n",
        "  # Find bandit with the largest UCB Value\n",
        "  best_bandit_ucb = np.argmax([bandit.ucb_value for bandit in list_bandit])\n",
        "  # print(f'best bandit UCB: {best_bandit_ucb}')\n",
        "  # print(f'best bandit UCB: {list_bandit[best_bandit_ucb].ucb_value}')\n",
        "\n",
        "  rand_result = list_bandit[best_bandit_ucb].roll_a_number()\n",
        "  result_history.append(rand_result)\n",
        "  # print(rand_result)\n",
        "\n",
        "  current_round += 1"
      ],
      "metadata": {
        "id": "saKamW6x0Hmf"
      },
      "execution_count": null,
      "outputs": []
    },
    {
      "cell_type": "markdown",
      "source": [
        "The Upper Confidence Bound 1 Algorithm Works perfectly, now for the sake of comparison, let's make a simulation if the bandit uses 100% exploration technique."
      ],
      "metadata": {
        "id": "wDwdpYddBIsl"
      }
    },
    {
      "cell_type": "code",
      "source": [
        "explore_results = []\n",
        "\n",
        "for i in range(NUM_OF_TRIALS):\n",
        "\n",
        "  # Randomize which bandit will be chosen\n",
        "  rand_bandit = random.randint(0, NUM_OF_BANDITS-1)\n",
        "\n",
        "  # Roll the bandit\n",
        "  rand_result = list_bandit[rand_bandit].roll_a_number()\n",
        "  explore_results.append(rand_result)"
      ],
      "metadata": {
        "id": "Hes69xobBYiI"
      },
      "execution_count": null,
      "outputs": []
    },
    {
      "cell_type": "markdown",
      "source": [
        "Let's see the amount of reward we got in cummulative compared to the maximum value we can earn to see the regret level.\n",
        "\n",
        "Also we will see which one is the best bandit by looking at the parameter or bandit reward average and UCB value."
      ],
      "metadata": {
        "id": "Cm1xaAdq6bbW"
      }
    },
    {
      "cell_type": "code",
      "source": [
        "# UCB1 Result\n",
        "y1 = np.cumsum(result_history)\n",
        "\n",
        "# Best possible reward\n",
        "best_mean = np.argmax([bandit.mean for bandit in list_bandit])\n",
        "y2 = [i*best_mean for i in range(0,current_round-1)]\n",
        "\n",
        "# Simulated 100% Explore\n",
        "y3 = np.cumsum(explore_results)\n",
        "\n",
        "# Generate x values\n",
        "x = range(len(y1))\n",
        "\n",
        "# Plot the lines\n",
        "plt.figure(figsize=(6, 4))\n",
        "plt.plot(x, y1, label='Earned Reward', color='green', alpha=0.7)\n",
        "plt.plot(x, y2, label='Maximum expected reward', color='grey', alpha=0.7)\n",
        "plt.plot(x, y3, label='Random Explore', color='purple', alpha=0.7)\n",
        "\n",
        "# Labels and title\n",
        "plt.xlabel('Number of trials')\n",
        "plt.ylabel('Rewards')\n",
        "plt.title('Upper Confidence Bound 1 - Algorithm Performance')\n",
        "plt.legend()\n",
        "plt.grid()\n",
        "\n",
        "# Show the plot\n",
        "plt.show()"
      ],
      "metadata": {
        "colab": {
          "base_uri": "https://localhost:8080/",
          "height": 410
        },
        "id": "jNC3Upt_6bIY",
        "outputId": "ed987048-bc2b-4f67-9f83-10a63db547d7"
      },
      "execution_count": null,
      "outputs": [
        {
          "output_type": "display_data",
          "data": {
            "text/plain": [
              "<Figure size 600x400 with 1 Axes>"
            ],
            "image/png": "[encoded data removed]"
          },
          "metadata": {}
        }
      ]
    },
    {
      "cell_type": "code",
      "source": [
        "print(f'Current round: {current_round}')\n",
        "\n",
        "for i in range(NUM_OF_BANDITS):\n",
        "  print(f'Sum of Reward    :{list_bandit[i].sum_of_reward}')\n",
        "  print(f'Num selected     :{list_bandit[i].number_being_selected}')\n",
        "  print(f'Average          :{list_bandit[i].average_rewards()}')\n",
        "  print(f'UCB Value        :{list_bandit[i].ucb_value}')\n",
        "  print('=================================')\n",
        "\n",
        "print(f'bandit index to choose for next step: {np.argmax([bandit.ucb_value for bandit in list_bandit])}')\n",
        "print(f'bandit index to choose for next step: {np.argmax([bandit.average_rewards() for bandit in list_bandit])}')"
      ],
      "metadata": {
        "colab": {
          "base_uri": "https://localhost:8080/"
        },
        "id": "W_FAAukYvB8N",
        "outputId": "1d0283fa-adc1-43b3-8caa-5fb088d5dc8d"
      },
      "execution_count": null,
      "outputs": [
        {
          "output_type": "stream",
          "name": "stdout",
          "text": [
            "Current round: 301\n",
            "Sum of Reward    :126.84815653476223\n",
            "Num selected     :105\n",
            "Average          :1.2080776812834497\n",
            "UCB Value        :1.5377849183676435\n",
            "=================================\n",
            "Sum of Reward    :80.42864861040026\n",
            "Num selected     :106\n",
            "Average          :0.7587608359471723\n",
            "UCB Value        :1.0869091648321123\n",
            "=================================\n",
            "Sum of Reward    :654.5852646002144\n",
            "Num selected     :389\n",
            "Average          :1.6827384694092915\n",
            "UCB Value        :1.8540349061133299\n",
            "=================================\n",
            "bandit index to choose for next step: 2\n",
            "bandit index to choose for next step: 2\n"
          ]
        }
      ]
    },
    {
      "cell_type": "markdown",
      "source": [
        "Let's validate the result and see the parameter of each bandit's mean and variance."
      ],
      "metadata": {
        "id": "cgKKHcjo2yz5"
      }
    },
    {
      "cell_type": "code",
      "source": [
        "print(f'Current round: {current_round}')\n",
        "\n",
        "for i in range(NUM_OF_BANDITS):\n",
        "  print(f'bandit index-{i}')\n",
        "  print(f'Sum of Reward    :{list_bandit[i].sum_of_reward}')\n",
        "  print(f'Num selected     :{list_bandit[i].number_being_selected}')\n",
        "  print(f'Average          :{list_bandit[i].average_rewards()}')\n",
        "  print(f'UCB Value        :{list_bandit[i].ucb_value}')\n",
        "  print('====================================')\n",
        "  print(f'MEAN        :{list_bandit[i].mean}')\n",
        "  print(f'VARIANCE    :{list_bandit[i].variance}')\n",
        "  print('====================================')\n",
        "  print()\n",
        "\n",
        "print(f'largest mean bandit index: {np.argmax([bandit.mean for bandit in list_bandit])}')"
      ],
      "metadata": {
        "colab": {
          "base_uri": "https://localhost:8080/"
        },
        "id": "7UqMBvzevDhQ",
        "outputId": "4038f965-af93-43f7-b948-0af335462bda"
      },
      "execution_count": null,
      "outputs": [
        {
          "output_type": "stream",
          "name": "stdout",
          "text": [
            "Current round: 301\n",
            "bandit index-0\n",
            "Sum of Reward    :126.84815653476223\n",
            "Num selected     :105\n",
            "Average          :1.2080776812834497\n",
            "UCB Value        :1.5377849183676435\n",
            "====================================\n",
            "MEAN        :1.1740749975821145\n",
            "VARIANCE    :0.34288800898337146\n",
            "====================================\n",
            "\n",
            "bandit index-1\n",
            "Sum of Reward    :80.42864861040026\n",
            "Num selected     :106\n",
            "Average          :0.7587608359471723\n",
            "UCB Value        :1.0869091648321123\n",
            "====================================\n",
            "MEAN        :0.7651153718420753\n",
            "VARIANCE    :0.4217111193732561\n",
            "====================================\n",
            "\n",
            "bandit index-2\n",
            "Sum of Reward    :654.5852646002144\n",
            "Num selected     :389\n",
            "Average          :1.6827384694092915\n",
            "UCB Value        :1.8540349061133299\n",
            "====================================\n",
            "MEAN        :1.6669021376789461\n",
            "VARIANCE    :0.07965824286123213\n",
            "====================================\n",
            "\n",
            "largest mean bandit index: 2\n"
          ]
        }
      ]
    },
    {
      "cell_type": "code",
      "source": [],
      "metadata": {
        "id": "GlbIjpEb3R3k"
      },
      "execution_count": null,
      "outputs": []
    }
  ]
}